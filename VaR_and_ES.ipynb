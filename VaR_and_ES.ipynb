{
  "nbformat": 4,
  "nbformat_minor": 0,
  "metadata": {
    "colab": {
      "name": "VaR_and_ES.ipynb",
      "provenance": [],
      "collapsed_sections": [],
      "authorship_tag": "ABX9TyOLD+kBx0wdN4zj9jUYBG+F",
      "include_colab_link": true
    },
    "kernelspec": {
      "name": "python3",
      "display_name": "Python 3"
    },
    "language_info": {
      "name": "python"
    }
  },
  "cells": [
    {
      "cell_type": "markdown",
      "metadata": {
        "id": "view-in-github",
        "colab_type": "text"
      },
      "source": [
        "<a href=\"https://colab.research.google.com/github/Phoebe125/Var_and_ES/blob/main/VaR_and_ES.ipynb\" target=\"_parent\"><img src=\"https://colab.research.google.com/assets/colab-badge.svg\" alt=\"Open In Colab\"/></a>"
      ]
    },
    {
      "cell_type": "code",
      "execution_count": null,
      "metadata": {
        "colab": {
          "base_uri": "https://localhost:8080/"
        },
        "id": "dgu53dSKFUbO",
        "outputId": "7280a9d8-6c94-4585-d601-8b2e33514f6c"
      },
      "outputs": [
        {
          "output_type": "stream",
          "name": "stdout",
          "text": [
            "Collecting yfinance\n",
            "  Downloading yfinance-0.1.70-py2.py3-none-any.whl (26 kB)\n",
            "Collecting requests>=2.26\n",
            "  Downloading requests-2.27.1-py2.py3-none-any.whl (63 kB)\n",
            "\u001b[K     |████████████████████████████████| 63 kB 1.5 MB/s \n",
            "\u001b[?25hCollecting lxml>=4.5.1\n",
            "  Downloading lxml-4.8.0-cp37-cp37m-manylinux_2_17_x86_64.manylinux2014_x86_64.manylinux_2_24_x86_64.whl (6.4 MB)\n",
            "\u001b[K     |████████████████████████████████| 6.4 MB 41.9 MB/s \n",
            "\u001b[?25hRequirement already satisfied: multitasking>=0.0.7 in /usr/local/lib/python3.7/dist-packages (from yfinance) (0.0.10)\n",
            "Requirement already satisfied: pandas>=0.24.0 in /usr/local/lib/python3.7/dist-packages (from yfinance) (1.3.5)\n",
            "Requirement already satisfied: numpy>=1.15 in /usr/local/lib/python3.7/dist-packages (from yfinance) (1.21.5)\n",
            "Requirement already satisfied: python-dateutil>=2.7.3 in /usr/local/lib/python3.7/dist-packages (from pandas>=0.24.0->yfinance) (2.8.2)\n",
            "Requirement already satisfied: pytz>=2017.3 in /usr/local/lib/python3.7/dist-packages (from pandas>=0.24.0->yfinance) (2018.9)\n",
            "Requirement already satisfied: six>=1.5 in /usr/local/lib/python3.7/dist-packages (from python-dateutil>=2.7.3->pandas>=0.24.0->yfinance) (1.15.0)\n",
            "Requirement already satisfied: idna<4,>=2.5 in /usr/local/lib/python3.7/dist-packages (from requests>=2.26->yfinance) (2.10)\n",
            "Requirement already satisfied: certifi>=2017.4.17 in /usr/local/lib/python3.7/dist-packages (from requests>=2.26->yfinance) (2021.10.8)\n",
            "Requirement already satisfied: charset-normalizer~=2.0.0 in /usr/local/lib/python3.7/dist-packages (from requests>=2.26->yfinance) (2.0.12)\n",
            "Requirement already satisfied: urllib3<1.27,>=1.21.1 in /usr/local/lib/python3.7/dist-packages (from requests>=2.26->yfinance) (1.24.3)\n",
            "Installing collected packages: requests, lxml, yfinance\n",
            "  Attempting uninstall: requests\n",
            "    Found existing installation: requests 2.23.0\n",
            "    Uninstalling requests-2.23.0:\n",
            "      Successfully uninstalled requests-2.23.0\n",
            "  Attempting uninstall: lxml\n",
            "    Found existing installation: lxml 4.2.6\n",
            "    Uninstalling lxml-4.2.6:\n",
            "      Successfully uninstalled lxml-4.2.6\n",
            "\u001b[31mERROR: pip's dependency resolver does not currently take into account all the packages that are installed. This behaviour is the source of the following dependency conflicts.\n",
            "google-colab 1.0.0 requires requests~=2.23.0, but you have requests 2.27.1 which is incompatible.\n",
            "datascience 0.10.6 requires folium==0.2.1, but you have folium 0.8.3 which is incompatible.\u001b[0m\n",
            "Successfully installed lxml-4.8.0 requests-2.27.1 yfinance-0.1.70\n"
          ]
        }
      ],
      "source": [
        "!pip install yfinance #설치"
      ]
    },
    {
      "cell_type": "code",
      "source": [
        "import numpy as np\n",
        "import pandas as pd\n",
        "import matplotlib.pyplot as plt\n",
        "from scipy import stats\n",
        "import yfinance as yf"
      ],
      "metadata": {
        "id": "mSgyeAX-FcyG"
      },
      "execution_count": null,
      "outputs": []
    },
    {
      "cell_type": "markdown",
      "source": [
        "Historical simulation (non-parametric VaR)"
      ],
      "metadata": {
        "id": "RjnWEDAfFvyf"
      }
    },
    {
      "cell_type": "code",
      "source": [
        "aapl = yf.download('AAPL', '2020-01-01')['Adj Close'] #애플의 종가 불러오기\n",
        "aapl"
      ],
      "metadata": {
        "colab": {
          "base_uri": "https://localhost:8080/"
        },
        "id": "egIW3aNbFsrz",
        "outputId": "64a2fc66-64d8-4f05-92bb-b4a7c24b41d6"
      },
      "execution_count": null,
      "outputs": [
        {
          "output_type": "stream",
          "name": "stdout",
          "text": [
            "\r[*********************100%***********************]  1 of 1 completed\n"
          ]
        },
        {
          "output_type": "execute_result",
          "data": {
            "text/plain": [
              "Date\n",
              "2020-01-02     73.894333\n",
              "2020-01-03     73.175926\n",
              "2020-01-06     73.758995\n",
              "2020-01-07     73.412109\n",
              "2020-01-08     74.593056\n",
              "                 ...    \n",
              "2022-03-24    174.070007\n",
              "2022-03-25    174.720001\n",
              "2022-03-28    175.600006\n",
              "2022-03-29    178.960007\n",
              "2022-03-30    177.770004\n",
              "Name: Adj Close, Length: 566, dtype: float64"
            ]
          },
          "metadata": {},
          "execution_count": 3
        }
      ]
    },
    {
      "cell_type": "code",
      "source": [
        "aapl = aapl[-501:] #총 501개의 최신 데이터\n",
        "aapl = aapl.pct_change() #퍼센트 변화로 나타냄\n",
        "aapl.dropna(inplace = True)\n",
        "aapl"
      ],
      "metadata": {
        "colab": {
          "base_uri": "https://localhost:8080/"
        },
        "id": "qy3UIWOCF8EQ",
        "outputId": "9c560f8f-9743-4a35-a91e-4d9b62e04bcf"
      },
      "execution_count": null,
      "outputs": [
        {
          "output_type": "execute_result",
          "data": {
            "text/plain": [
              "Date\n",
              "2020-04-07   -0.011583\n",
              "2020-04-08    0.025595\n",
              "2020-04-09    0.007216\n",
              "2020-04-13    0.019628\n",
              "2020-04-14    0.050503\n",
              "                ...   \n",
              "2022-03-24    0.022678\n",
              "2022-03-25    0.003734\n",
              "2022-03-28    0.005037\n",
              "2022-03-29    0.019134\n",
              "2022-03-30   -0.006650\n",
              "Name: Adj Close, Length: 500, dtype: float64"
            ]
          },
          "metadata": {},
          "execution_count": 4
        }
      ]
    },
    {
      "cell_type": "code",
      "source": [
        "desc = aapl.describe()\n",
        "desc.loc['var'] = aapl.var()\n",
        "desc.loc['skew'] = aapl.skew()\n",
        "desc.loc['kurt'] = aapl.kurtosis()\n",
        "desc"
      ],
      "metadata": {
        "colab": {
          "base_uri": "https://localhost:8080/"
        },
        "id": "PexkJmKsGK8g",
        "outputId": "965acdc4-5b23-4f67-8e03-3b5fcd9facbb"
      },
      "execution_count": null,
      "outputs": [
        {
          "output_type": "execute_result",
          "data": {
            "text/plain": [
              "count    500.000000\n",
              "mean       0.002207\n",
              "std        0.019253\n",
              "min       -0.080061\n",
              "25%       -0.008422\n",
              "50%        0.001480\n",
              "75%        0.013725\n",
              "max        0.104689\n",
              "var        0.000371\n",
              "skew       0.131979\n",
              "kurt       2.403142\n",
              "Name: Adj Close, dtype: float64"
            ]
          },
          "metadata": {},
          "execution_count": 5
        }
      ]
    },
    {
      "cell_type": "code",
      "source": [
        "aapl.std() * np.sqrt(252) #연간 변동성"
      ],
      "metadata": {
        "colab": {
          "base_uri": "https://localhost:8080/"
        },
        "id": "UJV3ARETG0XF",
        "outputId": "a98078e2-4e3d-4b80-a934-221ab91cbe0a"
      },
      "execution_count": null,
      "outputs": [
        {
          "output_type": "execute_result",
          "data": {
            "text/plain": [
              "0.30562705669977386"
            ]
          },
          "metadata": {},
          "execution_count": 6
        }
      ]
    },
    {
      "cell_type": "code",
      "source": [
        "plt.plot(abs(aapl)); #시각화"
      ],
      "metadata": {
        "colab": {
          "base_uri": "https://localhost:8080/",
          "height": 264
        },
        "id": "1xzWZevIHBAi",
        "outputId": "b9746e71-53df-4b6d-e98f-3dc97d532e69"
      },
      "execution_count": null,
      "outputs": [
        {
          "output_type": "display_data",
          "data": {
            "text/plain": [
              "<Figure size 432x288 with 1 Axes>"
            ],
            "image/png": "[encoded data removed]"
          },
          "metadata": {
            "needs_background": "light"
          }
        }
      ]
    },
    {
      "cell_type": "code",
      "source": [
        "plt.hist(aapl, bins=30);#히스토그램으로 시각화"
      ],
      "metadata": {
        "colab": {
          "base_uri": "https://localhost:8080/",
          "height": 264
        },
        "id": "lSuzS9xXHFUi",
        "outputId": "e3460f71-dcc2-45b9-c29f-e84a0c35261f"
      },
      "execution_count": null,
      "outputs": [
        {
          "output_type": "display_data",
          "data": {
            "text/plain": [
              "<Figure size 432x288 with 1 Axes>"
            ],
            "image/png": "[encoded data removed]"
          },
          "metadata": {
            "needs_background": "light"
          }
        }
      ]
    },
    {
      "cell_type": "code",
      "source": [
        "rtns = aapl.sort_values() #안좋은 순서대로 나타내기\n",
        "rtns"
      ],
      "metadata": {
        "colab": {
          "base_uri": "https://localhost:8080/"
        },
        "id": "5Lh9thfZHSbW",
        "outputId": "2ceb3009-0633-4e2d-f478-dcfb8a757b3b"
      },
      "execution_count": null,
      "outputs": [
        {
          "output_type": "execute_result",
          "data": {
            "text/plain": [
              "Date\n",
              "2020-09-03   -0.080061\n",
              "2020-09-08   -0.067295\n",
              "2020-10-30   -0.056018\n",
              "2020-06-11   -0.048010\n",
              "2020-10-28   -0.046312\n",
              "                ...   \n",
              "2020-08-21    0.051532\n",
              "2021-03-01    0.053851\n",
              "2020-10-12    0.063521\n",
              "2022-01-28    0.069778\n",
              "2020-07-31    0.104689\n",
              "Name: Adj Close, Length: 500, dtype: float64"
            ]
          },
          "metadata": {},
          "execution_count": 9
        }
      ]
    },
    {
      "cell_type": "code",
      "source": [
        "#99% 신뢰수준에서 1일 VaR(%)\n",
        "historical_VaR = rtns[4]\n",
        "round(historical_VaR,4)"
      ],
      "metadata": {
        "colab": {
          "base_uri": "https://localhost:8080/"
        },
        "id": "T1Rl9wkBHlgR",
        "outputId": "ee5b2a9e-7855-47cf-cb3a-8aa4af0b0943"
      },
      "execution_count": null,
      "outputs": [
        {
          "output_type": "execute_result",
          "data": {
            "text/plain": [
              "-0.0463"
            ]
          },
          "metadata": {},
          "execution_count": 10
        }
      ]
    },
    {
      "cell_type": "code",
      "source": [
        "#Expected Shortfall\n",
        "historical_ES = rtns[:5].mean()\n",
        "round(historical_ES,4)"
      ],
      "metadata": {
        "colab": {
          "base_uri": "https://localhost:8080/"
        },
        "id": "SXhRrpu-H5us",
        "outputId": "45d03b80-9e9b-4834-f60a-69c18a69511d"
      },
      "execution_count": null,
      "outputs": [
        {
          "output_type": "execute_result",
          "data": {
            "text/plain": [
              "-0.0595"
            ]
          },
          "metadata": {},
          "execution_count": 11
        }
      ]
    },
    {
      "cell_type": "markdown",
      "source": [
        "Historical Simulation VaR for a portfolio of stocks"
      ],
      "metadata": {
        "id": "0bbsUqu2ImTB"
      }
    },
    {
      "cell_type": "code",
      "source": [
        "aapl = yf.download('AAPL', '2020-01-01')['Adj Close'] #애플의 종가 불러오기\n",
        "nke = yf.download('NKE', '2020-01-01')['Adj Close'] #애플의 종가 불러오기\n",
        "jnj = yf.download('JNJ', '2020-01-01')['Adj Close'] #애플의 종가 불러오기\n",
        "dis = yf.download('DIS', '2020-01-01')['Adj Close'] #애플의 종가 불러오기\n",
        "xom = yf.download('XOM', '2020-01-01')['Adj Close'] #애플의 종가 불러오기"
      ],
      "metadata": {
        "colab": {
          "base_uri": "https://localhost:8080/"
        },
        "id": "GeCMmfqIITez",
        "outputId": "b5fb7c4f-9cdc-4ff0-b6d3-d80e7a3dc391"
      },
      "execution_count": null,
      "outputs": [
        {
          "output_type": "stream",
          "name": "stdout",
          "text": [
            "[*********************100%***********************]  1 of 1 completed\n",
            "[*********************100%***********************]  1 of 1 completed\n",
            "[*********************100%***********************]  1 of 1 completed\n",
            "[*********************100%***********************]  1 of 1 completed\n",
            "[*********************100%***********************]  1 of 1 completed\n"
          ]
        }
      ]
    },
    {
      "cell_type": "code",
      "source": [
        "stocks = pd.DataFrame()\n",
        "stocks['AAPL'] = aapl\n",
        "stocks['NKE'] = nke\n",
        "stocks['JNJ'] = jnj\n",
        "stocks['DIS'] =dis\n",
        "stocks['XOM'] = xom\n",
        "stocks"
      ],
      "metadata": {
        "colab": {
          "base_uri": "https://localhost:8080/",
          "height": 454
        },
        "id": "5OGeJNJaI6Mz",
        "outputId": "b58cf336-5daa-48f7-c265-90818a14984c"
      },
      "execution_count": null,
      "outputs": [
        {
          "output_type": "execute_result",
          "data": {
            "text/plain": [
              "                  AAPL         NKE         JNJ         DIS        XOM\n",
              "Date                                                                 \n",
              "2020-01-02   73.894325  100.250923  137.729294  148.199997  61.174900\n",
              "2020-01-03   73.175926   99.976273  136.134674  146.500000  60.683086\n",
              "2020-01-06   73.759003   99.887985  135.964874  145.649994  61.149006\n",
              "2020-01-07   73.412109   99.838936  136.795166  145.699997  60.648575\n",
              "2020-01-08   74.593048   99.613327  136.776321  145.399994  59.733971\n",
              "...                ...         ...         ...         ...        ...\n",
              "2022-03-24  174.070007  132.080002  175.240005  138.960007  83.379997\n",
              "2022-03-25  174.720001  133.699997  176.919998  139.139999  85.199997\n",
              "2022-03-28  175.600006  134.809998  177.830002  138.720001  82.809998\n",
              "2022-03-29  178.960007  139.139999  177.740005  142.380005  82.370003\n",
              "2022-03-30  177.770004  138.539993  179.589996  140.960007  83.779999\n",
              "\n",
              "[566 rows x 5 columns]"
            ],
            "text/html": [
              "\n",
              "  <div id=\"df-1836d925-7ff5-4eaf-a388-4e68242b0d9a\">\n",
              "    <div class=\"colab-df-container\">\n",
              "      <div>\n",
              "<style scoped>\n",
              "    .dataframe tbody tr th:only-of-type {\n",
              "        vertical-align: middle;\n",
              "    }\n",
              "\n",
              "    .dataframe tbody tr th {\n",
              "        vertical-align: top;\n",
              "    }\n",
              "\n",
              "    .dataframe thead th {\n",
              "        text-align: right;\n",
              "    }\n",
              "</style>\n",
              "<table border=\"1\" class=\"dataframe\">\n",
              "  <thead>\n",
              "    <tr style=\"text-align: right;\">\n",
              "      <th></th>\n",
              "      <th>AAPL</th>\n",
              "      <th>NKE</th>\n",
              "      <th>JNJ</th>\n",
              "      <th>DIS</th>\n",
              "      <th>XOM</th>\n",
              "    </tr>\n",
              "    <tr>\n",
              "      <th>Date</th>\n",
              "      <th></th>\n",
              "      <th></th>\n",
              "      <th></th>\n",
              "      <th></th>\n",
              "      <th></th>\n",
              "    </tr>\n",
              "  </thead>\n",
              "  <tbody>\n",
              "    <tr>\n",
              "      <th>2020-01-02</th>\n",
              "      <td>73.894325</td>\n",
              "      <td>100.250923</td>\n",
              "      <td>137.729294</td>\n",
              "      <td>148.199997</td>\n",
              "      <td>61.174900</td>\n",
              "    </tr>\n",
              "    <tr>\n",
              "      <th>2020-01-03</th>\n",
              "      <td>73.175926</td>\n",
              "      <td>99.976273</td>\n",
              "      <td>136.134674</td>\n",
              "      <td>146.500000</td>\n",
              "      <td>60.683086</td>\n",
              "    </tr>\n",
              "    <tr>\n",
              "      <th>2020-01-06</th>\n",
              "      <td>73.759003</td>\n",
              "      <td>99.887985</td>\n",
              "      <td>135.964874</td>\n",
              "      <td>145.649994</td>\n",
              "      <td>61.149006</td>\n",
              "    </tr>\n",
              "    <tr>\n",
              "      <th>2020-01-07</th>\n",
              "      <td>73.412109</td>\n",
              "      <td>99.838936</td>\n",
              "      <td>136.795166</td>\n",
              "      <td>145.699997</td>\n",
              "      <td>60.648575</td>\n",
              "    </tr>\n",
              "    <tr>\n",
              "      <th>2020-01-08</th>\n",
              "      <td>74.593048</td>\n",
              "      <td>99.613327</td>\n",
              "      <td>136.776321</td>\n",
              "      <td>145.399994</td>\n",
              "      <td>59.733971</td>\n",
              "    </tr>\n",
              "    <tr>\n",
              "      <th>...</th>\n",
              "      <td>...</td>\n",
              "      <td>...</td>\n",
              "      <td>...</td>\n",
              "      <td>...</td>\n",
              "      <td>...</td>\n",
              "    </tr>\n",
              "    <tr>\n",
              "      <th>2022-03-24</th>\n",
              "      <td>174.070007</td>\n",
              "      <td>132.080002</td>\n",
              "      <td>175.240005</td>\n",
              "      <td>138.960007</td>\n",
              "      <td>83.379997</td>\n",
              "    </tr>\n",
              "    <tr>\n",
              "      <th>2022-03-25</th>\n",
              "      <td>174.720001</td>\n",
              "      <td>133.699997</td>\n",
              "      <td>176.919998</td>\n",
              "      <td>139.139999</td>\n",
              "      <td>85.199997</td>\n",
              "    </tr>\n",
              "    <tr>\n",
              "      <th>2022-03-28</th>\n",
              "      <td>175.600006</td>\n",
              "      <td>134.809998</td>\n",
              "      <td>177.830002</td>\n",
              "      <td>138.720001</td>\n",
              "      <td>82.809998</td>\n",
              "    </tr>\n",
              "    <tr>\n",
              "      <th>2022-03-29</th>\n",
              "      <td>178.960007</td>\n",
              "      <td>139.139999</td>\n",
              "      <td>177.740005</td>\n",
              "      <td>142.380005</td>\n",
              "      <td>82.370003</td>\n",
              "    </tr>\n",
              "    <tr>\n",
              "      <th>2022-03-30</th>\n",
              "      <td>177.770004</td>\n",
              "      <td>138.539993</td>\n",
              "      <td>179.589996</td>\n",
              "      <td>140.960007</td>\n",
              "      <td>83.779999</td>\n",
              "    </tr>\n",
              "  </tbody>\n",
              "</table>\n",
              "<p>566 rows × 5 columns</p>\n",
              "</div>\n",
              "      <button class=\"colab-df-convert\" onclick=\"convertToInteractive('df-1836d925-7ff5-4eaf-a388-4e68242b0d9a')\"\n",
              "              title=\"Convert this dataframe to an interactive table.\"\n",
              "              style=\"display:none;\">\n",
              "        \n",
              "  <svg xmlns=\"http://www.w3.org/2000/svg\" height=\"24px\"viewBox=\"0 0 24 24\"\n",
              "       width=\"24px\">\n",
              "    <path d=\"M0 0h24v24H0V0z\" fill=\"none\"/>\n",
              "    <path d=\"M18.56 5.44l.94 2.06.94-2.06 2.06-.94-2.06-.94-.94-2.06-.94 2.06-2.06.94zm-11 1L8.5 8.5l.94-2.06 2.06-.94-2.06-.94L8.5 2.5l-.94 2.06-2.06.94zm10 10l.94 2.06.94-2.06 2.06-.94-2.06-.94-.94-2.06-.94 2.06-2.06.94z\"/><path d=\"M17.41 7.96l-1.37-1.37c-.4-.4-.92-.59-1.43-.59-.52 0-1.04.2-1.43.59L10.3 9.45l-7.72 7.72c-.78.78-.78 2.05 0 2.83L4 21.41c.39.39.9.59 1.41.59.51 0 1.02-.2 1.41-.59l7.78-7.78 2.81-2.81c.8-.78.8-2.07 0-2.86zM5.41 20L4 18.59l7.72-7.72 1.47 1.35L5.41 20z\"/>\n",
              "  </svg>\n",
              "      </button>\n",
              "      \n",
              "  <style>\n",
              "    .colab-df-container {\n",
              "      display:flex;\n",
              "      flex-wrap:wrap;\n",
              "      gap: 12px;\n",
              "    }\n",
              "\n",
              "    .colab-df-convert {\n",
              "      background-color: #E8F0FE;\n",
              "      border: none;\n",
              "      border-radius: 50%;\n",
              "      cursor: pointer;\n",
              "      display: none;\n",
              "      fill: #1967D2;\n",
              "      height: 32px;\n",
              "      padding: 0 0 0 0;\n",
              "      width: 32px;\n",
              "    }\n",
              "\n",
              "    .colab-df-convert:hover {\n",
              "      background-color: #E2EBFA;\n",
              "      box-shadow: 0px 1px 2px rgba(60, 64, 67, 0.3), 0px 1px 3px 1px rgba(60, 64, 67, 0.15);\n",
              "      fill: #174EA6;\n",
              "    }\n",
              "\n",
              "    [theme=dark] .colab-df-convert {\n",
              "      background-color: #3B4455;\n",
              "      fill: #D2E3FC;\n",
              "    }\n",
              "\n",
              "    [theme=dark] .colab-df-convert:hover {\n",
              "      background-color: #434B5C;\n",
              "      box-shadow: 0px 1px 3px 1px rgba(0, 0, 0, 0.15);\n",
              "      filter: drop-shadow(0px 1px 2px rgba(0, 0, 0, 0.3));\n",
              "      fill: #FFFFFF;\n",
              "    }\n",
              "  </style>\n",
              "\n",
              "      <script>\n",
              "        const buttonEl =\n",
              "          document.querySelector('#df-1836d925-7ff5-4eaf-a388-4e68242b0d9a button.colab-df-convert');\n",
              "        buttonEl.style.display =\n",
              "          google.colab.kernel.accessAllowed ? 'block' : 'none';\n",
              "\n",
              "        async function convertToInteractive(key) {\n",
              "          const element = document.querySelector('#df-1836d925-7ff5-4eaf-a388-4e68242b0d9a');\n",
              "          const dataTable =\n",
              "            await google.colab.kernel.invokeFunction('convertToInteractive',\n",
              "                                                     [key], {});\n",
              "          if (!dataTable) return;\n",
              "\n",
              "          const docLinkHtml = 'Like what you see? Visit the ' +\n",
              "            '<a target=\"_blank\" href=https://colab.research.google.com/notebooks/data_table.ipynb>data table notebook</a>'\n",
              "            + ' to learn more about interactive tables.';\n",
              "          element.innerHTML = '';\n",
              "          dataTable['output_type'] = 'display_data';\n",
              "          await google.colab.output.renderOutput(dataTable, element);\n",
              "          const docLink = document.createElement('div');\n",
              "          docLink.innerHTML = docLinkHtml;\n",
              "          element.appendChild(docLink);\n",
              "        }\n",
              "      </script>\n",
              "    </div>\n",
              "  </div>\n",
              "  "
            ]
          },
          "metadata": {},
          "execution_count": 13
        }
      ]
    },
    {
      "cell_type": "code",
      "source": [
        "stocks = stocks.iloc[-501:] #최근 500개의 데이터 사용\n",
        "stocks = stocks.pct_change() #퍼센트 변화로 값을 바꿈\n",
        "stocks.dropna(inplace = True)\n",
        "stocks"
      ],
      "metadata": {
        "colab": {
          "base_uri": "https://localhost:8080/",
          "height": 454
        },
        "id": "zDnyGrZKJZAQ",
        "outputId": "4f009658-694d-4bc6-bb4b-8c10c9a40c6d"
      },
      "execution_count": null,
      "outputs": [
        {
          "output_type": "execute_result",
          "data": {
            "text/plain": [
              "                AAPL       NKE       JNJ       DIS       XOM\n",
              "Date                                                        \n",
              "2020-04-07 -0.011582 -0.005554 -0.016314  0.016670  0.019026\n",
              "2020-04-08  0.025595  0.013546  0.042042 -0.001679  0.063288\n",
              "2020-04-09  0.007216  0.017468 -0.014170  0.033937 -0.016420\n",
              "2020-04-13  0.019627 -0.026846 -0.010338 -0.009569 -0.008579\n",
              "2020-04-14  0.050503  0.035638  0.044788  0.024444 -0.007717\n",
              "...              ...       ...       ...       ...       ...\n",
              "2022-03-24  0.022678 -0.006917  0.005162  0.009590  0.003007\n",
              "2022-03-25  0.003734  0.012265  0.009587  0.001295  0.021828\n",
              "2022-03-28  0.005037  0.008302  0.005144 -0.003019 -0.028052\n",
              "2022-03-29  0.019134  0.032119 -0.000506  0.026384 -0.005313\n",
              "2022-03-30 -0.006650 -0.004312  0.010408 -0.009973  0.017118\n",
              "\n",
              "[500 rows x 5 columns]"
            ],
            "text/html": [
              "\n",
              "  <div id=\"df-c43a0579-2f79-4114-ac2c-6a932fab3ebc\">\n",
              "    <div class=\"colab-df-container\">\n",
              "      <div>\n",
              "<style scoped>\n",
              "    .dataframe tbody tr th:only-of-type {\n",
              "        vertical-align: middle;\n",
              "    }\n",
              "\n",
              "    .dataframe tbody tr th {\n",
              "        vertical-align: top;\n",
              "    }\n",
              "\n",
              "    .dataframe thead th {\n",
              "        text-align: right;\n",
              "    }\n",
              "</style>\n",
              "<table border=\"1\" class=\"dataframe\">\n",
              "  <thead>\n",
              "    <tr style=\"text-align: right;\">\n",
              "      <th></th>\n",
              "      <th>AAPL</th>\n",
              "      <th>NKE</th>\n",
              "      <th>JNJ</th>\n",
              "      <th>DIS</th>\n",
              "      <th>XOM</th>\n",
              "    </tr>\n",
              "    <tr>\n",
              "      <th>Date</th>\n",
              "      <th></th>\n",
              "      <th></th>\n",
              "      <th></th>\n",
              "      <th></th>\n",
              "      <th></th>\n",
              "    </tr>\n",
              "  </thead>\n",
              "  <tbody>\n",
              "    <tr>\n",
              "      <th>2020-04-07</th>\n",
              "      <td>-0.011582</td>\n",
              "      <td>-0.005554</td>\n",
              "      <td>-0.016314</td>\n",
              "      <td>0.016670</td>\n",
              "      <td>0.019026</td>\n",
              "    </tr>\n",
              "    <tr>\n",
              "      <th>2020-04-08</th>\n",
              "      <td>0.025595</td>\n",
              "      <td>0.013546</td>\n",
              "      <td>0.042042</td>\n",
              "      <td>-0.001679</td>\n",
              "      <td>0.063288</td>\n",
              "    </tr>\n",
              "    <tr>\n",
              "      <th>2020-04-09</th>\n",
              "      <td>0.007216</td>\n",
              "      <td>0.017468</td>\n",
              "      <td>-0.014170</td>\n",
              "      <td>0.033937</td>\n",
              "      <td>-0.016420</td>\n",
              "    </tr>\n",
              "    <tr>\n",
              "      <th>2020-04-13</th>\n",
              "      <td>0.019627</td>\n",
              "      <td>-0.026846</td>\n",
              "      <td>-0.010338</td>\n",
              "      <td>-0.009569</td>\n",
              "      <td>-0.008579</td>\n",
              "    </tr>\n",
              "    <tr>\n",
              "      <th>2020-04-14</th>\n",
              "      <td>0.050503</td>\n",
              "      <td>0.035638</td>\n",
              "      <td>0.044788</td>\n",
              "      <td>0.024444</td>\n",
              "      <td>-0.007717</td>\n",
              "    </tr>\n",
              "    <tr>\n",
              "      <th>...</th>\n",
              "      <td>...</td>\n",
              "      <td>...</td>\n",
              "      <td>...</td>\n",
              "      <td>...</td>\n",
              "      <td>...</td>\n",
              "    </tr>\n",
              "    <tr>\n",
              "      <th>2022-03-24</th>\n",
              "      <td>0.022678</td>\n",
              "      <td>-0.006917</td>\n",
              "      <td>0.005162</td>\n",
              "      <td>0.009590</td>\n",
              "      <td>0.003007</td>\n",
              "    </tr>\n",
              "    <tr>\n",
              "      <th>2022-03-25</th>\n",
              "      <td>0.003734</td>\n",
              "      <td>0.012265</td>\n",
              "      <td>0.009587</td>\n",
              "      <td>0.001295</td>\n",
              "      <td>0.021828</td>\n",
              "    </tr>\n",
              "    <tr>\n",
              "      <th>2022-03-28</th>\n",
              "      <td>0.005037</td>\n",
              "      <td>0.008302</td>\n",
              "      <td>0.005144</td>\n",
              "      <td>-0.003019</td>\n",
              "      <td>-0.028052</td>\n",
              "    </tr>\n",
              "    <tr>\n",
              "      <th>2022-03-29</th>\n",
              "      <td>0.019134</td>\n",
              "      <td>0.032119</td>\n",
              "      <td>-0.000506</td>\n",
              "      <td>0.026384</td>\n",
              "      <td>-0.005313</td>\n",
              "    </tr>\n",
              "    <tr>\n",
              "      <th>2022-03-30</th>\n",
              "      <td>-0.006650</td>\n",
              "      <td>-0.004312</td>\n",
              "      <td>0.010408</td>\n",
              "      <td>-0.009973</td>\n",
              "      <td>0.017118</td>\n",
              "    </tr>\n",
              "  </tbody>\n",
              "</table>\n",
              "<p>500 rows × 5 columns</p>\n",
              "</div>\n",
              "      <button class=\"colab-df-convert\" onclick=\"convertToInteractive('df-c43a0579-2f79-4114-ac2c-6a932fab3ebc')\"\n",
              "              title=\"Convert this dataframe to an interactive table.\"\n",
              "              style=\"display:none;\">\n",
              "        \n",
              "  <svg xmlns=\"http://www.w3.org/2000/svg\" height=\"24px\"viewBox=\"0 0 24 24\"\n",
              "       width=\"24px\">\n",
              "    <path d=\"M0 0h24v24H0V0z\" fill=\"none\"/>\n",
              "    <path d=\"M18.56 5.44l.94 2.06.94-2.06 2.06-.94-2.06-.94-.94-2.06-.94 2.06-2.06.94zm-11 1L8.5 8.5l.94-2.06 2.06-.94-2.06-.94L8.5 2.5l-.94 2.06-2.06.94zm10 10l.94 2.06.94-2.06 2.06-.94-2.06-.94-.94-2.06-.94 2.06-2.06.94z\"/><path d=\"M17.41 7.96l-1.37-1.37c-.4-.4-.92-.59-1.43-.59-.52 0-1.04.2-1.43.59L10.3 9.45l-7.72 7.72c-.78.78-.78 2.05 0 2.83L4 21.41c.39.39.9.59 1.41.59.51 0 1.02-.2 1.41-.59l7.78-7.78 2.81-2.81c.8-.78.8-2.07 0-2.86zM5.41 20L4 18.59l7.72-7.72 1.47 1.35L5.41 20z\"/>\n",
              "  </svg>\n",
              "      </button>\n",
              "      \n",
              "  <style>\n",
              "    .colab-df-container {\n",
              "      display:flex;\n",
              "      flex-wrap:wrap;\n",
              "      gap: 12px;\n",
              "    }\n",
              "\n",
              "    .colab-df-convert {\n",
              "      background-color: #E8F0FE;\n",
              "      border: none;\n",
              "      border-radius: 50%;\n",
              "      cursor: pointer;\n",
              "      display: none;\n",
              "      fill: #1967D2;\n",
              "      height: 32px;\n",
              "      padding: 0 0 0 0;\n",
              "      width: 32px;\n",
              "    }\n",
              "\n",
              "    .colab-df-convert:hover {\n",
              "      background-color: #E2EBFA;\n",
              "      box-shadow: 0px 1px 2px rgba(60, 64, 67, 0.3), 0px 1px 3px 1px rgba(60, 64, 67, 0.15);\n",
              "      fill: #174EA6;\n",
              "    }\n",
              "\n",
              "    [theme=dark] .colab-df-convert {\n",
              "      background-color: #3B4455;\n",
              "      fill: #D2E3FC;\n",
              "    }\n",
              "\n",
              "    [theme=dark] .colab-df-convert:hover {\n",
              "      background-color: #434B5C;\n",
              "      box-shadow: 0px 1px 3px 1px rgba(0, 0, 0, 0.15);\n",
              "      filter: drop-shadow(0px 1px 2px rgba(0, 0, 0, 0.3));\n",
              "      fill: #FFFFFF;\n",
              "    }\n",
              "  </style>\n",
              "\n",
              "      <script>\n",
              "        const buttonEl =\n",
              "          document.querySelector('#df-c43a0579-2f79-4114-ac2c-6a932fab3ebc button.colab-df-convert');\n",
              "        buttonEl.style.display =\n",
              "          google.colab.kernel.accessAllowed ? 'block' : 'none';\n",
              "\n",
              "        async function convertToInteractive(key) {\n",
              "          const element = document.querySelector('#df-c43a0579-2f79-4114-ac2c-6a932fab3ebc');\n",
              "          const dataTable =\n",
              "            await google.colab.kernel.invokeFunction('convertToInteractive',\n",
              "                                                     [key], {});\n",
              "          if (!dataTable) return;\n",
              "\n",
              "          const docLinkHtml = 'Like what you see? Visit the ' +\n",
              "            '<a target=\"_blank\" href=https://colab.research.google.com/notebooks/data_table.ipynb>data table notebook</a>'\n",
              "            + ' to learn more about interactive tables.';\n",
              "          element.innerHTML = '';\n",
              "          dataTable['output_type'] = 'display_data';\n",
              "          await google.colab.output.renderOutput(dataTable, element);\n",
              "          const docLink = document.createElement('div');\n",
              "          docLink.innerHTML = docLinkHtml;\n",
              "          element.appendChild(docLink);\n",
              "        }\n",
              "      </script>\n",
              "    </div>\n",
              "  </div>\n",
              "  "
            ]
          },
          "metadata": {},
          "execution_count": 14
        }
      ]
    },
    {
      "cell_type": "code",
      "source": [
        "stock_returns = (stocks+1).cumprod()\n",
        "stock_returns"
      ],
      "metadata": {
        "colab": {
          "base_uri": "https://localhost:8080/",
          "height": 454
        },
        "id": "QhOGz4SAJn7o",
        "outputId": "94674831-ab4b-412a-e458-3517e00f61b9"
      },
      "execution_count": null,
      "outputs": [
        {
          "output_type": "execute_result",
          "data": {
            "text/plain": [
              "                AAPL       NKE       JNJ       DIS       XOM\n",
              "Date                                                        \n",
              "2020-04-07  0.988418  0.994446  0.983686  1.016670  1.019026\n",
              "2020-04-08  1.013716  1.007917  1.025043  1.014963  1.083519\n",
              "2020-04-09  1.021031  1.025523  1.010518  1.049407  1.065728\n",
              "2020-04-13  1.041071  0.997991  1.000072  1.039365  1.056585\n",
              "2020-04-14  1.093649  1.033558  1.044863  1.064772  1.048431\n",
              "...              ...       ...       ...       ...       ...\n",
              "2022-03-24  2.689251  1.586617  1.320466  1.395461  2.354025\n",
              "2022-03-25  2.699293  1.606077  1.333125  1.397268  2.405408\n",
              "2022-03-28  2.712889  1.619411  1.339982  1.393051  2.337932\n",
              "2022-03-29  2.764798  1.671425  1.339304  1.429805  2.325510\n",
              "2022-03-30  2.746413  1.664217  1.353244  1.415545  2.365318\n",
              "\n",
              "[500 rows x 5 columns]"
            ],
            "text/html": [
              "\n",
              "  <div id=\"df-4c0c77a0-7302-4a6e-a83b-9af62f1ee358\">\n",
              "    <div class=\"colab-df-container\">\n",
              "      <div>\n",
              "<style scoped>\n",
              "    .dataframe tbody tr th:only-of-type {\n",
              "        vertical-align: middle;\n",
              "    }\n",
              "\n",
              "    .dataframe tbody tr th {\n",
              "        vertical-align: top;\n",
              "    }\n",
              "\n",
              "    .dataframe thead th {\n",
              "        text-align: right;\n",
              "    }\n",
              "</style>\n",
              "<table border=\"1\" class=\"dataframe\">\n",
              "  <thead>\n",
              "    <tr style=\"text-align: right;\">\n",
              "      <th></th>\n",
              "      <th>AAPL</th>\n",
              "      <th>NKE</th>\n",
              "      <th>JNJ</th>\n",
              "      <th>DIS</th>\n",
              "      <th>XOM</th>\n",
              "    </tr>\n",
              "    <tr>\n",
              "      <th>Date</th>\n",
              "      <th></th>\n",
              "      <th></th>\n",
              "      <th></th>\n",
              "      <th></th>\n",
              "      <th></th>\n",
              "    </tr>\n",
              "  </thead>\n",
              "  <tbody>\n",
              "    <tr>\n",
              "      <th>2020-04-07</th>\n",
              "      <td>0.988418</td>\n",
              "      <td>0.994446</td>\n",
              "      <td>0.983686</td>\n",
              "      <td>1.016670</td>\n",
              "      <td>1.019026</td>\n",
              "    </tr>\n",
              "    <tr>\n",
              "      <th>2020-04-08</th>\n",
              "      <td>1.013716</td>\n",
              "      <td>1.007917</td>\n",
              "      <td>1.025043</td>\n",
              "      <td>1.014963</td>\n",
              "      <td>1.083519</td>\n",
              "    </tr>\n",
              "    <tr>\n",
              "      <th>2020-04-09</th>\n",
              "      <td>1.021031</td>\n",
              "      <td>1.025523</td>\n",
              "      <td>1.010518</td>\n",
              "      <td>1.049407</td>\n",
              "      <td>1.065728</td>\n",
              "    </tr>\n",
              "    <tr>\n",
              "      <th>2020-04-13</th>\n",
              "      <td>1.041071</td>\n",
              "      <td>0.997991</td>\n",
              "      <td>1.000072</td>\n",
              "      <td>1.039365</td>\n",
              "      <td>1.056585</td>\n",
              "    </tr>\n",
              "    <tr>\n",
              "      <th>2020-04-14</th>\n",
              "      <td>1.093649</td>\n",
              "      <td>1.033558</td>\n",
              "      <td>1.044863</td>\n",
              "      <td>1.064772</td>\n",
              "      <td>1.048431</td>\n",
              "    </tr>\n",
              "    <tr>\n",
              "      <th>...</th>\n",
              "      <td>...</td>\n",
              "      <td>...</td>\n",
              "      <td>...</td>\n",
              "      <td>...</td>\n",
              "      <td>...</td>\n",
              "    </tr>\n",
              "    <tr>\n",
              "      <th>2022-03-24</th>\n",
              "      <td>2.689251</td>\n",
              "      <td>1.586617</td>\n",
              "      <td>1.320466</td>\n",
              "      <td>1.395461</td>\n",
              "      <td>2.354025</td>\n",
              "    </tr>\n",
              "    <tr>\n",
              "      <th>2022-03-25</th>\n",
              "      <td>2.699293</td>\n",
              "      <td>1.606077</td>\n",
              "      <td>1.333125</td>\n",
              "      <td>1.397268</td>\n",
              "      <td>2.405408</td>\n",
              "    </tr>\n",
              "    <tr>\n",
              "      <th>2022-03-28</th>\n",
              "      <td>2.712889</td>\n",
              "      <td>1.619411</td>\n",
              "      <td>1.339982</td>\n",
              "      <td>1.393051</td>\n",
              "      <td>2.337932</td>\n",
              "    </tr>\n",
              "    <tr>\n",
              "      <th>2022-03-29</th>\n",
              "      <td>2.764798</td>\n",
              "      <td>1.671425</td>\n",
              "      <td>1.339304</td>\n",
              "      <td>1.429805</td>\n",
              "      <td>2.325510</td>\n",
              "    </tr>\n",
              "    <tr>\n",
              "      <th>2022-03-30</th>\n",
              "      <td>2.746413</td>\n",
              "      <td>1.664217</td>\n",
              "      <td>1.353244</td>\n",
              "      <td>1.415545</td>\n",
              "      <td>2.365318</td>\n",
              "    </tr>\n",
              "  </tbody>\n",
              "</table>\n",
              "<p>500 rows × 5 columns</p>\n",
              "</div>\n",
              "      <button class=\"colab-df-convert\" onclick=\"convertToInteractive('df-4c0c77a0-7302-4a6e-a83b-9af62f1ee358')\"\n",
              "              title=\"Convert this dataframe to an interactive table.\"\n",
              "              style=\"display:none;\">\n",
              "        \n",
              "  <svg xmlns=\"http://www.w3.org/2000/svg\" height=\"24px\"viewBox=\"0 0 24 24\"\n",
              "       width=\"24px\">\n",
              "    <path d=\"M0 0h24v24H0V0z\" fill=\"none\"/>\n",
              "    <path d=\"M18.56 5.44l.94 2.06.94-2.06 2.06-.94-2.06-.94-.94-2.06-.94 2.06-2.06.94zm-11 1L8.5 8.5l.94-2.06 2.06-.94-2.06-.94L8.5 2.5l-.94 2.06-2.06.94zm10 10l.94 2.06.94-2.06 2.06-.94-2.06-.94-.94-2.06-.94 2.06-2.06.94z\"/><path d=\"M17.41 7.96l-1.37-1.37c-.4-.4-.92-.59-1.43-.59-.52 0-1.04.2-1.43.59L10.3 9.45l-7.72 7.72c-.78.78-.78 2.05 0 2.83L4 21.41c.39.39.9.59 1.41.59.51 0 1.02-.2 1.41-.59l7.78-7.78 2.81-2.81c.8-.78.8-2.07 0-2.86zM5.41 20L4 18.59l7.72-7.72 1.47 1.35L5.41 20z\"/>\n",
              "  </svg>\n",
              "      </button>\n",
              "      \n",
              "  <style>\n",
              "    .colab-df-container {\n",
              "      display:flex;\n",
              "      flex-wrap:wrap;\n",
              "      gap: 12px;\n",
              "    }\n",
              "\n",
              "    .colab-df-convert {\n",
              "      background-color: #E8F0FE;\n",
              "      border: none;\n",
              "      border-radius: 50%;\n",
              "      cursor: pointer;\n",
              "      display: none;\n",
              "      fill: #1967D2;\n",
              "      height: 32px;\n",
              "      padding: 0 0 0 0;\n",
              "      width: 32px;\n",
              "    }\n",
              "\n",
              "    .colab-df-convert:hover {\n",
              "      background-color: #E2EBFA;\n",
              "      box-shadow: 0px 1px 2px rgba(60, 64, 67, 0.3), 0px 1px 3px 1px rgba(60, 64, 67, 0.15);\n",
              "      fill: #174EA6;\n",
              "    }\n",
              "\n",
              "    [theme=dark] .colab-df-convert {\n",
              "      background-color: #3B4455;\n",
              "      fill: #D2E3FC;\n",
              "    }\n",
              "\n",
              "    [theme=dark] .colab-df-convert:hover {\n",
              "      background-color: #434B5C;\n",
              "      box-shadow: 0px 1px 3px 1px rgba(0, 0, 0, 0.15);\n",
              "      filter: drop-shadow(0px 1px 2px rgba(0, 0, 0, 0.3));\n",
              "      fill: #FFFFFF;\n",
              "    }\n",
              "  </style>\n",
              "\n",
              "      <script>\n",
              "        const buttonEl =\n",
              "          document.querySelector('#df-4c0c77a0-7302-4a6e-a83b-9af62f1ee358 button.colab-df-convert');\n",
              "        buttonEl.style.display =\n",
              "          google.colab.kernel.accessAllowed ? 'block' : 'none';\n",
              "\n",
              "        async function convertToInteractive(key) {\n",
              "          const element = document.querySelector('#df-4c0c77a0-7302-4a6e-a83b-9af62f1ee358');\n",
              "          const dataTable =\n",
              "            await google.colab.kernel.invokeFunction('convertToInteractive',\n",
              "                                                     [key], {});\n",
              "          if (!dataTable) return;\n",
              "\n",
              "          const docLinkHtml = 'Like what you see? Visit the ' +\n",
              "            '<a target=\"_blank\" href=https://colab.research.google.com/notebooks/data_table.ipynb>data table notebook</a>'\n",
              "            + ' to learn more about interactive tables.';\n",
              "          element.innerHTML = '';\n",
              "          dataTable['output_type'] = 'display_data';\n",
              "          await google.colab.output.renderOutput(dataTable, element);\n",
              "          const docLink = document.createElement('div');\n",
              "          docLink.innerHTML = docLinkHtml;\n",
              "          element.appendChild(docLink);\n",
              "        }\n",
              "      </script>\n",
              "    </div>\n",
              "  </div>\n",
              "  "
            ]
          },
          "metadata": {},
          "execution_count": 15
        }
      ]
    },
    {
      "cell_type": "code",
      "source": [
        "#각 수식의 returns\n",
        "plt.plot(stock_returns)\n",
        "plt.legend(stock_returns.columns);"
      ],
      "metadata": {
        "colab": {
          "base_uri": "https://localhost:8080/",
          "height": 264
        },
        "id": "klYyRJ10Jvtw",
        "outputId": "d818301e-99f5-4c0b-87c9-453b154ea327"
      },
      "execution_count": null,
      "outputs": [
        {
          "output_type": "display_data",
          "data": {
            "text/plain": [
              "<Figure size 432x288 with 1 Axes>"
            ],
            "image/png": "[encoded data removed]"
          },
          "metadata": {
            "needs_background": "light"
          }
        }
      ]
    },
    {
      "cell_type": "markdown",
      "source": [
        "문제 1: 애플, 나이키, 존슨앤존슨, 디즈니, 의슨모빌로 이루어진 주식 포트폴리오의 비중이 각각 10%, 20%, 20%, 25%, 25% 일때, Historical Simulation을 이용하여 포트폴리오의 99% 신뢰도 기준 1일 VaR을 구하시오"
      ],
      "metadata": {
        "id": "4F38KJEpKPUc"
      }
    },
    {
      "cell_type": "code",
      "source": [
        "weights = [0.1, 0.2, 0.2, 0.25, 0.25]\n",
        "portfolio = stocks @ weights"
      ],
      "metadata": {
        "id": "YjR6xY0HKJ8W"
      },
      "execution_count": null,
      "outputs": []
    },
    {
      "cell_type": "code",
      "source": [
        "portfolio"
      ],
      "metadata": {
        "colab": {
          "base_uri": "https://localhost:8080/"
        },
        "id": "XFNU8usAKsyT",
        "outputId": "66ccba36-ced7-4364-a135-d9caad4bcaaf"
      },
      "execution_count": null,
      "outputs": [
        {
          "output_type": "execute_result",
          "data": {
            "text/plain": [
              "Date\n",
              "2020-04-02    0.035222\n",
              "2020-04-03   -0.018430\n",
              "2020-04-06    0.054903\n",
              "2020-04-07    0.003392\n",
              "2020-04-08    0.029079\n",
              "                ...   \n",
              "2022-03-21    0.008610\n",
              "2022-03-22    0.007183\n",
              "2022-03-23   -0.000533\n",
              "2022-03-24    0.005066\n",
              "2022-03-25    0.010525\n",
              "Length: 500, dtype: float64"
            ]
          },
          "metadata": {},
          "execution_count": 64
        }
      ]
    },
    {
      "cell_type": "code",
      "source": [
        "portfolio = portfolio[-501:] #총 501개의 최신 데이터\n",
        "portfolio.dropna(inplace = True)\n",
        "portfolio"
      ],
      "metadata": {
        "colab": {
          "base_uri": "https://localhost:8080/"
        },
        "id": "AMt78ge3bM7y",
        "outputId": "d3d6317e-74ac-46d9-f90a-9c9485052986"
      },
      "execution_count": null,
      "outputs": [
        {
          "output_type": "execute_result",
          "data": {
            "text/plain": [
              "Date\n",
              "2020-04-02    0.035222\n",
              "2020-04-03   -0.018430\n",
              "2020-04-06    0.054903\n",
              "2020-04-07    0.003392\n",
              "2020-04-08    0.029079\n",
              "                ...   \n",
              "2022-03-21    0.008610\n",
              "2022-03-22    0.007183\n",
              "2022-03-23   -0.000533\n",
              "2022-03-24    0.005066\n",
              "2022-03-25    0.010525\n",
              "Length: 500, dtype: float64"
            ]
          },
          "metadata": {},
          "execution_count": 65
        }
      ]
    },
    {
      "cell_type": "code",
      "source": [
        "desc = portfolio.describe()\n",
        "desc.loc['var'] = portfolio.var()\n",
        "desc.loc['skew'] = portfolio.skew()\n",
        "desc.loc['kurt'] = portfolio.kurtosis()\n",
        "desc"
      ],
      "metadata": {
        "colab": {
          "base_uri": "https://localhost:8080/"
        },
        "id": "SPRVA37dbicu",
        "outputId": "71378ac7-4f6c-4e73-d019-2d5e76600078"
      },
      "execution_count": null,
      "outputs": [
        {
          "output_type": "execute_result",
          "data": {
            "text/plain": [
              "count    500.000000\n",
              "mean       0.001436\n",
              "std        0.012821\n",
              "min       -0.069374\n",
              "25%       -0.006207\n",
              "50%        0.001175\n",
              "75%        0.008474\n",
              "max        0.064792\n",
              "var        0.000164\n",
              "skew       0.175134\n",
              "kurt       3.710081\n",
              "dtype: float64"
            ]
          },
          "metadata": {},
          "execution_count": 66
        }
      ]
    },
    {
      "cell_type": "code",
      "source": [
        "rtns = portfolio.sort_values() #안좋은 순서대로 나타내기\n",
        "rtns"
      ],
      "metadata": {
        "colab": {
          "base_uri": "https://localhost:8080/"
        },
        "id": "vdSwD2jcb0ss",
        "outputId": "6415a093-5ee2-4a62-a2d4-affea5055591"
      },
      "execution_count": null,
      "outputs": [
        {
          "output_type": "execute_result",
          "data": {
            "text/plain": [
              "Date\n",
              "2020-06-11   -0.069374\n",
              "2020-10-28   -0.039893\n",
              "2020-06-26   -0.034635\n",
              "2020-05-01   -0.031745\n",
              "2020-06-24   -0.031101\n",
              "                ...   \n",
              "2020-04-02    0.035222\n",
              "2020-04-17    0.047436\n",
              "2020-05-18    0.049536\n",
              "2020-04-06    0.054903\n",
              "2020-11-09    0.064792\n",
              "Length: 500, dtype: float64"
            ]
          },
          "metadata": {},
          "execution_count": 67
        }
      ]
    },
    {
      "cell_type": "code",
      "source": [
        "#99% 신뢰수준에서 1일 VaR(%)\n",
        "historical_VaR = rtns[4]\n",
        "round(historical_VaR,4)"
      ],
      "metadata": {
        "colab": {
          "base_uri": "https://localhost:8080/"
        },
        "id": "COR2YZzDcmJS",
        "outputId": "4e0e782b-72ec-4558-fb6a-65dd4c925c5f"
      },
      "execution_count": null,
      "outputs": [
        {
          "output_type": "execute_result",
          "data": {
            "text/plain": [
              "-0.0311"
            ]
          },
          "metadata": {},
          "execution_count": 68
        }
      ]
    },
    {
      "cell_type": "code",
      "source": [
        "#Expected Shortfall\n",
        "historical_ES = rtns[:5].mean()\n",
        "round(historical_ES,4)"
      ],
      "metadata": {
        "colab": {
          "base_uri": "https://localhost:8080/"
        },
        "id": "GjndZro2csTY",
        "outputId": "14d969a3-2f03-4cec-d29e-186ccf38fee9"
      },
      "execution_count": null,
      "outputs": [
        {
          "output_type": "execute_result",
          "data": {
            "text/plain": [
              "-0.0413"
            ]
          },
          "metadata": {},
          "execution_count": 69
        }
      ]
    },
    {
      "cell_type": "markdown",
      "source": [
        "Model building approach (parametric bar)"
      ],
      "metadata": {
        "id": "OW9liX_pK5oO"
      }
    },
    {
      "cell_type": "code",
      "source": [
        "aapl = yf.download('AAPL', '2020-01-01')['Adj Close'] #애플의 종가 불러오기\n",
        "aapl = aapl[-501:]\n",
        "aapl = aapl.pct_change()\n",
        "aapl.dropna(inplace = True)\n",
        "aapl"
      ],
      "metadata": {
        "colab": {
          "base_uri": "https://localhost:8080/"
        },
        "id": "BaqYaQNgKtx2",
        "outputId": "b5a2ee75-de7d-4cc8-c806-3b79ef3dccd3"
      },
      "execution_count": null,
      "outputs": [
        {
          "output_type": "stream",
          "name": "stdout",
          "text": [
            "\r[*********************100%***********************]  1 of 1 completed\n"
          ]
        },
        {
          "output_type": "execute_result",
          "data": {
            "text/plain": [
              "Date\n",
              "2020-04-02    0.016687\n",
              "2020-04-03   -0.014371\n",
              "2020-04-06    0.087237\n",
              "2020-04-07   -0.011582\n",
              "2020-04-08    0.025595\n",
              "                ...   \n",
              "2022-03-21    0.008538\n",
              "2022-03-22    0.020801\n",
              "2022-03-23    0.008234\n",
              "2022-03-24    0.022678\n",
              "2022-03-25    0.003734\n",
              "Name: Adj Close, Length: 500, dtype: float64"
            ]
          },
          "metadata": {},
          "execution_count": 20
        }
      ]
    },
    {
      "cell_type": "code",
      "source": [
        "mu = aapl.mean()\n",
        "sigma = aapl.std()\n",
        "print('mean return:', round(mu,4), '\\nstandard deviation: ', round(sigma,4))"
      ],
      "metadata": {
        "colab": {
          "base_uri": "https://localhost:8080/"
        },
        "id": "ygwsgo7hLIb6",
        "outputId": "0fef2d50-22e6-4491-8372-1c7e3ae36f86"
      },
      "execution_count": null,
      "outputs": [
        {
          "output_type": "stream",
          "name": "stdout",
          "text": [
            "mean return: 0.0024 \n",
            "standard deviation:  0.0196\n"
          ]
        }
      ]
    },
    {
      "cell_type": "code",
      "source": [
        "alpha = 0.01\n",
        "Z_value = stats.norm.ppf(abs(alpha))\n",
        "round(Z_value,4)"
      ],
      "metadata": {
        "colab": {
          "base_uri": "https://localhost:8080/"
        },
        "id": "10DY0TqMLcqW",
        "outputId": "c3891854-3378-4063-f5c9-01997517bd2f"
      },
      "execution_count": null,
      "outputs": [
        {
          "output_type": "execute_result",
          "data": {
            "text/plain": [
              "-2.3263"
            ]
          },
          "metadata": {},
          "execution_count": 22
        }
      ]
    },
    {
      "cell_type": "code",
      "source": [
        "#99% 신뢰도 기준 1일 VaR(%)\n",
        "parametric_VaR = Z_value * sigma\n",
        "round(parametric_VaR,4)"
      ],
      "metadata": {
        "colab": {
          "base_uri": "https://localhost:8080/"
        },
        "id": "TnALD9shLrMd",
        "outputId": "c5ea9f60-393e-4d08-dd17-cac2515f5f2f"
      },
      "execution_count": null,
      "outputs": [
        {
          "output_type": "execute_result",
          "data": {
            "text/plain": [
              "-0.0457"
            ]
          },
          "metadata": {},
          "execution_count": 23
        }
      ]
    },
    {
      "cell_type": "code",
      "source": [
        "#99% 신뢰도 기준 1일 ES(%)\n",
        "parametric_ES = -sigma * ((np.exp(-Z_value ** 2 / 2) / (np.sqrt(2 * np.pi) *alpha)))\n",
        "round(parametric_ES, 4)"
      ],
      "metadata": {
        "colab": {
          "base_uri": "https://localhost:8080/"
        },
        "id": "f3GdYxuqL5G1",
        "outputId": "ba971d06-9cce-46e4-e15b-a2b043d6d9f6"
      },
      "execution_count": null,
      "outputs": [
        {
          "output_type": "execute_result",
          "data": {
            "text/plain": [
              "-0.0523"
            ]
          },
          "metadata": {},
          "execution_count": 24
        }
      ]
    },
    {
      "cell_type": "code",
      "source": [
        "print('non-param VaR: ', round(historical_VaR, 4), '\\nparam VaR: ', round(parametric_VaR,4))"
      ],
      "metadata": {
        "colab": {
          "base_uri": "https://localhost:8080/"
        },
        "id": "8nW419uUMMaP",
        "outputId": "8aeedbff-39f3-4cb1-83d8-21f78483b778"
      },
      "execution_count": null,
      "outputs": [
        {
          "output_type": "stream",
          "name": "stdout",
          "text": [
            "non-param VaR:  -0.0463 \n",
            "param VaR:  -0.0457\n"
          ]
        }
      ]
    },
    {
      "cell_type": "code",
      "source": [
        "print('non-param ES: ', round(historical_ES, 4), '\\nparam ES: ', round(parametric_ES,4))"
      ],
      "metadata": {
        "colab": {
          "base_uri": "https://localhost:8080/"
        },
        "id": "5gGzHkJPMj3u",
        "outputId": "512a5814-5290-4552-a5bc-6b8272bf54f1"
      },
      "execution_count": null,
      "outputs": [
        {
          "output_type": "stream",
          "name": "stdout",
          "text": [
            "non-param ES:  -0.0595 \n",
            "param ES:  -0.0523\n"
          ]
        }
      ]
    },
    {
      "cell_type": "markdown",
      "source": [
        "Parameter Value for Portfolio "
      ],
      "metadata": {
        "id": "0VpxHAfuMwEI"
      }
    },
    {
      "cell_type": "code",
      "source": [
        "stocks"
      ],
      "metadata": {
        "colab": {
          "base_uri": "https://localhost:8080/",
          "height": 454
        },
        "id": "rOuDsRh7MnhV",
        "outputId": "7b631194-cda3-45b7-9435-8b86ac3f7ba1"
      },
      "execution_count": null,
      "outputs": [
        {
          "output_type": "execute_result",
          "data": {
            "text/plain": [
              "                AAPL       NKE       JNJ       DIS       XOM\n",
              "Date                                                        \n",
              "2020-04-02  0.016687  0.011486  0.033693  0.021597  0.076472\n",
              "2020-04-03 -0.014371 -0.015972  0.007661 -0.031866 -0.029456\n",
              "2020-04-06  0.087237  0.073168  0.041664  0.060716  0.032135\n",
              "2020-04-07 -0.011582 -0.005553 -0.016314  0.016670  0.019026\n",
              "2020-04-08  0.025595  0.013546  0.042042 -0.001679  0.063288\n",
              "...              ...       ...       ...       ...       ...\n",
              "2022-03-21  0.008538 -0.008001  0.005662 -0.011974  0.044871\n",
              "2022-03-22  0.020801  0.022275 -0.004720  0.010749 -0.004380\n",
              "2022-03-23  0.008234 -0.000676 -0.003771 -0.017629  0.015762\n",
              "2022-03-24  0.022678 -0.006917  0.005162  0.009590  0.003007\n",
              "2022-03-25  0.003734  0.012265  0.009587  0.001295  0.021828\n",
              "\n",
              "[500 rows x 5 columns]"
            ],
            "text/html": [
              "\n",
              "  <div id=\"df-2710f084-9fd5-4cd9-833a-bf3bd7a96707\">\n",
              "    <div class=\"colab-df-container\">\n",
              "      <div>\n",
              "<style scoped>\n",
              "    .dataframe tbody tr th:only-of-type {\n",
              "        vertical-align: middle;\n",
              "    }\n",
              "\n",
              "    .dataframe tbody tr th {\n",
              "        vertical-align: top;\n",
              "    }\n",
              "\n",
              "    .dataframe thead th {\n",
              "        text-align: right;\n",
              "    }\n",
              "</style>\n",
              "<table border=\"1\" class=\"dataframe\">\n",
              "  <thead>\n",
              "    <tr style=\"text-align: right;\">\n",
              "      <th></th>\n",
              "      <th>AAPL</th>\n",
              "      <th>NKE</th>\n",
              "      <th>JNJ</th>\n",
              "      <th>DIS</th>\n",
              "      <th>XOM</th>\n",
              "    </tr>\n",
              "    <tr>\n",
              "      <th>Date</th>\n",
              "      <th></th>\n",
              "      <th></th>\n",
              "      <th></th>\n",
              "      <th></th>\n",
              "      <th></th>\n",
              "    </tr>\n",
              "  </thead>\n",
              "  <tbody>\n",
              "    <tr>\n",
              "      <th>2020-04-02</th>\n",
              "      <td>0.016687</td>\n",
              "      <td>0.011486</td>\n",
              "      <td>0.033693</td>\n",
              "      <td>0.021597</td>\n",
              "      <td>0.076472</td>\n",
              "    </tr>\n",
              "    <tr>\n",
              "      <th>2020-04-03</th>\n",
              "      <td>-0.014371</td>\n",
              "      <td>-0.015972</td>\n",
              "      <td>0.007661</td>\n",
              "      <td>-0.031866</td>\n",
              "      <td>-0.029456</td>\n",
              "    </tr>\n",
              "    <tr>\n",
              "      <th>2020-04-06</th>\n",
              "      <td>0.087237</td>\n",
              "      <td>0.073168</td>\n",
              "      <td>0.041664</td>\n",
              "      <td>0.060716</td>\n",
              "      <td>0.032135</td>\n",
              "    </tr>\n",
              "    <tr>\n",
              "      <th>2020-04-07</th>\n",
              "      <td>-0.011582</td>\n",
              "      <td>-0.005553</td>\n",
              "      <td>-0.016314</td>\n",
              "      <td>0.016670</td>\n",
              "      <td>0.019026</td>\n",
              "    </tr>\n",
              "    <tr>\n",
              "      <th>2020-04-08</th>\n",
              "      <td>0.025595</td>\n",
              "      <td>0.013546</td>\n",
              "      <td>0.042042</td>\n",
              "      <td>-0.001679</td>\n",
              "      <td>0.063288</td>\n",
              "    </tr>\n",
              "    <tr>\n",
              "      <th>...</th>\n",
              "      <td>...</td>\n",
              "      <td>...</td>\n",
              "      <td>...</td>\n",
              "      <td>...</td>\n",
              "      <td>...</td>\n",
              "    </tr>\n",
              "    <tr>\n",
              "      <th>2022-03-21</th>\n",
              "      <td>0.008538</td>\n",
              "      <td>-0.008001</td>\n",
              "      <td>0.005662</td>\n",
              "      <td>-0.011974</td>\n",
              "      <td>0.044871</td>\n",
              "    </tr>\n",
              "    <tr>\n",
              "      <th>2022-03-22</th>\n",
              "      <td>0.020801</td>\n",
              "      <td>0.022275</td>\n",
              "      <td>-0.004720</td>\n",
              "      <td>0.010749</td>\n",
              "      <td>-0.004380</td>\n",
              "    </tr>\n",
              "    <tr>\n",
              "      <th>2022-03-23</th>\n",
              "      <td>0.008234</td>\n",
              "      <td>-0.000676</td>\n",
              "      <td>-0.003771</td>\n",
              "      <td>-0.017629</td>\n",
              "      <td>0.015762</td>\n",
              "    </tr>\n",
              "    <tr>\n",
              "      <th>2022-03-24</th>\n",
              "      <td>0.022678</td>\n",
              "      <td>-0.006917</td>\n",
              "      <td>0.005162</td>\n",
              "      <td>0.009590</td>\n",
              "      <td>0.003007</td>\n",
              "    </tr>\n",
              "    <tr>\n",
              "      <th>2022-03-25</th>\n",
              "      <td>0.003734</td>\n",
              "      <td>0.012265</td>\n",
              "      <td>0.009587</td>\n",
              "      <td>0.001295</td>\n",
              "      <td>0.021828</td>\n",
              "    </tr>\n",
              "  </tbody>\n",
              "</table>\n",
              "<p>500 rows × 5 columns</p>\n",
              "</div>\n",
              "      <button class=\"colab-df-convert\" onclick=\"convertToInteractive('df-2710f084-9fd5-4cd9-833a-bf3bd7a96707')\"\n",
              "              title=\"Convert this dataframe to an interactive table.\"\n",
              "              style=\"display:none;\">\n",
              "        \n",
              "  <svg xmlns=\"http://www.w3.org/2000/svg\" height=\"24px\"viewBox=\"0 0 24 24\"\n",
              "       width=\"24px\">\n",
              "    <path d=\"M0 0h24v24H0V0z\" fill=\"none\"/>\n",
              "    <path d=\"M18.56 5.44l.94 2.06.94-2.06 2.06-.94-2.06-.94-.94-2.06-.94 2.06-2.06.94zm-11 1L8.5 8.5l.94-2.06 2.06-.94-2.06-.94L8.5 2.5l-.94 2.06-2.06.94zm10 10l.94 2.06.94-2.06 2.06-.94-2.06-.94-.94-2.06-.94 2.06-2.06.94z\"/><path d=\"M17.41 7.96l-1.37-1.37c-.4-.4-.92-.59-1.43-.59-.52 0-1.04.2-1.43.59L10.3 9.45l-7.72 7.72c-.78.78-.78 2.05 0 2.83L4 21.41c.39.39.9.59 1.41.59.51 0 1.02-.2 1.41-.59l7.78-7.78 2.81-2.81c.8-.78.8-2.07 0-2.86zM5.41 20L4 18.59l7.72-7.72 1.47 1.35L5.41 20z\"/>\n",
              "  </svg>\n",
              "      </button>\n",
              "      \n",
              "  <style>\n",
              "    .colab-df-container {\n",
              "      display:flex;\n",
              "      flex-wrap:wrap;\n",
              "      gap: 12px;\n",
              "    }\n",
              "\n",
              "    .colab-df-convert {\n",
              "      background-color: #E8F0FE;\n",
              "      border: none;\n",
              "      border-radius: 50%;\n",
              "      cursor: pointer;\n",
              "      display: none;\n",
              "      fill: #1967D2;\n",
              "      height: 32px;\n",
              "      padding: 0 0 0 0;\n",
              "      width: 32px;\n",
              "    }\n",
              "\n",
              "    .colab-df-convert:hover {\n",
              "      background-color: #E2EBFA;\n",
              "      box-shadow: 0px 1px 2px rgba(60, 64, 67, 0.3), 0px 1px 3px 1px rgba(60, 64, 67, 0.15);\n",
              "      fill: #174EA6;\n",
              "    }\n",
              "\n",
              "    [theme=dark] .colab-df-convert {\n",
              "      background-color: #3B4455;\n",
              "      fill: #D2E3FC;\n",
              "    }\n",
              "\n",
              "    [theme=dark] .colab-df-convert:hover {\n",
              "      background-color: #434B5C;\n",
              "      box-shadow: 0px 1px 3px 1px rgba(0, 0, 0, 0.15);\n",
              "      filter: drop-shadow(0px 1px 2px rgba(0, 0, 0, 0.3));\n",
              "      fill: #FFFFFF;\n",
              "    }\n",
              "  </style>\n",
              "\n",
              "      <script>\n",
              "        const buttonEl =\n",
              "          document.querySelector('#df-2710f084-9fd5-4cd9-833a-bf3bd7a96707 button.colab-df-convert');\n",
              "        buttonEl.style.display =\n",
              "          google.colab.kernel.accessAllowed ? 'block' : 'none';\n",
              "\n",
              "        async function convertToInteractive(key) {\n",
              "          const element = document.querySelector('#df-2710f084-9fd5-4cd9-833a-bf3bd7a96707');\n",
              "          const dataTable =\n",
              "            await google.colab.kernel.invokeFunction('convertToInteractive',\n",
              "                                                     [key], {});\n",
              "          if (!dataTable) return;\n",
              "\n",
              "          const docLinkHtml = 'Like what you see? Visit the ' +\n",
              "            '<a target=\"_blank\" href=https://colab.research.google.com/notebooks/data_table.ipynb>data table notebook</a>'\n",
              "            + ' to learn more about interactive tables.';\n",
              "          element.innerHTML = '';\n",
              "          dataTable['output_type'] = 'display_data';\n",
              "          await google.colab.output.renderOutput(dataTable, element);\n",
              "          const docLink = document.createElement('div');\n",
              "          docLink.innerHTML = docLinkHtml;\n",
              "          element.appendChild(docLink);\n",
              "        }\n",
              "      </script>\n",
              "    </div>\n",
              "  </div>\n",
              "  "
            ]
          },
          "metadata": {},
          "execution_count": 27
        }
      ]
    },
    {
      "cell_type": "code",
      "source": [
        "import seaborn as sns\n",
        "sns.heatmap(stocks.corr(), annot=True, cmap='YlGnBu')"
      ],
      "metadata": {
        "colab": {
          "base_uri": "https://localhost:8080/",
          "height": 288
        },
        "id": "JWjaVajfM5lK",
        "outputId": "262de504-7c28-4ee1-962d-8805455e467f"
      },
      "execution_count": null,
      "outputs": [
        {
          "output_type": "execute_result",
          "data": {
            "text/plain": [
              "<matplotlib.axes._subplots.AxesSubplot at 0x7f38b658c850>"
            ]
          },
          "metadata": {},
          "execution_count": 28
        },
        {
          "output_type": "display_data",
          "data": {
            "text/plain": [
              "<Figure size 432x288 with 2 Axes>"
            ],
            "image/png": "[encoded data removed]"
          },
          "metadata": {
            "needs_background": "light"
          }
        }
      ]
    },
    {
      "cell_type": "code",
      "source": [
        "sns.pairplot(stocks);"
      ],
      "metadata": {
        "colab": {
          "base_uri": "https://localhost:8080/",
          "height": 903
        },
        "id": "gFu_2GvxNQUw",
        "outputId": "6f4621be-8d72-416d-fa20-be7e64d77371"
      },
      "execution_count": null,
      "outputs": [
        {
          "output_type": "display_data",
          "data": {
            "text/plain": [
              "<Figure size 900x900 with 30 Axes>"
            ],
            "image/png": "[encoded data removed]"
          },
          "metadata": {
            "needs_background": "light"
          }
        }
      ]
    },
    {
      "cell_type": "code",
      "source": [
        "#분산-공분산 행렬\n",
        "covmat = stocks.cov()\n",
        "covmat"
      ],
      "metadata": {
        "colab": {
          "base_uri": "https://localhost:8080/",
          "height": 206
        },
        "id": "ZsP4r-mnNV-q",
        "outputId": "a209de26-944c-4e82-81b2-7bcc94b061e6"
      },
      "execution_count": null,
      "outputs": [
        {
          "output_type": "execute_result",
          "data": {
            "text/plain": [
              "          AAPL       NKE       JNJ       DIS       XOM\n",
              "AAPL  0.000385  0.000137  0.000057  0.000097  0.000044\n",
              "NKE   0.000137  0.000355  0.000046  0.000146  0.000095\n",
              "JNJ   0.000057  0.000046  0.000117  0.000046  0.000066\n",
              "DIS   0.000097  0.000146  0.000046  0.000415  0.000209\n",
              "XOM   0.000044  0.000095  0.000066  0.000209  0.000574"
            ],
            "text/html": [
              "\n",
              "  <div id=\"df-d2e8d1f4-52fc-40cf-a35a-7f94b4cbb513\">\n",
              "    <div class=\"colab-df-container\">\n",
              "      <div>\n",
              "<style scoped>\n",
              "    .dataframe tbody tr th:only-of-type {\n",
              "        vertical-align: middle;\n",
              "    }\n",
              "\n",
              "    .dataframe tbody tr th {\n",
              "        vertical-align: top;\n",
              "    }\n",
              "\n",
              "    .dataframe thead th {\n",
              "        text-align: right;\n",
              "    }\n",
              "</style>\n",
              "<table border=\"1\" class=\"dataframe\">\n",
              "  <thead>\n",
              "    <tr style=\"text-align: right;\">\n",
              "      <th></th>\n",
              "      <th>AAPL</th>\n",
              "      <th>NKE</th>\n",
              "      <th>JNJ</th>\n",
              "      <th>DIS</th>\n",
              "      <th>XOM</th>\n",
              "    </tr>\n",
              "  </thead>\n",
              "  <tbody>\n",
              "    <tr>\n",
              "      <th>AAPL</th>\n",
              "      <td>0.000385</td>\n",
              "      <td>0.000137</td>\n",
              "      <td>0.000057</td>\n",
              "      <td>0.000097</td>\n",
              "      <td>0.000044</td>\n",
              "    </tr>\n",
              "    <tr>\n",
              "      <th>NKE</th>\n",
              "      <td>0.000137</td>\n",
              "      <td>0.000355</td>\n",
              "      <td>0.000046</td>\n",
              "      <td>0.000146</td>\n",
              "      <td>0.000095</td>\n",
              "    </tr>\n",
              "    <tr>\n",
              "      <th>JNJ</th>\n",
              "      <td>0.000057</td>\n",
              "      <td>0.000046</td>\n",
              "      <td>0.000117</td>\n",
              "      <td>0.000046</td>\n",
              "      <td>0.000066</td>\n",
              "    </tr>\n",
              "    <tr>\n",
              "      <th>DIS</th>\n",
              "      <td>0.000097</td>\n",
              "      <td>0.000146</td>\n",
              "      <td>0.000046</td>\n",
              "      <td>0.000415</td>\n",
              "      <td>0.000209</td>\n",
              "    </tr>\n",
              "    <tr>\n",
              "      <th>XOM</th>\n",
              "      <td>0.000044</td>\n",
              "      <td>0.000095</td>\n",
              "      <td>0.000066</td>\n",
              "      <td>0.000209</td>\n",
              "      <td>0.000574</td>\n",
              "    </tr>\n",
              "  </tbody>\n",
              "</table>\n",
              "</div>\n",
              "      <button class=\"colab-df-convert\" onclick=\"convertToInteractive('df-d2e8d1f4-52fc-40cf-a35a-7f94b4cbb513')\"\n",
              "              title=\"Convert this dataframe to an interactive table.\"\n",
              "              style=\"display:none;\">\n",
              "        \n",
              "  <svg xmlns=\"http://www.w3.org/2000/svg\" height=\"24px\"viewBox=\"0 0 24 24\"\n",
              "       width=\"24px\">\n",
              "    <path d=\"M0 0h24v24H0V0z\" fill=\"none\"/>\n",
              "    <path d=\"M18.56 5.44l.94 2.06.94-2.06 2.06-.94-2.06-.94-.94-2.06-.94 2.06-2.06.94zm-11 1L8.5 8.5l.94-2.06 2.06-.94-2.06-.94L8.5 2.5l-.94 2.06-2.06.94zm10 10l.94 2.06.94-2.06 2.06-.94-2.06-.94-.94-2.06-.94 2.06-2.06.94z\"/><path d=\"M17.41 7.96l-1.37-1.37c-.4-.4-.92-.59-1.43-.59-.52 0-1.04.2-1.43.59L10.3 9.45l-7.72 7.72c-.78.78-.78 2.05 0 2.83L4 21.41c.39.39.9.59 1.41.59.51 0 1.02-.2 1.41-.59l7.78-7.78 2.81-2.81c.8-.78.8-2.07 0-2.86zM5.41 20L4 18.59l7.72-7.72 1.47 1.35L5.41 20z\"/>\n",
              "  </svg>\n",
              "      </button>\n",
              "      \n",
              "  <style>\n",
              "    .colab-df-container {\n",
              "      display:flex;\n",
              "      flex-wrap:wrap;\n",
              "      gap: 12px;\n",
              "    }\n",
              "\n",
              "    .colab-df-convert {\n",
              "      background-color: #E8F0FE;\n",
              "      border: none;\n",
              "      border-radius: 50%;\n",
              "      cursor: pointer;\n",
              "      display: none;\n",
              "      fill: #1967D2;\n",
              "      height: 32px;\n",
              "      padding: 0 0 0 0;\n",
              "      width: 32px;\n",
              "    }\n",
              "\n",
              "    .colab-df-convert:hover {\n",
              "      background-color: #E2EBFA;\n",
              "      box-shadow: 0px 1px 2px rgba(60, 64, 67, 0.3), 0px 1px 3px 1px rgba(60, 64, 67, 0.15);\n",
              "      fill: #174EA6;\n",
              "    }\n",
              "\n",
              "    [theme=dark] .colab-df-convert {\n",
              "      background-color: #3B4455;\n",
              "      fill: #D2E3FC;\n",
              "    }\n",
              "\n",
              "    [theme=dark] .colab-df-convert:hover {\n",
              "      background-color: #434B5C;\n",
              "      box-shadow: 0px 1px 3px 1px rgba(0, 0, 0, 0.15);\n",
              "      filter: drop-shadow(0px 1px 2px rgba(0, 0, 0, 0.3));\n",
              "      fill: #FFFFFF;\n",
              "    }\n",
              "  </style>\n",
              "\n",
              "      <script>\n",
              "        const buttonEl =\n",
              "          document.querySelector('#df-d2e8d1f4-52fc-40cf-a35a-7f94b4cbb513 button.colab-df-convert');\n",
              "        buttonEl.style.display =\n",
              "          google.colab.kernel.accessAllowed ? 'block' : 'none';\n",
              "\n",
              "        async function convertToInteractive(key) {\n",
              "          const element = document.querySelector('#df-d2e8d1f4-52fc-40cf-a35a-7f94b4cbb513');\n",
              "          const dataTable =\n",
              "            await google.colab.kernel.invokeFunction('convertToInteractive',\n",
              "                                                     [key], {});\n",
              "          if (!dataTable) return;\n",
              "\n",
              "          const docLinkHtml = 'Like what you see? Visit the ' +\n",
              "            '<a target=\"_blank\" href=https://colab.research.google.com/notebooks/data_table.ipynb>data table notebook</a>'\n",
              "            + ' to learn more about interactive tables.';\n",
              "          element.innerHTML = '';\n",
              "          dataTable['output_type'] = 'display_data';\n",
              "          await google.colab.output.renderOutput(dataTable, element);\n",
              "          const docLink = document.createElement('div');\n",
              "          docLink.innerHTML = docLinkHtml;\n",
              "          element.appendChild(docLink);\n",
              "        }\n",
              "      </script>\n",
              "    </div>\n",
              "  </div>\n",
              "  "
            ]
          },
          "metadata": {},
          "execution_count": 30
        }
      ]
    },
    {
      "cell_type": "markdown",
      "source": [
        "문제 2: 애플, 나이키, 존슨앤존슨, 디즈니, 의슨모빌로 이루어진 주식 포트폴리오의 비중이 각각 10%, 20%, 20%, 25%, 25% 일때, Model-Building approach을 이용하여 포트폴리오의 99% 신뢰도 기준 1일 VaR을 구하시오"
      ],
      "metadata": {
        "id": "xhyP1OQNNrmq"
      }
    },
    {
      "cell_type": "code",
      "source": [
        "weights = np.array([0.1, 0.2, 0.2, 0.25, 0.25])\n",
        "portfolio = stocks @ weights\n",
        "portfolio"
      ],
      "metadata": {
        "colab": {
          "base_uri": "https://localhost:8080/"
        },
        "id": "r8v73dWSNnxf",
        "outputId": "32c4f69a-6079-4f85-9f86-16a516de8500"
      },
      "execution_count": null,
      "outputs": [
        {
          "output_type": "execute_result",
          "data": {
            "text/plain": [
              "Date\n",
              "2020-04-02    0.035222\n",
              "2020-04-03   -0.018430\n",
              "2020-04-06    0.054903\n",
              "2020-04-07    0.003392\n",
              "2020-04-08    0.029079\n",
              "                ...   \n",
              "2022-03-21    0.008610\n",
              "2022-03-22    0.007183\n",
              "2022-03-23   -0.000533\n",
              "2022-03-24    0.005066\n",
              "2022-03-25    0.010525\n",
              "Length: 500, dtype: float64"
            ]
          },
          "metadata": {},
          "execution_count": 31
        }
      ]
    },
    {
      "cell_type": "code",
      "source": [
        "#Covariance matrix로 포트폴리오의 standard deviation 구하기\n",
        "portfolio_var = weights.T @ covmat @ weights\n",
        "portfolio_std = np.sqrt(portfolio_var)\n",
        "portfolio_std"
      ],
      "metadata": {
        "colab": {
          "base_uri": "https://localhost:8080/"
        },
        "id": "vbhFMX51OGhw",
        "outputId": "8495f963-bbc0-4f6e-8f8e-48853168bd37"
      },
      "execution_count": null,
      "outputs": [
        {
          "output_type": "execute_result",
          "data": {
            "text/plain": [
              "0.012821301469411276"
            ]
          },
          "metadata": {},
          "execution_count": 32
        }
      ]
    },
    {
      "cell_type": "code",
      "source": [
        "alpha = 0.01\n",
        "Z_value = stats.norm.ppf(abs(alpha))\n",
        "round(Z_value,4)"
      ],
      "metadata": {
        "colab": {
          "base_uri": "https://localhost:8080/"
        },
        "id": "oRryewHac6Pv",
        "outputId": "77ac844c-fc04-4386-d418-c6bfac2fddc8"
      },
      "execution_count": null,
      "outputs": [
        {
          "output_type": "execute_result",
          "data": {
            "text/plain": [
              "-2.3263"
            ]
          },
          "metadata": {},
          "execution_count": 70
        }
      ]
    },
    {
      "cell_type": "code",
      "source": [
        "#99% 신뢰도 기준 1일 VaR(%)\n",
        "parametric_VaR = Z_value * portfolio_std\n",
        "round(parametric_VaR,4)"
      ],
      "metadata": {
        "colab": {
          "base_uri": "https://localhost:8080/"
        },
        "id": "5X7lQbssdGlm",
        "outputId": "9672ee51-6ad5-41cd-c156-5bc92e16671f"
      },
      "execution_count": null,
      "outputs": [
        {
          "output_type": "execute_result",
          "data": {
            "text/plain": [
              "-0.0298"
            ]
          },
          "metadata": {},
          "execution_count": 71
        }
      ]
    },
    {
      "cell_type": "code",
      "source": [
        "#99% 신뢰도 기준 1일 ES(%)\n",
        "parametric_ES = -portfolio_std * ((np.exp(-Z_value ** 2 / 2) / (np.sqrt(2 * np.pi) *alpha)))\n",
        "round(parametric_ES, 4)"
      ],
      "metadata": {
        "colab": {
          "base_uri": "https://localhost:8080/"
        },
        "id": "fd66G_RadTVe",
        "outputId": "1e2a51fb-dd0b-44bb-f0e2-a6a5e1c50f0f"
      },
      "execution_count": null,
      "outputs": [
        {
          "output_type": "execute_result",
          "data": {
            "text/plain": [
              "-0.0342"
            ]
          },
          "metadata": {},
          "execution_count": 72
        }
      ]
    },
    {
      "cell_type": "markdown",
      "source": [
        "VaR estimated by MC"
      ],
      "metadata": {
        "id": "4utaWcGROiDG"
      }
    },
    {
      "cell_type": "code",
      "source": [
        "corr = stocks.corr()\n",
        "corr"
      ],
      "metadata": {
        "colab": {
          "base_uri": "https://localhost:8080/",
          "height": 206
        },
        "id": "0j8o8-SuOhIJ",
        "outputId": "fe4f0ad3-1f7e-48cf-9466-493cb5ff2137"
      },
      "execution_count": null,
      "outputs": [
        {
          "output_type": "execute_result",
          "data": {
            "text/plain": [
              "          AAPL       NKE       JNJ       DIS       XOM\n",
              "AAPL  1.000000  0.370427  0.269299  0.242692  0.093673\n",
              "NKE   0.370427  1.000000  0.225291  0.380114  0.211484\n",
              "JNJ   0.269299  0.225291  1.000000  0.209091  0.253929\n",
              "DIS   0.242692  0.380114  0.209091  1.000000  0.427614\n",
              "XOM   0.093673  0.211484  0.253929  0.427614  1.000000"
            ],
            "text/html": [
              "\n",
              "  <div id=\"df-ab0af903-3c8b-4b5d-9b33-8f3307569e2e\">\n",
              "    <div class=\"colab-df-container\">\n",
              "      <div>\n",
              "<style scoped>\n",
              "    .dataframe tbody tr th:only-of-type {\n",
              "        vertical-align: middle;\n",
              "    }\n",
              "\n",
              "    .dataframe tbody tr th {\n",
              "        vertical-align: top;\n",
              "    }\n",
              "\n",
              "    .dataframe thead th {\n",
              "        text-align: right;\n",
              "    }\n",
              "</style>\n",
              "<table border=\"1\" class=\"dataframe\">\n",
              "  <thead>\n",
              "    <tr style=\"text-align: right;\">\n",
              "      <th></th>\n",
              "      <th>AAPL</th>\n",
              "      <th>NKE</th>\n",
              "      <th>JNJ</th>\n",
              "      <th>DIS</th>\n",
              "      <th>XOM</th>\n",
              "    </tr>\n",
              "  </thead>\n",
              "  <tbody>\n",
              "    <tr>\n",
              "      <th>AAPL</th>\n",
              "      <td>1.000000</td>\n",
              "      <td>0.370427</td>\n",
              "      <td>0.269299</td>\n",
              "      <td>0.242692</td>\n",
              "      <td>0.093673</td>\n",
              "    </tr>\n",
              "    <tr>\n",
              "      <th>NKE</th>\n",
              "      <td>0.370427</td>\n",
              "      <td>1.000000</td>\n",
              "      <td>0.225291</td>\n",
              "      <td>0.380114</td>\n",
              "      <td>0.211484</td>\n",
              "    </tr>\n",
              "    <tr>\n",
              "      <th>JNJ</th>\n",
              "      <td>0.269299</td>\n",
              "      <td>0.225291</td>\n",
              "      <td>1.000000</td>\n",
              "      <td>0.209091</td>\n",
              "      <td>0.253929</td>\n",
              "    </tr>\n",
              "    <tr>\n",
              "      <th>DIS</th>\n",
              "      <td>0.242692</td>\n",
              "      <td>0.380114</td>\n",
              "      <td>0.209091</td>\n",
              "      <td>1.000000</td>\n",
              "      <td>0.427614</td>\n",
              "    </tr>\n",
              "    <tr>\n",
              "      <th>XOM</th>\n",
              "      <td>0.093673</td>\n",
              "      <td>0.211484</td>\n",
              "      <td>0.253929</td>\n",
              "      <td>0.427614</td>\n",
              "      <td>1.000000</td>\n",
              "    </tr>\n",
              "  </tbody>\n",
              "</table>\n",
              "</div>\n",
              "      <button class=\"colab-df-convert\" onclick=\"convertToInteractive('df-ab0af903-3c8b-4b5d-9b33-8f3307569e2e')\"\n",
              "              title=\"Convert this dataframe to an interactive table.\"\n",
              "              style=\"display:none;\">\n",
              "        \n",
              "  <svg xmlns=\"http://www.w3.org/2000/svg\" height=\"24px\"viewBox=\"0 0 24 24\"\n",
              "       width=\"24px\">\n",
              "    <path d=\"M0 0h24v24H0V0z\" fill=\"none\"/>\n",
              "    <path d=\"M18.56 5.44l.94 2.06.94-2.06 2.06-.94-2.06-.94-.94-2.06-.94 2.06-2.06.94zm-11 1L8.5 8.5l.94-2.06 2.06-.94-2.06-.94L8.5 2.5l-.94 2.06-2.06.94zm10 10l.94 2.06.94-2.06 2.06-.94-2.06-.94-.94-2.06-.94 2.06-2.06.94z\"/><path d=\"M17.41 7.96l-1.37-1.37c-.4-.4-.92-.59-1.43-.59-.52 0-1.04.2-1.43.59L10.3 9.45l-7.72 7.72c-.78.78-.78 2.05 0 2.83L4 21.41c.39.39.9.59 1.41.59.51 0 1.02-.2 1.41-.59l7.78-7.78 2.81-2.81c.8-.78.8-2.07 0-2.86zM5.41 20L4 18.59l7.72-7.72 1.47 1.35L5.41 20z\"/>\n",
              "  </svg>\n",
              "      </button>\n",
              "      \n",
              "  <style>\n",
              "    .colab-df-container {\n",
              "      display:flex;\n",
              "      flex-wrap:wrap;\n",
              "      gap: 12px;\n",
              "    }\n",
              "\n",
              "    .colab-df-convert {\n",
              "      background-color: #E8F0FE;\n",
              "      border: none;\n",
              "      border-radius: 50%;\n",
              "      cursor: pointer;\n",
              "      display: none;\n",
              "      fill: #1967D2;\n",
              "      height: 32px;\n",
              "      padding: 0 0 0 0;\n",
              "      width: 32px;\n",
              "    }\n",
              "\n",
              "    .colab-df-convert:hover {\n",
              "      background-color: #E2EBFA;\n",
              "      box-shadow: 0px 1px 2px rgba(60, 64, 67, 0.3), 0px 1px 3px 1px rgba(60, 64, 67, 0.15);\n",
              "      fill: #174EA6;\n",
              "    }\n",
              "\n",
              "    [theme=dark] .colab-df-convert {\n",
              "      background-color: #3B4455;\n",
              "      fill: #D2E3FC;\n",
              "    }\n",
              "\n",
              "    [theme=dark] .colab-df-convert:hover {\n",
              "      background-color: #434B5C;\n",
              "      box-shadow: 0px 1px 3px 1px rgba(0, 0, 0, 0.15);\n",
              "      filter: drop-shadow(0px 1px 2px rgba(0, 0, 0, 0.3));\n",
              "      fill: #FFFFFF;\n",
              "    }\n",
              "  </style>\n",
              "\n",
              "      <script>\n",
              "        const buttonEl =\n",
              "          document.querySelector('#df-ab0af903-3c8b-4b5d-9b33-8f3307569e2e button.colab-df-convert');\n",
              "        buttonEl.style.display =\n",
              "          google.colab.kernel.accessAllowed ? 'block' : 'none';\n",
              "\n",
              "        async function convertToInteractive(key) {\n",
              "          const element = document.querySelector('#df-ab0af903-3c8b-4b5d-9b33-8f3307569e2e');\n",
              "          const dataTable =\n",
              "            await google.colab.kernel.invokeFunction('convertToInteractive',\n",
              "                                                     [key], {});\n",
              "          if (!dataTable) return;\n",
              "\n",
              "          const docLinkHtml = 'Like what you see? Visit the ' +\n",
              "            '<a target=\"_blank\" href=https://colab.research.google.com/notebooks/data_table.ipynb>data table notebook</a>'\n",
              "            + ' to learn more about interactive tables.';\n",
              "          element.innerHTML = '';\n",
              "          dataTable['output_type'] = 'display_data';\n",
              "          await google.colab.output.renderOutput(dataTable, element);\n",
              "          const docLink = document.createElement('div');\n",
              "          docLink.innerHTML = docLinkHtml;\n",
              "          element.appendChild(docLink);\n",
              "        }\n",
              "      </script>\n",
              "    </div>\n",
              "  </div>\n",
              "  "
            ]
          },
          "metadata": {},
          "execution_count": 73
        }
      ]
    },
    {
      "cell_type": "code",
      "source": [
        "#상관관계가 있는 난수 구하기 (Cholensky decomposition)\n",
        "L = np.linalg.cholesky(corr)\n",
        "L"
      ],
      "metadata": {
        "colab": {
          "base_uri": "https://localhost:8080/"
        },
        "id": "RdjTHbMROV5f",
        "outputId": "8be2fccf-0fa5-4142-cb11-7f8134e54d95"
      },
      "execution_count": null,
      "outputs": [
        {
          "output_type": "execute_result",
          "data": {
            "text/plain": [
              "array([[1.        , 0.        , 0.        , 0.        , 0.        ],\n",
              "       [0.37042656, 0.92886176, 0.        , 0.        , 0.        ],\n",
              "       [0.26929862, 0.13514987, 0.95352649, 0.        , 0.        ],\n",
              "       [0.24269195, 0.31244084, 0.10645571, 0.91222175, 0.        ],\n",
              "       [0.09367281, 0.19032426, 0.21287345, 0.35381032, 0.885723  ]])"
            ]
          },
          "metadata": {},
          "execution_count": 74
        }
      ]
    },
    {
      "cell_type": "code",
      "source": [
        "A = np.random.standard_normal((5,5000))\n",
        "A = pd.DataFrame(A.T)\n",
        "print(A.mean(), A.std())"
      ],
      "metadata": {
        "colab": {
          "base_uri": "https://localhost:8080/"
        },
        "id": "4tqn76l8PGdz",
        "outputId": "ec18b56a-7e08-44f0-d519-77abf0699ebd"
      },
      "execution_count": null,
      "outputs": [
        {
          "output_type": "stream",
          "name": "stdout",
          "text": [
            "0   -0.012460\n",
            "1   -0.009533\n",
            "2    0.015748\n",
            "3   -0.016811\n",
            "4   -0.012241\n",
            "dtype: float64 0    1.006117\n",
            "1    1.013651\n",
            "2    0.999237\n",
            "3    1.019438\n",
            "4    0.989989\n",
            "dtype: float64\n"
          ]
        }
      ]
    },
    {
      "cell_type": "code",
      "source": [
        "A = A - A.mean()\n",
        "A.mean() #거의 0에 가까움"
      ],
      "metadata": {
        "colab": {
          "base_uri": "https://localhost:8080/"
        },
        "id": "Esiy-e5FPeuI",
        "outputId": "f10b4c28-f9d8-43c3-c487-4b27e804cc71"
      },
      "execution_count": null,
      "outputs": [
        {
          "output_type": "execute_result",
          "data": {
            "text/plain": [
              "0    1.104894e-16\n",
              "1   -1.423306e-17\n",
              "2   -6.349365e-17\n",
              "3   -7.509549e-17\n",
              "4   -9.776624e-17\n",
              "dtype: float64"
            ]
          },
          "metadata": {},
          "execution_count": 76
        }
      ]
    },
    {
      "cell_type": "code",
      "source": [
        "B = L @ A.T\n",
        "B = pd.DataFrame(B.T)\n",
        "B.columns = stocks.columns\n",
        "B"
      ],
      "metadata": {
        "colab": {
          "base_uri": "https://localhost:8080/",
          "height": 423
        },
        "id": "uV_lgchjPkCE",
        "outputId": "92aef179-56f9-495d-95e0-ce95a8a0be5f"
      },
      "execution_count": null,
      "outputs": [
        {
          "output_type": "execute_result",
          "data": {
            "text/plain": [
              "          AAPL       NKE       JNJ       DIS       XOM\n",
              "0     1.137930 -0.612042  0.259894  0.433289  0.375189\n",
              "1     0.727014  1.474296  0.891065  0.453103 -0.609732\n",
              "2    -0.356813 -0.277870 -0.434204  0.217058 -0.790063\n",
              "3    -0.282555 -0.151133  0.025940  0.184448 -0.086233\n",
              "4    -0.895724 -1.135275 -0.497691 -0.309970 -0.695485\n",
              "...        ...       ...       ...       ...       ...\n",
              "4995  0.782689  1.779082  1.125606  0.967502  1.196608\n",
              "4996  0.425497  1.168139  1.855168  2.114335  1.898401\n",
              "4997  0.969190  2.311779  2.254373  1.860907  1.747734\n",
              "4998  1.013597  0.392704  1.064602 -0.635180 -0.183734\n",
              "4999 -1.328201  0.364232 -0.595080  1.710703  0.026997\n",
              "\n",
              "[5000 rows x 5 columns]"
            ],
            "text/html": [
              "\n",
              "  <div id=\"df-8087fc03-6f6c-41c7-b788-8187ccddb8f7\">\n",
              "    <div class=\"colab-df-container\">\n",
              "      <div>\n",
              "<style scoped>\n",
              "    .dataframe tbody tr th:only-of-type {\n",
              "        vertical-align: middle;\n",
              "    }\n",
              "\n",
              "    .dataframe tbody tr th {\n",
              "        vertical-align: top;\n",
              "    }\n",
              "\n",
              "    .dataframe thead th {\n",
              "        text-align: right;\n",
              "    }\n",
              "</style>\n",
              "<table border=\"1\" class=\"dataframe\">\n",
              "  <thead>\n",
              "    <tr style=\"text-align: right;\">\n",
              "      <th></th>\n",
              "      <th>AAPL</th>\n",
              "      <th>NKE</th>\n",
              "      <th>JNJ</th>\n",
              "      <th>DIS</th>\n",
              "      <th>XOM</th>\n",
              "    </tr>\n",
              "  </thead>\n",
              "  <tbody>\n",
              "    <tr>\n",
              "      <th>0</th>\n",
              "      <td>1.137930</td>\n",
              "      <td>-0.612042</td>\n",
              "      <td>0.259894</td>\n",
              "      <td>0.433289</td>\n",
              "      <td>0.375189</td>\n",
              "    </tr>\n",
              "    <tr>\n",
              "      <th>1</th>\n",
              "      <td>0.727014</td>\n",
              "      <td>1.474296</td>\n",
              "      <td>0.891065</td>\n",
              "      <td>0.453103</td>\n",
              "      <td>-0.609732</td>\n",
              "    </tr>\n",
              "    <tr>\n",
              "      <th>2</th>\n",
              "      <td>-0.356813</td>\n",
              "      <td>-0.277870</td>\n",
              "      <td>-0.434204</td>\n",
              "      <td>0.217058</td>\n",
              "      <td>-0.790063</td>\n",
              "    </tr>\n",
              "    <tr>\n",
              "      <th>3</th>\n",
              "      <td>-0.282555</td>\n",
              "      <td>-0.151133</td>\n",
              "      <td>0.025940</td>\n",
              "      <td>0.184448</td>\n",
              "      <td>-0.086233</td>\n",
              "    </tr>\n",
              "    <tr>\n",
              "      <th>4</th>\n",
              "      <td>-0.895724</td>\n",
              "      <td>-1.135275</td>\n",
              "      <td>-0.497691</td>\n",
              "      <td>-0.309970</td>\n",
              "      <td>-0.695485</td>\n",
              "    </tr>\n",
              "    <tr>\n",
              "      <th>...</th>\n",
              "      <td>...</td>\n",
              "      <td>...</td>\n",
              "      <td>...</td>\n",
              "      <td>...</td>\n",
              "      <td>...</td>\n",
              "    </tr>\n",
              "    <tr>\n",
              "      <th>4995</th>\n",
              "      <td>0.782689</td>\n",
              "      <td>1.779082</td>\n",
              "      <td>1.125606</td>\n",
              "      <td>0.967502</td>\n",
              "      <td>1.196608</td>\n",
              "    </tr>\n",
              "    <tr>\n",
              "      <th>4996</th>\n",
              "      <td>0.425497</td>\n",
              "      <td>1.168139</td>\n",
              "      <td>1.855168</td>\n",
              "      <td>2.114335</td>\n",
              "      <td>1.898401</td>\n",
              "    </tr>\n",
              "    <tr>\n",
              "      <th>4997</th>\n",
              "      <td>0.969190</td>\n",
              "      <td>2.311779</td>\n",
              "      <td>2.254373</td>\n",
              "      <td>1.860907</td>\n",
              "      <td>1.747734</td>\n",
              "    </tr>\n",
              "    <tr>\n",
              "      <th>4998</th>\n",
              "      <td>1.013597</td>\n",
              "      <td>0.392704</td>\n",
              "      <td>1.064602</td>\n",
              "      <td>-0.635180</td>\n",
              "      <td>-0.183734</td>\n",
              "    </tr>\n",
              "    <tr>\n",
              "      <th>4999</th>\n",
              "      <td>-1.328201</td>\n",
              "      <td>0.364232</td>\n",
              "      <td>-0.595080</td>\n",
              "      <td>1.710703</td>\n",
              "      <td>0.026997</td>\n",
              "    </tr>\n",
              "  </tbody>\n",
              "</table>\n",
              "<p>5000 rows × 5 columns</p>\n",
              "</div>\n",
              "      <button class=\"colab-df-convert\" onclick=\"convertToInteractive('df-8087fc03-6f6c-41c7-b788-8187ccddb8f7')\"\n",
              "              title=\"Convert this dataframe to an interactive table.\"\n",
              "              style=\"display:none;\">\n",
              "        \n",
              "  <svg xmlns=\"http://www.w3.org/2000/svg\" height=\"24px\"viewBox=\"0 0 24 24\"\n",
              "       width=\"24px\">\n",
              "    <path d=\"M0 0h24v24H0V0z\" fill=\"none\"/>\n",
              "    <path d=\"M18.56 5.44l.94 2.06.94-2.06 2.06-.94-2.06-.94-.94-2.06-.94 2.06-2.06.94zm-11 1L8.5 8.5l.94-2.06 2.06-.94-2.06-.94L8.5 2.5l-.94 2.06-2.06.94zm10 10l.94 2.06.94-2.06 2.06-.94-2.06-.94-.94-2.06-.94 2.06-2.06.94z\"/><path d=\"M17.41 7.96l-1.37-1.37c-.4-.4-.92-.59-1.43-.59-.52 0-1.04.2-1.43.59L10.3 9.45l-7.72 7.72c-.78.78-.78 2.05 0 2.83L4 21.41c.39.39.9.59 1.41.59.51 0 1.02-.2 1.41-.59l7.78-7.78 2.81-2.81c.8-.78.8-2.07 0-2.86zM5.41 20L4 18.59l7.72-7.72 1.47 1.35L5.41 20z\"/>\n",
              "  </svg>\n",
              "      </button>\n",
              "      \n",
              "  <style>\n",
              "    .colab-df-container {\n",
              "      display:flex;\n",
              "      flex-wrap:wrap;\n",
              "      gap: 12px;\n",
              "    }\n",
              "\n",
              "    .colab-df-convert {\n",
              "      background-color: #E8F0FE;\n",
              "      border: none;\n",
              "      border-radius: 50%;\n",
              "      cursor: pointer;\n",
              "      display: none;\n",
              "      fill: #1967D2;\n",
              "      height: 32px;\n",
              "      padding: 0 0 0 0;\n",
              "      width: 32px;\n",
              "    }\n",
              "\n",
              "    .colab-df-convert:hover {\n",
              "      background-color: #E2EBFA;\n",
              "      box-shadow: 0px 1px 2px rgba(60, 64, 67, 0.3), 0px 1px 3px 1px rgba(60, 64, 67, 0.15);\n",
              "      fill: #174EA6;\n",
              "    }\n",
              "\n",
              "    [theme=dark] .colab-df-convert {\n",
              "      background-color: #3B4455;\n",
              "      fill: #D2E3FC;\n",
              "    }\n",
              "\n",
              "    [theme=dark] .colab-df-convert:hover {\n",
              "      background-color: #434B5C;\n",
              "      box-shadow: 0px 1px 3px 1px rgba(0, 0, 0, 0.15);\n",
              "      filter: drop-shadow(0px 1px 2px rgba(0, 0, 0, 0.3));\n",
              "      fill: #FFFFFF;\n",
              "    }\n",
              "  </style>\n",
              "\n",
              "      <script>\n",
              "        const buttonEl =\n",
              "          document.querySelector('#df-8087fc03-6f6c-41c7-b788-8187ccddb8f7 button.colab-df-convert');\n",
              "        buttonEl.style.display =\n",
              "          google.colab.kernel.accessAllowed ? 'block' : 'none';\n",
              "\n",
              "        async function convertToInteractive(key) {\n",
              "          const element = document.querySelector('#df-8087fc03-6f6c-41c7-b788-8187ccddb8f7');\n",
              "          const dataTable =\n",
              "            await google.colab.kernel.invokeFunction('convertToInteractive',\n",
              "                                                     [key], {});\n",
              "          if (!dataTable) return;\n",
              "\n",
              "          const docLinkHtml = 'Like what you see? Visit the ' +\n",
              "            '<a target=\"_blank\" href=https://colab.research.google.com/notebooks/data_table.ipynb>data table notebook</a>'\n",
              "            + ' to learn more about interactive tables.';\n",
              "          element.innerHTML = '';\n",
              "          dataTable['output_type'] = 'display_data';\n",
              "          await google.colab.output.renderOutput(dataTable, element);\n",
              "          const docLink = document.createElement('div');\n",
              "          docLink.innerHTML = docLinkHtml;\n",
              "          element.appendChild(docLink);\n",
              "        }\n",
              "      </script>\n",
              "    </div>\n",
              "  </div>\n",
              "  "
            ]
          },
          "metadata": {},
          "execution_count": 77
        }
      ]
    },
    {
      "cell_type": "code",
      "source": [
        "B.corr() #stocks의 correlation하고 비슷"
      ],
      "metadata": {
        "colab": {
          "base_uri": "https://localhost:8080/",
          "height": 206
        },
        "id": "isKtpwYJPx54",
        "outputId": "5de1d5ff-7f6c-44e3-e2bb-169c316ceba4"
      },
      "execution_count": null,
      "outputs": [
        {
          "output_type": "execute_result",
          "data": {
            "text/plain": [
              "          AAPL       NKE       JNJ       DIS       XOM\n",
              "AAPL  1.000000  0.381655  0.244353  0.253887  0.093422\n",
              "NKE   0.381655  1.000000  0.216506  0.377134  0.222365\n",
              "JNJ   0.244353  0.216506  1.000000  0.172257  0.227755\n",
              "DIS   0.253887  0.377134  0.172257  1.000000  0.436575\n",
              "XOM   0.093422  0.222365  0.227755  0.436575  1.000000"
            ],
            "text/html": [
              "\n",
              "  <div id=\"df-9199a774-acbf-4e4d-b682-31686714d77d\">\n",
              "    <div class=\"colab-df-container\">\n",
              "      <div>\n",
              "<style scoped>\n",
              "    .dataframe tbody tr th:only-of-type {\n",
              "        vertical-align: middle;\n",
              "    }\n",
              "\n",
              "    .dataframe tbody tr th {\n",
              "        vertical-align: top;\n",
              "    }\n",
              "\n",
              "    .dataframe thead th {\n",
              "        text-align: right;\n",
              "    }\n",
              "</style>\n",
              "<table border=\"1\" class=\"dataframe\">\n",
              "  <thead>\n",
              "    <tr style=\"text-align: right;\">\n",
              "      <th></th>\n",
              "      <th>AAPL</th>\n",
              "      <th>NKE</th>\n",
              "      <th>JNJ</th>\n",
              "      <th>DIS</th>\n",
              "      <th>XOM</th>\n",
              "    </tr>\n",
              "  </thead>\n",
              "  <tbody>\n",
              "    <tr>\n",
              "      <th>AAPL</th>\n",
              "      <td>1.000000</td>\n",
              "      <td>0.381655</td>\n",
              "      <td>0.244353</td>\n",
              "      <td>0.253887</td>\n",
              "      <td>0.093422</td>\n",
              "    </tr>\n",
              "    <tr>\n",
              "      <th>NKE</th>\n",
              "      <td>0.381655</td>\n",
              "      <td>1.000000</td>\n",
              "      <td>0.216506</td>\n",
              "      <td>0.377134</td>\n",
              "      <td>0.222365</td>\n",
              "    </tr>\n",
              "    <tr>\n",
              "      <th>JNJ</th>\n",
              "      <td>0.244353</td>\n",
              "      <td>0.216506</td>\n",
              "      <td>1.000000</td>\n",
              "      <td>0.172257</td>\n",
              "      <td>0.227755</td>\n",
              "    </tr>\n",
              "    <tr>\n",
              "      <th>DIS</th>\n",
              "      <td>0.253887</td>\n",
              "      <td>0.377134</td>\n",
              "      <td>0.172257</td>\n",
              "      <td>1.000000</td>\n",
              "      <td>0.436575</td>\n",
              "    </tr>\n",
              "    <tr>\n",
              "      <th>XOM</th>\n",
              "      <td>0.093422</td>\n",
              "      <td>0.222365</td>\n",
              "      <td>0.227755</td>\n",
              "      <td>0.436575</td>\n",
              "      <td>1.000000</td>\n",
              "    </tr>\n",
              "  </tbody>\n",
              "</table>\n",
              "</div>\n",
              "      <button class=\"colab-df-convert\" onclick=\"convertToInteractive('df-9199a774-acbf-4e4d-b682-31686714d77d')\"\n",
              "              title=\"Convert this dataframe to an interactive table.\"\n",
              "              style=\"display:none;\">\n",
              "        \n",
              "  <svg xmlns=\"http://www.w3.org/2000/svg\" height=\"24px\"viewBox=\"0 0 24 24\"\n",
              "       width=\"24px\">\n",
              "    <path d=\"M0 0h24v24H0V0z\" fill=\"none\"/>\n",
              "    <path d=\"M18.56 5.44l.94 2.06.94-2.06 2.06-.94-2.06-.94-.94-2.06-.94 2.06-2.06.94zm-11 1L8.5 8.5l.94-2.06 2.06-.94-2.06-.94L8.5 2.5l-.94 2.06-2.06.94zm10 10l.94 2.06.94-2.06 2.06-.94-2.06-.94-.94-2.06-.94 2.06-2.06.94z\"/><path d=\"M17.41 7.96l-1.37-1.37c-.4-.4-.92-.59-1.43-.59-.52 0-1.04.2-1.43.59L10.3 9.45l-7.72 7.72c-.78.78-.78 2.05 0 2.83L4 21.41c.39.39.9.59 1.41.59.51 0 1.02-.2 1.41-.59l7.78-7.78 2.81-2.81c.8-.78.8-2.07 0-2.86zM5.41 20L4 18.59l7.72-7.72 1.47 1.35L5.41 20z\"/>\n",
              "  </svg>\n",
              "      </button>\n",
              "      \n",
              "  <style>\n",
              "    .colab-df-container {\n",
              "      display:flex;\n",
              "      flex-wrap:wrap;\n",
              "      gap: 12px;\n",
              "    }\n",
              "\n",
              "    .colab-df-convert {\n",
              "      background-color: #E8F0FE;\n",
              "      border: none;\n",
              "      border-radius: 50%;\n",
              "      cursor: pointer;\n",
              "      display: none;\n",
              "      fill: #1967D2;\n",
              "      height: 32px;\n",
              "      padding: 0 0 0 0;\n",
              "      width: 32px;\n",
              "    }\n",
              "\n",
              "    .colab-df-convert:hover {\n",
              "      background-color: #E2EBFA;\n",
              "      box-shadow: 0px 1px 2px rgba(60, 64, 67, 0.3), 0px 1px 3px 1px rgba(60, 64, 67, 0.15);\n",
              "      fill: #174EA6;\n",
              "    }\n",
              "\n",
              "    [theme=dark] .colab-df-convert {\n",
              "      background-color: #3B4455;\n",
              "      fill: #D2E3FC;\n",
              "    }\n",
              "\n",
              "    [theme=dark] .colab-df-convert:hover {\n",
              "      background-color: #434B5C;\n",
              "      box-shadow: 0px 1px 3px 1px rgba(0, 0, 0, 0.15);\n",
              "      filter: drop-shadow(0px 1px 2px rgba(0, 0, 0, 0.3));\n",
              "      fill: #FFFFFF;\n",
              "    }\n",
              "  </style>\n",
              "\n",
              "      <script>\n",
              "        const buttonEl =\n",
              "          document.querySelector('#df-9199a774-acbf-4e4d-b682-31686714d77d button.colab-df-convert');\n",
              "        buttonEl.style.display =\n",
              "          google.colab.kernel.accessAllowed ? 'block' : 'none';\n",
              "\n",
              "        async function convertToInteractive(key) {\n",
              "          const element = document.querySelector('#df-9199a774-acbf-4e4d-b682-31686714d77d');\n",
              "          const dataTable =\n",
              "            await google.colab.kernel.invokeFunction('convertToInteractive',\n",
              "                                                     [key], {});\n",
              "          if (!dataTable) return;\n",
              "\n",
              "          const docLinkHtml = 'Like what you see? Visit the ' +\n",
              "            '<a target=\"_blank\" href=https://colab.research.google.com/notebooks/data_table.ipynb>data table notebook</a>'\n",
              "            + ' to learn more about interactive tables.';\n",
              "          element.innerHTML = '';\n",
              "          dataTable['output_type'] = 'display_data';\n",
              "          await google.colab.output.renderOutput(dataTable, element);\n",
              "          const docLink = document.createElement('div');\n",
              "          docLink.innerHTML = docLinkHtml;\n",
              "          element.appendChild(docLink);\n",
              "        }\n",
              "      </script>\n",
              "    </div>\n",
              "  </div>\n",
              "  "
            ]
          },
          "metadata": {},
          "execution_count": 78
        }
      ]
    },
    {
      "cell_type": "code",
      "source": [
        "stocks.corr()"
      ],
      "metadata": {
        "colab": {
          "base_uri": "https://localhost:8080/",
          "height": 206
        },
        "id": "N-41bU-NP7Or",
        "outputId": "38370c43-14f2-4ac7-f0c6-05fcfa97fe8d"
      },
      "execution_count": null,
      "outputs": [
        {
          "output_type": "execute_result",
          "data": {
            "text/plain": [
              "          AAPL       NKE       JNJ       DIS       XOM\n",
              "AAPL  1.000000  0.370427  0.269299  0.242692  0.093673\n",
              "NKE   0.370427  1.000000  0.225291  0.380114  0.211484\n",
              "JNJ   0.269299  0.225291  1.000000  0.209091  0.253929\n",
              "DIS   0.242692  0.380114  0.209091  1.000000  0.427614\n",
              "XOM   0.093673  0.211484  0.253929  0.427614  1.000000"
            ],
            "text/html": [
              "\n",
              "  <div id=\"df-1b54f402-3be9-47a9-805f-22bc945c257c\">\n",
              "    <div class=\"colab-df-container\">\n",
              "      <div>\n",
              "<style scoped>\n",
              "    .dataframe tbody tr th:only-of-type {\n",
              "        vertical-align: middle;\n",
              "    }\n",
              "\n",
              "    .dataframe tbody tr th {\n",
              "        vertical-align: top;\n",
              "    }\n",
              "\n",
              "    .dataframe thead th {\n",
              "        text-align: right;\n",
              "    }\n",
              "</style>\n",
              "<table border=\"1\" class=\"dataframe\">\n",
              "  <thead>\n",
              "    <tr style=\"text-align: right;\">\n",
              "      <th></th>\n",
              "      <th>AAPL</th>\n",
              "      <th>NKE</th>\n",
              "      <th>JNJ</th>\n",
              "      <th>DIS</th>\n",
              "      <th>XOM</th>\n",
              "    </tr>\n",
              "  </thead>\n",
              "  <tbody>\n",
              "    <tr>\n",
              "      <th>AAPL</th>\n",
              "      <td>1.000000</td>\n",
              "      <td>0.370427</td>\n",
              "      <td>0.269299</td>\n",
              "      <td>0.242692</td>\n",
              "      <td>0.093673</td>\n",
              "    </tr>\n",
              "    <tr>\n",
              "      <th>NKE</th>\n",
              "      <td>0.370427</td>\n",
              "      <td>1.000000</td>\n",
              "      <td>0.225291</td>\n",
              "      <td>0.380114</td>\n",
              "      <td>0.211484</td>\n",
              "    </tr>\n",
              "    <tr>\n",
              "      <th>JNJ</th>\n",
              "      <td>0.269299</td>\n",
              "      <td>0.225291</td>\n",
              "      <td>1.000000</td>\n",
              "      <td>0.209091</td>\n",
              "      <td>0.253929</td>\n",
              "    </tr>\n",
              "    <tr>\n",
              "      <th>DIS</th>\n",
              "      <td>0.242692</td>\n",
              "      <td>0.380114</td>\n",
              "      <td>0.209091</td>\n",
              "      <td>1.000000</td>\n",
              "      <td>0.427614</td>\n",
              "    </tr>\n",
              "    <tr>\n",
              "      <th>XOM</th>\n",
              "      <td>0.093673</td>\n",
              "      <td>0.211484</td>\n",
              "      <td>0.253929</td>\n",
              "      <td>0.427614</td>\n",
              "      <td>1.000000</td>\n",
              "    </tr>\n",
              "  </tbody>\n",
              "</table>\n",
              "</div>\n",
              "      <button class=\"colab-df-convert\" onclick=\"convertToInteractive('df-1b54f402-3be9-47a9-805f-22bc945c257c')\"\n",
              "              title=\"Convert this dataframe to an interactive table.\"\n",
              "              style=\"display:none;\">\n",
              "        \n",
              "  <svg xmlns=\"http://www.w3.org/2000/svg\" height=\"24px\"viewBox=\"0 0 24 24\"\n",
              "       width=\"24px\">\n",
              "    <path d=\"M0 0h24v24H0V0z\" fill=\"none\"/>\n",
              "    <path d=\"M18.56 5.44l.94 2.06.94-2.06 2.06-.94-2.06-.94-.94-2.06-.94 2.06-2.06.94zm-11 1L8.5 8.5l.94-2.06 2.06-.94-2.06-.94L8.5 2.5l-.94 2.06-2.06.94zm10 10l.94 2.06.94-2.06 2.06-.94-2.06-.94-.94-2.06-.94 2.06-2.06.94z\"/><path d=\"M17.41 7.96l-1.37-1.37c-.4-.4-.92-.59-1.43-.59-.52 0-1.04.2-1.43.59L10.3 9.45l-7.72 7.72c-.78.78-.78 2.05 0 2.83L4 21.41c.39.39.9.59 1.41.59.51 0 1.02-.2 1.41-.59l7.78-7.78 2.81-2.81c.8-.78.8-2.07 0-2.86zM5.41 20L4 18.59l7.72-7.72 1.47 1.35L5.41 20z\"/>\n",
              "  </svg>\n",
              "      </button>\n",
              "      \n",
              "  <style>\n",
              "    .colab-df-container {\n",
              "      display:flex;\n",
              "      flex-wrap:wrap;\n",
              "      gap: 12px;\n",
              "    }\n",
              "\n",
              "    .colab-df-convert {\n",
              "      background-color: #E8F0FE;\n",
              "      border: none;\n",
              "      border-radius: 50%;\n",
              "      cursor: pointer;\n",
              "      display: none;\n",
              "      fill: #1967D2;\n",
              "      height: 32px;\n",
              "      padding: 0 0 0 0;\n",
              "      width: 32px;\n",
              "    }\n",
              "\n",
              "    .colab-df-convert:hover {\n",
              "      background-color: #E2EBFA;\n",
              "      box-shadow: 0px 1px 2px rgba(60, 64, 67, 0.3), 0px 1px 3px 1px rgba(60, 64, 67, 0.15);\n",
              "      fill: #174EA6;\n",
              "    }\n",
              "\n",
              "    [theme=dark] .colab-df-convert {\n",
              "      background-color: #3B4455;\n",
              "      fill: #D2E3FC;\n",
              "    }\n",
              "\n",
              "    [theme=dark] .colab-df-convert:hover {\n",
              "      background-color: #434B5C;\n",
              "      box-shadow: 0px 1px 3px 1px rgba(0, 0, 0, 0.15);\n",
              "      filter: drop-shadow(0px 1px 2px rgba(0, 0, 0, 0.3));\n",
              "      fill: #FFFFFF;\n",
              "    }\n",
              "  </style>\n",
              "\n",
              "      <script>\n",
              "        const buttonEl =\n",
              "          document.querySelector('#df-1b54f402-3be9-47a9-805f-22bc945c257c button.colab-df-convert');\n",
              "        buttonEl.style.display =\n",
              "          google.colab.kernel.accessAllowed ? 'block' : 'none';\n",
              "\n",
              "        async function convertToInteractive(key) {\n",
              "          const element = document.querySelector('#df-1b54f402-3be9-47a9-805f-22bc945c257c');\n",
              "          const dataTable =\n",
              "            await google.colab.kernel.invokeFunction('convertToInteractive',\n",
              "                                                     [key], {});\n",
              "          if (!dataTable) return;\n",
              "\n",
              "          const docLinkHtml = 'Like what you see? Visit the ' +\n",
              "            '<a target=\"_blank\" href=https://colab.research.google.com/notebooks/data_table.ipynb>data table notebook</a>'\n",
              "            + ' to learn more about interactive tables.';\n",
              "          element.innerHTML = '';\n",
              "          dataTable['output_type'] = 'display_data';\n",
              "          await google.colab.output.renderOutput(dataTable, element);\n",
              "          const docLink = document.createElement('div');\n",
              "          docLink.innerHTML = docLinkHtml;\n",
              "          element.appendChild(docLink);\n",
              "        }\n",
              "      </script>\n",
              "    </div>\n",
              "  </div>\n",
              "  "
            ]
          },
          "metadata": {},
          "execution_count": 79
        }
      ]
    },
    {
      "cell_type": "code",
      "source": [
        "sigmas = stocks.std()\n",
        "sigmas"
      ],
      "metadata": {
        "colab": {
          "base_uri": "https://localhost:8080/"
        },
        "id": "buhPOsEXP8nN",
        "outputId": "da1de3f9-f084-403a-8dfd-9471c0677727"
      },
      "execution_count": null,
      "outputs": [
        {
          "output_type": "execute_result",
          "data": {
            "text/plain": [
              "AAPL    0.019631\n",
              "NKE     0.018835\n",
              "JNJ     0.010817\n",
              "DIS     0.020370\n",
              "XOM     0.023950\n",
              "dtype: float64"
            ]
          },
          "metadata": {},
          "execution_count": 80
        }
      ]
    },
    {
      "cell_type": "code",
      "source": [
        "returns = B * sigmas\n",
        "returns"
      ],
      "metadata": {
        "colab": {
          "base_uri": "https://localhost:8080/",
          "height": 423
        },
        "id": "CoflCi6RQLO3",
        "outputId": "6d7ea81b-a0d8-411b-b797-f86103533678"
      },
      "execution_count": null,
      "outputs": [
        {
          "output_type": "execute_result",
          "data": {
            "text/plain": [
              "          AAPL       NKE       JNJ       DIS       XOM\n",
              "0     0.022338 -0.011528  0.002811  0.008826  0.008986\n",
              "1     0.014272  0.027769  0.009638  0.009230 -0.014603\n",
              "2    -0.007004 -0.005234 -0.004697  0.004421 -0.018922\n",
              "3    -0.005547 -0.002847  0.000281  0.003757 -0.002065\n",
              "4    -0.017584 -0.021383 -0.005383 -0.006314 -0.016657\n",
              "...        ...       ...       ...       ...       ...\n",
              "4995  0.015365  0.033509  0.012175  0.019708  0.028659\n",
              "4996  0.008353  0.022002  0.020067  0.043069  0.045467\n",
              "4997  0.019026  0.043543  0.024385  0.037906  0.041858\n",
              "4998  0.019897  0.007397  0.011515 -0.012939 -0.004400\n",
              "4999 -0.026073  0.006860 -0.006437  0.034847  0.000647\n",
              "\n",
              "[5000 rows x 5 columns]"
            ],
            "text/html": [
              "\n",
              "  <div id=\"df-efd1e5c9-7db4-4390-9bb7-a5f1b657fed5\">\n",
              "    <div class=\"colab-df-container\">\n",
              "      <div>\n",
              "<style scoped>\n",
              "    .dataframe tbody tr th:only-of-type {\n",
              "        vertical-align: middle;\n",
              "    }\n",
              "\n",
              "    .dataframe tbody tr th {\n",
              "        vertical-align: top;\n",
              "    }\n",
              "\n",
              "    .dataframe thead th {\n",
              "        text-align: right;\n",
              "    }\n",
              "</style>\n",
              "<table border=\"1\" class=\"dataframe\">\n",
              "  <thead>\n",
              "    <tr style=\"text-align: right;\">\n",
              "      <th></th>\n",
              "      <th>AAPL</th>\n",
              "      <th>NKE</th>\n",
              "      <th>JNJ</th>\n",
              "      <th>DIS</th>\n",
              "      <th>XOM</th>\n",
              "    </tr>\n",
              "  </thead>\n",
              "  <tbody>\n",
              "    <tr>\n",
              "      <th>0</th>\n",
              "      <td>0.022338</td>\n",
              "      <td>-0.011528</td>\n",
              "      <td>0.002811</td>\n",
              "      <td>0.008826</td>\n",
              "      <td>0.008986</td>\n",
              "    </tr>\n",
              "    <tr>\n",
              "      <th>1</th>\n",
              "      <td>0.014272</td>\n",
              "      <td>0.027769</td>\n",
              "      <td>0.009638</td>\n",
              "      <td>0.009230</td>\n",
              "      <td>-0.014603</td>\n",
              "    </tr>\n",
              "    <tr>\n",
              "      <th>2</th>\n",
              "      <td>-0.007004</td>\n",
              "      <td>-0.005234</td>\n",
              "      <td>-0.004697</td>\n",
              "      <td>0.004421</td>\n",
              "      <td>-0.018922</td>\n",
              "    </tr>\n",
              "    <tr>\n",
              "      <th>3</th>\n",
              "      <td>-0.005547</td>\n",
              "      <td>-0.002847</td>\n",
              "      <td>0.000281</td>\n",
              "      <td>0.003757</td>\n",
              "      <td>-0.002065</td>\n",
              "    </tr>\n",
              "    <tr>\n",
              "      <th>4</th>\n",
              "      <td>-0.017584</td>\n",
              "      <td>-0.021383</td>\n",
              "      <td>-0.005383</td>\n",
              "      <td>-0.006314</td>\n",
              "      <td>-0.016657</td>\n",
              "    </tr>\n",
              "    <tr>\n",
              "      <th>...</th>\n",
              "      <td>...</td>\n",
              "      <td>...</td>\n",
              "      <td>...</td>\n",
              "      <td>...</td>\n",
              "      <td>...</td>\n",
              "    </tr>\n",
              "    <tr>\n",
              "      <th>4995</th>\n",
              "      <td>0.015365</td>\n",
              "      <td>0.033509</td>\n",
              "      <td>0.012175</td>\n",
              "      <td>0.019708</td>\n",
              "      <td>0.028659</td>\n",
              "    </tr>\n",
              "    <tr>\n",
              "      <th>4996</th>\n",
              "      <td>0.008353</td>\n",
              "      <td>0.022002</td>\n",
              "      <td>0.020067</td>\n",
              "      <td>0.043069</td>\n",
              "      <td>0.045467</td>\n",
              "    </tr>\n",
              "    <tr>\n",
              "      <th>4997</th>\n",
              "      <td>0.019026</td>\n",
              "      <td>0.043543</td>\n",
              "      <td>0.024385</td>\n",
              "      <td>0.037906</td>\n",
              "      <td>0.041858</td>\n",
              "    </tr>\n",
              "    <tr>\n",
              "      <th>4998</th>\n",
              "      <td>0.019897</td>\n",
              "      <td>0.007397</td>\n",
              "      <td>0.011515</td>\n",
              "      <td>-0.012939</td>\n",
              "      <td>-0.004400</td>\n",
              "    </tr>\n",
              "    <tr>\n",
              "      <th>4999</th>\n",
              "      <td>-0.026073</td>\n",
              "      <td>0.006860</td>\n",
              "      <td>-0.006437</td>\n",
              "      <td>0.034847</td>\n",
              "      <td>0.000647</td>\n",
              "    </tr>\n",
              "  </tbody>\n",
              "</table>\n",
              "<p>5000 rows × 5 columns</p>\n",
              "</div>\n",
              "      <button class=\"colab-df-convert\" onclick=\"convertToInteractive('df-efd1e5c9-7db4-4390-9bb7-a5f1b657fed5')\"\n",
              "              title=\"Convert this dataframe to an interactive table.\"\n",
              "              style=\"display:none;\">\n",
              "        \n",
              "  <svg xmlns=\"http://www.w3.org/2000/svg\" height=\"24px\"viewBox=\"0 0 24 24\"\n",
              "       width=\"24px\">\n",
              "    <path d=\"M0 0h24v24H0V0z\" fill=\"none\"/>\n",
              "    <path d=\"M18.56 5.44l.94 2.06.94-2.06 2.06-.94-2.06-.94-.94-2.06-.94 2.06-2.06.94zm-11 1L8.5 8.5l.94-2.06 2.06-.94-2.06-.94L8.5 2.5l-.94 2.06-2.06.94zm10 10l.94 2.06.94-2.06 2.06-.94-2.06-.94-.94-2.06-.94 2.06-2.06.94z\"/><path d=\"M17.41 7.96l-1.37-1.37c-.4-.4-.92-.59-1.43-.59-.52 0-1.04.2-1.43.59L10.3 9.45l-7.72 7.72c-.78.78-.78 2.05 0 2.83L4 21.41c.39.39.9.59 1.41.59.51 0 1.02-.2 1.41-.59l7.78-7.78 2.81-2.81c.8-.78.8-2.07 0-2.86zM5.41 20L4 18.59l7.72-7.72 1.47 1.35L5.41 20z\"/>\n",
              "  </svg>\n",
              "      </button>\n",
              "      \n",
              "  <style>\n",
              "    .colab-df-container {\n",
              "      display:flex;\n",
              "      flex-wrap:wrap;\n",
              "      gap: 12px;\n",
              "    }\n",
              "\n",
              "    .colab-df-convert {\n",
              "      background-color: #E8F0FE;\n",
              "      border: none;\n",
              "      border-radius: 50%;\n",
              "      cursor: pointer;\n",
              "      display: none;\n",
              "      fill: #1967D2;\n",
              "      height: 32px;\n",
              "      padding: 0 0 0 0;\n",
              "      width: 32px;\n",
              "    }\n",
              "\n",
              "    .colab-df-convert:hover {\n",
              "      background-color: #E2EBFA;\n",
              "      box-shadow: 0px 1px 2px rgba(60, 64, 67, 0.3), 0px 1px 3px 1px rgba(60, 64, 67, 0.15);\n",
              "      fill: #174EA6;\n",
              "    }\n",
              "\n",
              "    [theme=dark] .colab-df-convert {\n",
              "      background-color: #3B4455;\n",
              "      fill: #D2E3FC;\n",
              "    }\n",
              "\n",
              "    [theme=dark] .colab-df-convert:hover {\n",
              "      background-color: #434B5C;\n",
              "      box-shadow: 0px 1px 3px 1px rgba(0, 0, 0, 0.15);\n",
              "      filter: drop-shadow(0px 1px 2px rgba(0, 0, 0, 0.3));\n",
              "      fill: #FFFFFF;\n",
              "    }\n",
              "  </style>\n",
              "\n",
              "      <script>\n",
              "        const buttonEl =\n",
              "          document.querySelector('#df-efd1e5c9-7db4-4390-9bb7-a5f1b657fed5 button.colab-df-convert');\n",
              "        buttonEl.style.display =\n",
              "          google.colab.kernel.accessAllowed ? 'block' : 'none';\n",
              "\n",
              "        async function convertToInteractive(key) {\n",
              "          const element = document.querySelector('#df-efd1e5c9-7db4-4390-9bb7-a5f1b657fed5');\n",
              "          const dataTable =\n",
              "            await google.colab.kernel.invokeFunction('convertToInteractive',\n",
              "                                                     [key], {});\n",
              "          if (!dataTable) return;\n",
              "\n",
              "          const docLinkHtml = 'Like what you see? Visit the ' +\n",
              "            '<a target=\"_blank\" href=https://colab.research.google.com/notebooks/data_table.ipynb>data table notebook</a>'\n",
              "            + ' to learn more about interactive tables.';\n",
              "          element.innerHTML = '';\n",
              "          dataTable['output_type'] = 'display_data';\n",
              "          await google.colab.output.renderOutput(dataTable, element);\n",
              "          const docLink = document.createElement('div');\n",
              "          docLink.innerHTML = docLinkHtml;\n",
              "          element.appendChild(docLink);\n",
              "        }\n",
              "      </script>\n",
              "    </div>\n",
              "  </div>\n",
              "  "
            ]
          },
          "metadata": {},
          "execution_count": 81
        }
      ]
    },
    {
      "cell_type": "code",
      "source": [
        "stocks.std()"
      ],
      "metadata": {
        "colab": {
          "base_uri": "https://localhost:8080/"
        },
        "id": "kYzw44vXQPGg",
        "outputId": "409af81e-9597-4476-d0a6-73dfdbbac631"
      },
      "execution_count": null,
      "outputs": [
        {
          "output_type": "execute_result",
          "data": {
            "text/plain": [
              "AAPL    0.019631\n",
              "NKE     0.018835\n",
              "JNJ     0.010817\n",
              "DIS     0.020370\n",
              "XOM     0.023950\n",
              "dtype: float64"
            ]
          },
          "metadata": {},
          "execution_count": 82
        }
      ]
    },
    {
      "cell_type": "code",
      "source": [
        "returns.std()"
      ],
      "metadata": {
        "colab": {
          "base_uri": "https://localhost:8080/"
        },
        "id": "iICQWWNRQgvW",
        "outputId": "1ac7146f-3724-444a-d130-473d103bc66b"
      },
      "execution_count": null,
      "outputs": [
        {
          "output_type": "execute_result",
          "data": {
            "text/plain": [
              "AAPL    0.019751\n",
              "NKE     0.019184\n",
              "JNJ     0.010724\n",
              "DIS     0.020674\n",
              "XOM     0.023776\n",
              "dtype: float64"
            ]
          },
          "metadata": {},
          "execution_count": 83
        }
      ]
    },
    {
      "cell_type": "code",
      "source": [
        "weights = [0.1, 0.2, 0.2, 0.25, 0.25]\n",
        "portfolio = returns @ weights\n",
        "portfolio"
      ],
      "metadata": {
        "colab": {
          "base_uri": "https://localhost:8080/"
        },
        "id": "-XbjcTDRQizH",
        "outputId": "305a4d44-abf1-4089-a423-72f698c2a242"
      },
      "execution_count": null,
      "outputs": [
        {
          "output_type": "execute_result",
          "data": {
            "text/plain": [
              "0       0.004943\n",
              "1       0.007565\n",
              "2      -0.006312\n",
              "3      -0.000645\n",
              "4      -0.012854\n",
              "          ...   \n",
              "4995    0.022765\n",
              "4996    0.031383\n",
              "4997    0.035429\n",
              "4998    0.001437\n",
              "4999    0.006351\n",
              "Length: 5000, dtype: float64"
            ]
          },
          "metadata": {},
          "execution_count": 84
        }
      ]
    },
    {
      "cell_type": "code",
      "source": [
        "a = portfolio.sort_values()\n",
        "a"
      ],
      "metadata": {
        "colab": {
          "base_uri": "https://localhost:8080/"
        },
        "id": "_otskaypQ3dq",
        "outputId": "6a9fe7b3-db51-4781-fd6f-2f3e1755f384"
      },
      "execution_count": null,
      "outputs": [
        {
          "output_type": "execute_result",
          "data": {
            "text/plain": [
              "397    -0.047079\n",
              "3984   -0.041476\n",
              "2442   -0.041423\n",
              "2040   -0.038451\n",
              "4227   -0.037413\n",
              "          ...   \n",
              "4595    0.038618\n",
              "1121    0.039339\n",
              "3702    0.039519\n",
              "767     0.041569\n",
              "1270    0.045039\n",
              "Length: 5000, dtype: float64"
            ]
          },
          "metadata": {},
          "execution_count": 85
        }
      ]
    },
    {
      "cell_type": "code",
      "source": [
        "MC_VaR = a.iloc[49]\n",
        "MC_VaR"
      ],
      "metadata": {
        "colab": {
          "base_uri": "https://localhost:8080/"
        },
        "id": "wkShErQJQ8Dp",
        "outputId": "4b3d6047-4dfe-447b-e4b8-0ffb332668f4"
      },
      "execution_count": null,
      "outputs": [
        {
          "output_type": "execute_result",
          "data": {
            "text/plain": [
              "-0.029786815737618363"
            ]
          },
          "metadata": {},
          "execution_count": 86
        }
      ]
    },
    {
      "cell_type": "code",
      "source": [
        "MC_ES = a.iloc[:49].mean()\n",
        "MC_ES"
      ],
      "metadata": {
        "colab": {
          "base_uri": "https://localhost:8080/"
        },
        "id": "1BNhQbObRJGD",
        "outputId": "5fc09429-fc5c-4db2-b240-3863149d2893"
      },
      "execution_count": null,
      "outputs": [
        {
          "output_type": "execute_result",
          "data": {
            "text/plain": [
              "-0.03308620537250109"
            ]
          },
          "metadata": {},
          "execution_count": 87
        }
      ]
    },
    {
      "cell_type": "code",
      "source": [
        "print('non-param VaR: ', round(historical_VaR, 4), '\\nparam VaR: ', round(parametric_VaR,4), '\\nMC VaR: ', MC_VaR)"
      ],
      "metadata": {
        "colab": {
          "base_uri": "https://localhost:8080/"
        },
        "id": "FyunSy3CRPlW",
        "outputId": "b2fac68a-d3f9-4789-daba-aee08b2b2b82"
      },
      "execution_count": null,
      "outputs": [
        {
          "output_type": "stream",
          "name": "stdout",
          "text": [
            "non-param VaR:  -0.0311 \n",
            "param VaR:  -0.0298 \n",
            "MC VaR:  -0.029786815737618363\n"
          ]
        }
      ]
    },
    {
      "cell_type": "code",
      "source": [
        "print('non-param ES: ', round(historical_ES, 4), '\\nparam ES: ', round(parametric_ES,4), '\\nMC ES: ', MC_ES)"
      ],
      "metadata": {
        "colab": {
          "base_uri": "https://localhost:8080/"
        },
        "id": "_AanBslKRgHW",
        "outputId": "eac05482-b227-4309-db5b-9b5c8faf27f4"
      },
      "execution_count": null,
      "outputs": [
        {
          "output_type": "stream",
          "name": "stdout",
          "text": [
            "non-param ES:  -0.0413 \n",
            "param ES:  -0.0342 \n",
            "MC ES:  -0.03308620537250109\n"
          ]
        }
      ]
    },
    {
      "cell_type": "markdown",
      "source": [
        "문제 3: 윌못책 80장을 참고하여 Box-Muler tranform을 이용해 상관관계가 있는 난수 5000개를 생성해 보세요"
      ],
      "metadata": {
        "id": "B4t25u0zRmo1"
      }
    },
    {
      "cell_type": "code",
      "source": [
        "import random\n",
        "from math import log, cos, sin, sqrt, pi\n",
        "\n",
        "def Box_Muller(mu=0, sigma=1):\n",
        "  r = sqrt(-2 * log(random.random()))\n",
        "  a = 2 * pi * random.random()\n",
        "  return sigma * r * cos(a) + mu, sigma * r * sin(a) + mu\n"
      ],
      "metadata": {
        "id": "aBDGksC-dmQg"
      },
      "execution_count": null,
      "outputs": []
    },
    {
      "cell_type": "code",
      "source": [
        "def mullerplot(try_num = 5000):\n",
        "  plt.title('Box-Muller-Method Histogram : mu = 0, sigma = 1')\n",
        "  plt.xlabel('Value')\n",
        "  plt.ylabel('RElative frequency')\n",
        "  x = []\n",
        "  for i in range(try_num):\n",
        "    x += Box_Muller()\n",
        "  print(x)\n",
        "  plt.hist(x, density = True, bins=max(50, int(try_num/10)), rwidth=0.5, label = \"try : \"+str(try_num))\n",
        "  plt.legend(loc = 'upper left') #범례 위치 지정\n",
        "  #정규분포의 출력\n",
        "  mu = 0\n",
        "  variance = 1\n",
        "  sigma = np.sqrt(variance)\n",
        "  x = np.linspace (mu - 3 * sigma, mu + 3 * sigma, 100)\n",
        "  plt.plot(x, stats.norm.pdf(x, mu, sigma)) #표준화 후 출력\n",
        "  plt.figure(num=None,figsize=(10,6),dpi=300,facecolor='w',edgecolor='k')"
      ],
      "metadata": {
        "id": "mZ2vErfIfnTC"
      },
      "execution_count": null,
      "outputs": []
    },
    {
      "cell_type": "code",
      "source": [
        "mullerplot(5000) # 5000회\n",
        "plt.show()"
      ],
      "metadata": {
        "colab": {
          "base_uri": "https://localhost:8080/",
          "height": 354
        },
        "id": "kRhtgTxBgSeS",
        "outputId": "a8045b53-b2ad-4341-83b3-7ab94692209c"
      },
      "execution_count": null,
      "outputs": [
        {
          "output_type": "stream",
          "name": "stdout",
          "text": [
            "[1.5497994289796089, 0.3097400255887738, -0.13467752698090665, 1.005236405694016, -2.0750359271581478, 2.61290222402666, -1.9387290790388396, 1.594961819121877, 0.31293556685214086, 0.6277447406750316, -0.8980057088740282, -0.07813715229195398, 1.9964311310406568, -0.13135226687874724, 0.025336586777717003, -0.1951290945607373, 0.4905260343637235, -0.9653403733637027, 0.5327573718129277, -0.2772364401994466, -0.43251457310613817, -1.1802336596485348, -0.23706966772108473, 0.8797032522483308, -2.3922991517052554, -1.5535252556196504, 0.8199824499546723, -0.31827434414085864, -0.6641352192338772, -0.1736980779213548, 0.9632893992718354, -1.016634425233682, 0.23424500917340335, -0.5631872534267018, 0.46373391729595065, -0.8985639725845626, -0.6500001118614639, -0.878930137710437, 1.6108955134227176, 0.7449773828342426, 3.0749258051879176, -0.29386684316505596, 0.09807445969214924, -0.9711675814629134, -0.8293989082447513, 0.05397081144410611, 1.804689028518476, -0.9258531492442871, -1.9616465737474291, 0.032833437828552345, 0.12773333839945616, -0.4309163728387211, 0.9701927424611441, 0.9325658806621493, -0.430792452570615, -0.3230651070379055, -2.6881148821845424, 0.5221871554993492, -0.2299721473700531, -1.0285884338862348, 0.06686470911806136, 1.4249091369605416, 0.2744214203260068, 0.5181503340997945, 0.9600915063826235, 1.473161652736349, -1.6031294332239716, 0.11695249965363343, -0.39401658520900157, -1.4765248824411272, -0.25582622049380044, 0.8307485981335445, 0.07886228154015587, -1.1369006497089837, 0.3587197172980003, 0.6835368654678834, -0.6312169832097576, 1.8039333850906583, 0.10129025199021348, 1.513073172896495, -0.6150454802265924, 1.7543060136804645, -0.4238732408188747, -1.5459956385602946, 0.43102355120201435, -1.461797372503711, 0.23054361763876208, 0.5649208665665816, -0.808590490697481, -0.6549039435885553, -0.5497579296764077, -0.08601268894247255, -0.26581728516922554, -1.276358227812515, -0.5206691781713173, 0.19531994068146882, -0.1823888503781872, 0.7576281941023386, 0.16822644579648277, 0.6251813919297615, 0.15370319616516245, 0.37769382284372244, 0.6963574114758182, 1.5977707474078096, -0.8758738209077074, -0.19740629524503342, -0.19150871728895774, -0.23113595558586036, -0.40917736265896093, 1.2558178097402204, -0.9566658328159086, -0.788465452211183, -1.531136575123371, -0.9929274657334304, -0.14497550153528396, -1.792313832673732, 0.24762317167784165, 0.5325096455235289, 1.763652494107782, 0.4828479449822948, 1.1071535690646968, 0.991456896760684, -0.4277936085845646, 0.1747835642370989, -2.1652122428882254, 1.9713620261834977, 0.19055036935579633, -0.29453991425504744, -0.13656768986365728, -0.1351823739296273, -0.16128263552572966, -0.4586076765557638, -1.928238637126574, -1.4626573482397052, 0.08204850748626916, 0.2879308917126107, -0.3529103492252248, -0.44253996510340493, -1.0369337254106508, 0.8804863619059141, 0.509246680910087, 0.4987188984604164, -0.5087179003563639, -0.2544775221716897, 0.7564312075997079, 0.647718328837772, -0.7932832535066672, 0.1502077464405532, -1.9866355962860716, -0.1783388657201415, 1.0132156564421864, -1.4211326825277055, -1.0414988642420517, 0.20511472836561076, -0.5472059648775207, 1.005592714028742, -1.735974711726518, 1.1452668164271147, 0.8625226704126276, -0.36676193375742505, -0.5206410534277887, -0.33041004404851526, -2.8158615550236563, 1.5452347059571976, 1.1348715763448776, -0.7606462752435427, -1.2225395144733997, 0.08625455632364287, 0.11711905491477445, 0.011280266804477359, 1.1465472584546252, -0.5958883186118333, 1.0324687957445244, -1.1178571318363972, 1.0939610393045367, -0.4731540644502929, -0.7850390821582378, 1.4043786546807895, 0.8253641203982359, -0.8015993234901637, 0.8847635321863315, 1.0377286024594814, -0.971371347244421, -0.6526516729467665, -0.7379282248865395, -1.3812783375562432, -0.8089725660496581, -0.9954825679269788, 3.0589067448497054, -1.7477609317771952, -0.25991765523281346, -0.1894752395614399, -0.40871387118739516, 2.2630694416607455, -1.018150200963725, 1.9133583393227804, -0.6658429451097104, 0.10734042014790839, -0.4290368117967318, 0.029255020438435923, 2.0090197703044486, 0.4652073638118539, 0.9724900145668435, -0.27307204237210503, -1.0793937814438495, -0.6515932201112297, -1.02166481831121, 0.6262996413910246, 1.4342897940357067, 0.17253860502710752, 0.40547590665059136, -0.1303308495756874, -0.8589663999312621, 0.060002140052054107, -2.3888408353565485, 1.0080157495003554, -0.8356949496134889, -1.774681483128509, 1.5209169666390214, 0.031263127861970726, -0.28428356522018666, -0.5765248256028929, -0.5778587860674594, 0.19410177404758838, -1.0448838695303941, -0.11572397620032683, -1.3708448463449692, 0.5749698294603809, 2.66404567748547, 1.070746687819846, -1.2716195736419986, -0.12416430957851679, 0.25137587132324446, 1.3480720004536173, -0.007162457813801894, 0.5133146129143071, -1.600689184935045, -0.8255373507312795, 0.05261757832053758, -0.5479867854024232, -0.4674582660961938, 0.8498775029387104, -0.5179870145888368, 0.5944891002881372, 1.3029729708247932, 0.979026373079112, -0.9475816439929237, 0.10020647906681109, 0.06315195925465358, 0.46931500927488695, 0.2674195765974641, 0.44286428589470966, -0.4621538192693651, -1.1014389645600577, -0.3859586065641272, 0.7346417990430865, 0.3383525393630251, -0.47065281350238497, -0.8195282179487718, -1.5172634593286751, -0.2641530607012125, -0.40089876086469933, 1.0184232784562928, -0.046664588550606914, -0.6258417726877881, 0.6833132583564784, -1.7551586264484118, -0.7820731259776688, -0.7917027040304085, -0.4020824862902429, -0.045700882608448706, -1.1832614473784258, 1.0298100042289426, 0.5516951962088165, 2.502461643365334, 1.2676943341527827, 1.5869956868208783, -0.2659137351304981, -2.710103293525084, -1.6156744494808883, -2.332603655141729, 0.26806775928142, 0.6496475122932984, -1.1270707862251064, -0.8772772098570903, 2.2755544214887413, 0.5702298067261659, -0.41460021259334645, -2.2836463022986635, -0.18362390523028022, -0.5883200460285911, -0.37249072655188575, 1.9795615818070031, 0.6410400693205554, -1.2072928521909367, 0.36089387664690936, -0.16047858202109383, -0.29701619664715795, 0.5520739058109976, -0.8204444016963998, -0.4602799847889362, -1.1538892519126114, 1.1387320739402387, 0.3357414510895284, 0.680620745954701, 0.49244205292329113, -0.9604316655635379, -0.09669646415751283, 0.07573323094980697, -0.4069155237326582, 0.9027088745937222, 1.720095087016783, -0.7496295792087266, -0.5679348045098233, -1.2631997926906169, -0.16744564564971492, 0.5382755374754166, -0.1025526187158776, -0.15784493244241, -0.2536756225749976, -0.48824548689559216, 0.9449934781203955, 0.11468348665902835, -0.7306165441914764, -1.333446589728357, 0.17637330531344264, 0.3761800893220427, -0.6490583208971246, -1.0259103777212295, 0.16520265057766256, 1.016068185627288, 1.3067418183359774, 0.15158244883787966, -0.6763697709969829, -0.2224373303609644, -0.38712652680356147, -0.06448357581335239, 1.0245149889980303, -1.5940482016238413, -0.1409455390737561, -0.9277866305508791, 1.3331572385444028, -0.5989497391026182, -0.03898633981120837, 2.0137290592915216, -0.19303859436526893, -1.8740228410130293, -0.8731145518403226, 0.6791950265797989, -0.11881486688260996, 0.8062154894420108, 1.0265206494342713, -0.03996997088588428, -0.2172981667193672, -0.9682552752857273, -1.9195475981094288, 0.8302244917670484, -0.841880532273621, 0.8465795801615709, 0.7955235703148212, -1.1376952319606386, -1.14502968725961, 1.4966180338038104, -2.073619406627488, 0.6670381612403415, 0.38430236918658656, 0.109733122920056, 0.1284527489550703, 1.178896455948751, -1.0468729262941259, -1.1029912232758798, 0.39697595159643484, -0.43203238720012116, 0.29689978096182257, -0.6226106105366648, -0.2115161082223138, -1.4936689949562005, -0.3062358951387336, 1.0850823212336103, 0.14181566684591973, -1.6662563234915604, 1.1541787767656357, -0.7704080248384858, 0.6019766217409447, -0.402673391573604, 0.4029093963005613, 1.192972358848935, -1.0512638728316837, -1.4949270875067187, -0.15833741464355744, 0.4458350090546673, 0.12946473571144196, -0.07539363126940296, -0.08891773336225169, 0.6343197568477745, 0.6916182249324555, -0.41489460734508243, 0.16685344242283676, -1.504921730271446, 1.5257950330703751, 1.0346313553764837, 1.5812867507926192, 2.0234960497708454, 0.07316490952667998, -0.2342723325160655, 0.4534123424919781, 0.1901276824004722, -0.6152914150918152, 0.15296268360185303, 0.2049468161892643, 0.08580929076133174, -0.438257744147067, 0.6358209619728321, 0.23443551141367827, -0.171192268364655, -0.1332576418930254, 1.0122013961630378, 0.9665551124078612, 0.5769569166961555, 0.5334324371903224, 0.7145723510615173, -0.7869404449407562, 1.474525746850835, -1.4666488464204694, -0.38466035072180127, 1.2091190345629794, -0.13231100776604363, 0.07664290245497876, -1.2513971151786187, 1.8226817470147496, 1.2587832220390989, 0.7373168885597755, -1.830960897034019, -0.36152502036581347, -0.45025060838339975, 2.895367959632711, 0.5771357245468203, -1.0892187005125458, 0.28929963918404533, 2.5520510105628196, -0.8223576482260716, -1.0940577126098812, 1.4138557233587286, 0.5248621532056155, -1.1445940070049647, -0.5027106831687249, 1.1189574722070539, -1.6934683105958523, 0.0073034014354881865, -1.0578314773751674, -0.5311610258372096, -0.23747880685356965, -2.0892533901020562, -1.1575862307274027, -1.5828478357471918, 1.3115555935719494, -0.7630233483461161, -1.4375095836395424, 0.30979735688138504, 0.19013349974940794, -1.2758920437395185, -1.959917764417459, -1.4507311031902044, -2.005716975101425, -0.9645314022801973, 0.8731074484977241, 1.3796624741555623, -0.645035696259843, -1.8814017592645258, 0.6025375477729372, 0.5586819966718667, 1.103420494377746, -0.631100697455734, 1.1965074744291213, -0.68736866337837, -0.17505179021621017, -0.2409264529063008, -0.11526651487867161, -0.18105541566423386, -0.6628067573258709, 1.2805019716188966, 0.6004395030780622, -0.21296839623381641, -0.46086632921353154, -0.13260634489884665, 0.36896231078087555, -0.559734938316086, 0.6018041689525984, 0.024456874608020505, -2.2433419197666282, -0.7370055643233767, -0.14948397376834557, 1.0316731071677916, 0.21667376999776444, 1.436116761276313, 0.7931348370092453, 0.5274934061300598, 1.7543599897220827, -0.06022202186108958, 1.577380153028215, -1.423709687820626, 1.6062133983762132, 1.7325645631010458, -1.738522655851021, 0.5088025411453453, -0.36401979274284396, 1.1992620931149198, -0.4205930228764208, -1.7199903419717657, 1.0575061095112241, -0.6329706777295, -2.4390168863285373, 0.5940222427239318, 1.083092257415956, -1.5370076455572739, -0.5602817234747324, 0.5345881397890302, -0.5836883438697891, 0.9887723462599951, -0.5918320434563639, -2.4156832659373144, -2.0846726130541944, -0.7072857168783041, 0.9741671108539514, 0.4625774900265242, -1.7072701574899205, 0.24476624968865238, 0.8107886764012643, 0.5793272553582705, -0.35170996706900076, -3.396641773844172, -0.6844859594604235, -1.1154556774617979, 1.4576712190101495, 0.02712663821268387, 1.583553874157272, 0.9909168056406283, -0.3886368721278473, 0.008158866297946028, -0.0963719978253149, 0.6035157613486104, 1.3276717858282863, 0.5365739472123039, 0.4534573145227962, 0.43772226181347373, 0.7419337499259341, -0.06582732580966792, 0.8716170387842084, 1.494105038588393, -1.3955682502007474, 0.6545168393547192, 1.734908808034254, -1.5569082734123632, 0.4502938703951637, -0.292122139966967, -0.6012282119404601, -0.4881784055078856, -1.5391506179918142, -0.4907285034590458, 0.6604794613998057, 0.6707533524448529, -0.44282524939543927, -1.698235526091685, 0.7904704837217253, 0.7747675708624421, 0.4406884122322287, 1.4810843146683383, 1.296282662506869, 1.690553972169307, 0.16028076080724957, -0.45104506227030877, 0.7562500123943354, 0.04211786279661743, -0.08915710751766856, -0.5537124180031818, 0.1405585019254874, -1.3020149066407671, -0.20639831727650987, 1.0293749302582595, -0.3221150430284675, -0.26671887160225954, 0.8014782006615283, -0.7151755367113842, -0.8657651201777483, 1.6504074964780815, -0.19700066531022492, 0.853787779556425, 0.8218577298245937, 0.4227582547315317, 0.39650164914517977, 0.06664890381134339, -0.8433727958282676, 0.4104473850596459, -0.6207735164905576, -0.8699209601789247, 0.5581554622437686, 1.1379571474619143, 0.5664368381579508, 0.2783924762608212, 1.1563837525730016, -0.5542795761219633, -0.9680597961635609, 0.9348586989320781, -1.877155910888853, -0.4485521478313392, 1.5439123364560425, 0.9319717180336772, 0.6690255470036057, 1.4140352305014712, -0.5384599104963371, -0.5068446149932337, 1.423774734437122, -0.7256322040565371, -0.7112441863188885, 0.6292925309080537, -0.1200928340961016, 1.1872802676127219, -2.2980643508871625, 0.8056481331190876, 1.1299503144862542, -0.5242723391680295, 0.4472518776265185, -0.8023710763331853, 0.32301090344323846, 1.1063434067473215, -0.805106800762682, -0.9259391736372339, -0.9098616934526572, 1.9436721224550548, -1.2050010047419748, 2.1797918578625426, -0.9263806960341674, -1.357117663899998, 0.06891854792623081, -1.7200986726916725, -1.066683922917419, 0.5615534258396043, 1.7426550247770156, 1.546633319628705, -0.15895577455255813, 0.06146337151837585, -2.6340552008298834, 0.3716981411656067, -1.233323555284068, 0.6589820224654944, 0.7546233523685965, 1.3435365930877716, 0.5782734676560226, 0.2571070351145623, 0.45539192204353723, -0.004308134420107806, 1.6804943257702403, -1.2971700461102629, -0.44441600566982403, 0.7203153010331584, 1.6141941762325154, 1.2899535789948986, -0.080917151761884, 1.309317732229873, 0.5539732882162742, -2.0583077688000113, -0.3468542541012546, 0.6284288234961712, -0.9514184443900028, 1.0345443440931346, -0.06078936800875161, -1.5761572076582773, 1.0267123549315436, -1.4907244340152572, -1.2740531026428685, 0.4777125797045185, -0.312458189215425, -1.0676336574389842, -0.49591687186499006, 0.8753735867121659, -0.3113861014127994, 1.5656788387020033, -0.2109108435575317, -1.1318839281361361, -0.5393124851225974, 0.13721194758477545, -0.5492150494653689, -1.2416300278751244, -1.7853837017170304, 0.407590641125594, 0.5711912804496857, 0.5163255170177542, 0.48455380594480085, -1.7844573029860125, 0.428131383993251, 0.1455716831037102, -0.8346147539275529, -1.1986346689834313, -0.9910504667233734, 0.8339024846041757, 1.7260654830396753, -0.9269984002408672, -0.1020710172771998, -0.7774775816929573, -0.36349131652283917, 1.9599752307852745, -0.6389803928745443, -0.1963866626523822, -0.3264729702517793, 1.0973448846541936, -2.024500729265145, -1.62221100654233, -1.6513402083111977, 0.8991422918716081, 0.42275808706721946, 0.32609237457024837, -0.5935878980057199, -1.9664828345561476, 0.46497557445198595, 0.11568543480680069, 0.5923840459447229, 0.3409210243495636, -1.149042080685004, -0.5373697866895196, -0.17561527025707746, 0.3711179517629176, -2.293240813684778, -1.6157239196471784, -0.4729957075473205, 1.6151958221392015, 0.6888880721140247, 2.200871413909771, -1.1070697196413228, -0.5856030899051908, -0.5545944272037182, 1.8422998540866649, 0.6070596114286453, -1.4407265306821404, -0.2263205950316623, -0.842230668943039, -1.254065544859512, 2.403014142609418, -0.19205246654918964, -1.98516820376897, -0.38809510544351583, 0.8835512267446306, -0.35075061480843894, -1.2448594228416374, -0.8904425452034764, -0.8057346951555675, 0.8250643063686482, -1.369138513642021, -0.5916512610143595, 1.386250184973738, -0.3953499883451062, -2.7476820607590233, 0.976597001961572, -1.3793679164628705, -0.8230448198304066, -1.2732972588060227, -0.7909491162531592, -0.0247176718689773, 1.343911251596033, 0.5325204102569177, 0.8920555580221108, 0.5774252713206549, 0.3485359647336587, -0.7327265359813777, 0.4463288832650833, -0.3988159351698849, 0.8578221526425482, 2.5328538457310525, -0.1298827734328213, 1.1450905093928911, -1.1426077348308037, 0.7786049317048702, -1.5352966012234825, -1.0943872422913599, -1.0375759870496986, 0.47433418381519044, 0.6685383308571923, 1.6741241835236884, 0.9866526427723816, -0.4177352450922482, 0.013891800542847067, 0.9217771474157153, -0.9907331641195457, -1.3765071450631798, -0.6377227946555047, 0.8195308896876056, 0.011821065941620842, 0.8468291720456245, -1.3388151475271435, 0.2054241325540196, 0.39185698000021557, 0.8103062334600984, -0.9556403056345707, -0.5170078512866654, 0.29073861915617266, 0.25814172259203527, 0.7133118786225738, -1.454661947762659, 1.447947819943991, 1.9681534735093116, -1.30381395568261, -0.10602495160157148, 0.10021378827805737, 1.2762962783920706, -0.6656065748258425, 0.6383699714873866, 0.8840131524237849, 0.6341457357982868, -1.2019526542449004, -0.8155524402196688, -1.0285565140753279, -0.19377471703246432, -0.5836340592027267, -0.1908625561454766, -0.7133802840308053, 0.952757087035914, 1.196663069830617, -1.2708709167959908, -0.5767185424911362, 0.33590205416122615, -1.269786476489572, 1.7761782032348903, 1.1981339881070687, -1.1823380094520015, -0.5854380995031159, 1.3751970693878122, -0.21758575846311237, -0.5407321450951315, 0.7218929158448661, -1.3685736428626687, -0.8500198873295128, 0.83385713372091, -1.0700739449407652, -0.2919192220042991, -1.0566151820581373, -1.1205161132460704, 1.2551696906114498, 0.7794872661915061, -0.7242836923253947, -1.6707762019869292, -0.40660338593097534, -1.385008467022538, -0.1764560436903405, 0.9996938759589581, -2.0847277374025843, 0.5007392737248545, -0.47178639574800535, -0.304085110473371, -0.3352785795605918, -1.713471692520981, -0.4483673554639016, -1.321268509724477, 1.3382966054419518, 1.5519827064728255, -0.8916198820024211, 0.06453262115274284, -0.564170173510691, -0.2377794791806484, -1.0736253285230621, 0.6862840083406201, -0.608953903935558, 2.0337990554249505, -1.751513371527732, 1.0666672812875149, -0.2407842790973485, 0.4926977301077898, -1.671153951611294, 1.0048647579943102, -2.351764963095865, -0.8713582895413728, -0.2150854564333199, -0.7341558170781903, -0.12919395990017885, 0.3582561521749383, -0.7958117980252839, -2.2408629164075293, 0.1461033648656716, 0.19251760422605385, -1.1556599982639022, -1.3578792285723469, -0.7512416563750468, 0.6318690333385113, 0.6755512731827965, -0.5583090599531424, -0.27915543629888057, -1.4187171094325397, -0.3287398993287627, -0.6952284361656433, 0.30717029536676, 1.3883273288160676, -0.08905456475682044, -1.042682464401229, -0.726695901719261, -1.0344560592851628, -0.86483496927055, 2.442848611219842, 1.0476202532050563, 0.16194485550279708, -1.1408297187619867, -0.2123865838441096, -0.2850769764748948, -0.7485628887982106, -0.11132746804984613, 0.029328602106491117, 0.14614077752139648, 1.1265124239876896, 0.6871119781979028, -0.33277252843189475, -0.7563804399951201, 0.031358814078917385, -0.48667710612024717, -0.7381998367175018, -1.7574792549053095, 0.7756822180979783, -0.5044834372021723, -0.492476889970591, -1.4131043645484824, 0.02802352830499018, -0.39767479707817444, 0.24835095395714527, -1.1814633297547183, -1.598394145076183, 1.0249172682654133, 0.38370609618578566, 0.9462602466843784, 0.2861918967887509, -1.0294287594916653, 0.8807881216749145, 1.5045528616314672, 0.21144253037690613, -1.565708568817998, -1.1063638527974875, 0.8643432900936002, 0.37537085999942515, -0.6756246154795982, -0.36470445525720263, -2.3907001724724366, -0.685652099226085, -1.3080234837116251, -0.8005040834963514, -0.47879532937323543, 1.4634951976897517, -0.4422784982509801, -0.3371643405847525, -1.4042461236502068, 0.17859533486849682, 0.653190933663116, 0.9720521675089594, 1.2880273349290356, 0.3220162862437529, -2.2185196260020894, -0.2926295853865181, 0.6577917092092894, -0.37732971482755523, -0.4823987411918302, 0.426387352211293, -0.363305217362941, 0.21483938286609425, -1.0574445715330647, 2.2440771659720817, -0.06700719214573035, -0.06493845035108999, -0.8320179200164083, -0.15865406525265643, 0.899380333265614, -0.3781281552510385, 0.2565206424025835, -0.2448364972888459, 0.1515382497135612, 0.04388484536882873, 0.31432944278049724, 0.5164018657560602, 1.116508364703593, -0.5326536284130788, 2.30569777866887, 0.7799329370153578, -2.751176653122739, 1.1948767738597847, -0.5925999396455363, -0.5683256586237188, 1.627208794902709, -1.948926459070617, -0.8396027558751247, 0.39661495309522854, -0.5200887533465328, 1.4547540578522553, -0.22309569682863056, 1.0722889292335909, 0.7080064921147671, -0.25432985628875643, 0.31691103242899243, 1.955679092599101, 0.28029818611067403, 0.1370014692900006, 1.5055901715661033, -1.3067400510530915, 0.878578939354448, -0.6955145414341366, 1.5610553439376391, -0.5392174854333622, -0.5876165887700099, -1.6964193993115222, -0.9320943018961062, 0.37605650653742956, 0.5524545755905277, -0.4032833066645515, 1.4115166253454625, -0.3025435438864833, 1.3596760726617376, 0.6048369514151466, -2.9833240689757514, 1.1472907246394057, -1.8124311819354348, 0.504854612776463, 1.6620575033356317, -0.9997071988966062, 0.28842997600740367, 0.373158750515096, -0.2325451453553616, -0.282272968328972, -0.13051181772046844, -0.5396281730773613, -1.1126139141073044, 0.06014245114352754, 0.42079346403508594, -0.6525100326302091, -1.149690776851883, -0.7136314871002141, 0.011601977545713483, -1.1306754909414207, 0.035568844661157624, 0.19278691075379892, 1.1729554638950885, -1.4893942374520537, -0.9218674793724927, -1.2395562991642786, 0.825848000662285, -0.3384584465312607, -0.5702706035933108, -1.3489113552765262, -1.3813671991683294, 0.8010810627059479, 0.5796607776120544, 1.9354736324032016, -2.3348603231644036, 0.805548424834532, 0.43942991373076995, 0.707039653870506, 0.4772616904518169, -0.620377115932595, -0.3615220706901441, 0.5578255422990563, -0.9064928966652583, -0.9212606137702624, -0.6180180197499179, -1.0241681887371743, -1.8212994663581237, 1.15017173064713, -1.18898016474782, 1.3578543902714968, -0.36669825210610313, -1.4145197643522254, 0.6145033103024226, 1.4000820774469558, -0.40379900359679377, 0.48865415812273555, 0.8793426736101915, 1.8253134384501155, -0.8918925257579766, 1.8193472570351938, 0.23313323035979686, 0.05649450164072197, 1.681653834831799, -1.5432606688277213, -0.3055765226848453, 0.3025644451501812, -0.9329176981323107, -0.35347764867213544, -0.33082614654636844, 0.604353899580887, 1.8470925416896093, 1.453949871375385, 0.10473326188440492, 0.7547244984929132, 0.2609764780411915, 0.9234483155856849, 0.15323870804896822, 1.2621232494601375, 1.529581785870922, 0.5564153350102602, 1.3762004412978144, 0.2563544557937733, -0.522850556367667, -0.9871594290337498, -0.5536586068525194, -0.5249859573769919, -0.3471021367127703, -1.8417380741211236, 1.1936267994648522, -1.0187195904096826, 1.2212870406510994, -0.41275134098979915, -1.4341425281356477, -0.15632315028513696, -0.028280151015972293, -1.5240104446175207, -0.8635502367151063, -0.6568572754711591, 0.13936546310569287, -0.4860358105398658, 0.281058874245518, 0.24330195304825053, 1.31216349455267, 0.315666523491017, -0.10977630836236536, -0.8280515659587675, -0.898926838802563, -0.2568790959621579, 0.9781232404089818, 1.1065400251556952, 0.6750016247094179, 0.5396184032546942, -0.2875868342874906, 0.6255431156479859, -1.1433401877116185, 0.39070511952208314, 1.0669816394545935, 0.7984333915906712, 1.4596297288023754, -0.8817607881122811, -0.6701230071854697, 0.8502208881199768, 1.1003808596802573, -1.020296401373796, 0.12766542948344203, -1.0305949713112244, -1.1557497339368112, -0.7854326338231149, -0.3310207360344654, -0.48313242095074066, 0.6816136717680666, 0.4912608049480866, 0.7848820134738725, -2.946133791634688, 1.7821886456734457, -0.3551799767028495, 1.4198620223999021, 0.6339627538649412, 0.13664457662614696, 1.9760139013608302, 0.7749403759987931, -0.8032439118180512, 1.9769188344103557, 1.096612469538046, 0.09405605842154413, -0.9679495707375838, 0.845688124623257, 2.1912680333350734, 0.006311505768701056, 2.0487956853668066, 0.6842986829029905, 0.21196287867749503, -1.2778500698823545, -1.1816925470978445, -2.8533326010175553, 1.009471595310754, -0.2928025618482243, -0.2294380702817855, 0.5468237646826275, 0.17772183929677837, -0.5010150398149423, 0.39255163217517103, -0.18850364636495273, -0.5103111402775798, 0.20064953374140315, 0.34294165303057833, -0.5574548378052792, 0.022219328082163585, 0.6363137340816548, 0.16920580912732985, 0.7713500626442701, -2.013694242696308, 0.10266445223925764, -1.1689963202108016, -1.7826764336738445, 0.1682415901458833, -2.074936840040998, -2.620389366910985, -0.6897147304897154, 0.658977177054647, -0.812073481171819, 1.4474283964727601, 0.7587639832229391, -0.11881151051455976, -0.06466335654978728, 0.320323150770589, 0.17113302704454744, -0.04554429926446314, 1.532889401308757, -0.08139441200390253, 0.43213299911389075, -0.7383641665578625, -0.8968667633646145, 1.0011465505345156, -0.3024694686894023, 0.8933502507346319, 1.3882745491410873, 0.5328901651126009, -1.2844436081590465, -0.3317773268656111, -0.1393742428690262, 0.7305103727715081, -0.39132944167106976, -0.08968895498991074, 0.9739794824620772, -0.7537021143281959, -0.6895091030925756, -1.8624725378525981, 0.2164691656033422, -1.4944745431632325, 0.9525498665243064, 0.6233726202885029, -0.3063805800336552, 0.5700761125581274, 1.0527088477754802, -0.38610075460575566, -1.1423318423378592, -1.012280567387881, -0.27143972966689434, 0.003910149930534612, 0.8295577426007287, -1.6480776422890093, 0.18935242785164724, -1.8036978674894493, -0.2527512220354591, 1.5908125013825958, 2.4462520706635162, -0.9244735353890801, -0.17784950176348557, -0.7941085226017511, -0.9909496433082137, 1.0025548478091397, 0.12054044572217332, -0.6439064547217186, 0.05143424454531323, -0.42720265207584257, -0.34912836501575445, -1.5539318599823035, 0.16141436181431293, -0.020956316100470523, -0.4786329868223122, 0.4186801940180081, 0.18587997979360155, 0.06329417429149466, -1.7353797969227458, 0.9321860432299138, 0.4871224515259616, -2.404861377256082, 0.6320580721220171, 0.7198401792574294, 0.28457466190576075, 0.009936463054082528, -0.4530393570501501, 0.9090928090995107, -0.6597820465685802, -0.1685742806802543, -0.1979817869039498, 0.5095370826558145, 0.4545512130229719, 0.0010045519516227936, -0.4717309068947788, 0.3413484842981411, 1.356114294821602, -0.9864105512740615, 0.76020502862467, 0.3017653916755415, -0.04026151696002516, -1.7315064883655935, 2.052186453589852, -0.17036393245127307, -0.08768090586598305, 0.2505301897580103, 0.09462243377867331, 0.36486963227732866, -1.0728943740056671, -1.5512071906520217, -0.34739596053329025, 1.3326614969755388, -1.1410652573442963, 0.024582719798883, 0.9798832158616888, -0.5918897511878698, -0.6896905144289288, 0.33777944091495143, -0.9957842219874165, -0.22715882304175877, -1.3242248140899038, 1.3297410884049412, 2.070248827597813, 0.3404494385341909, -0.8887274416828161, 0.9478275911652316, -2.4666800106311584, -0.1675123076311816, -0.03311519737125989, 0.7243198302278114, 0.1697424754142898, 0.230572597582856, 0.25960314985584165, -1.1093972967743095, 0.361309801589729, 0.5385269437710601, 0.6554737187103431, 0.4691238378467293, -2.1837580173141533, -1.2082176042284851, -0.33484369374395784, -1.8714210445278707, 1.191663437573, 1.242552045284493, -1.7389836739422584, 0.25267534634235134, 0.282244184737977, 0.4718024462418959, -1.6682981478108845, 0.8185194583457069, -0.2955999096429149, 1.453191944467837, -1.1417479009378826, -0.3873142643972953, -2.2485663234631006, -1.359736851965382, 0.8202331374601345, -0.48998386196012494, 0.21720049857074525, -0.1997925122550606, 0.1979881806877749, -1.5850415460177745, 0.3191447703021481, 0.22151471829747799, -0.2183517158188379, 0.24378812463498323, 0.172873010780741, 0.4600951636187779, -0.8809402154881776, -0.18531773704731858, 0.2809020309245893, -0.8937445720225862, -1.2370472505001922, 1.1504934766568489, 0.9426193652604415, 0.8387657422721512, 0.3579133313902584, -1.496611352420838, 0.5274879472343068, -0.6756863771584448, 2.2243597061090226, -0.4928873918377268, -1.6758379919613067, 0.3932728241926273, -0.7403407950490241, 0.8020154904345866, -0.6523136180285505, -0.05565982429771913, 0.23289879170731645, 1.9212419418325646, -2.236655327652819, 0.4408294616290951, -0.15848841163002297, 0.39022921050654197, -1.044469358440535, -0.3052369389945349, 0.9417434330411231, 2.3999356696160694, 1.0471045855067278, -1.0150693213443636, 0.677223849039986, -0.6409895263652184, 0.04235380491055338, -1.930965297776171, 0.8265912409621802, -1.0058995766835312, -0.02969273566332213, -1.2786516817478686, 0.5213359032750381, -1.1917748805811033, 0.1878329346259858, -1.0609950610857104, -1.9411956678932445, 0.5361169318776599, 1.5327433987004326, 0.15762984495945842, -0.17161553358781015, -0.33656319557557396, -2.5208702938025818, -1.2806698163520525, -1.383111233718647, -0.988659150998199, 0.3005691904532771, -2.168188901790211, -1.1680558647277606, -0.9083301550058306, 1.1011205425249673, 0.7259599855181725, -0.5783719918404732, 0.8433719611907806, 0.4338750509325129, -0.8620132147271148, -0.46270893939828167, -1.1128199094582263, 1.470388239142429, -0.9186741783017006, -1.1612921502373121, 0.2670907433025969, 0.4143105502674032, -1.94322821929509, -1.3495774372549656, -1.56503698894973, 0.1165278752495513, -0.9565535963398857, -1.3641997718866306, -0.7021680957220464, -0.855263499721663, 0.8988391068523431, 0.8254092857286268, 1.2077425379970597, -0.2055948004621543, -0.27195247906424685, -0.8960539345011219, -1.5577961439360646, -1.46796778139008, -0.30169245201142664, 1.1840159623094466, 0.3291329047550755, -0.382853178320593, -0.7684757087491951, 0.15075026213580905, -0.15813360168248577, 0.19136257324748737, 0.3586982419997201, 0.782757957795345, 0.3727947126741316, -1.2503009719443685, -1.353619814803921, -2.006200880680199, 0.8545452870573853, -0.9320907888379872, 0.03439118211197388, -0.0176206407709853, -0.21155250773987547, 1.6142675114432312, 0.006402795611093282, 0.28048205776871715, 0.09231740725097208, 0.10526560670397453, 0.3000593091187629, 1.7293405567219822, -1.161990364082066, -1.6790950124671125, 0.005081275200421401, -2.3900109969947327, -0.23460805767400106, 1.3236689071905574, 0.008388497786042214, -0.2619073882553097, -0.5975899210044263, -0.5643609833111106, 0.9705140193509598, -0.41594745931071353, -0.2898607599054746, -1.1916659499058557, -1.6503523150641448, -1.9361398359185529, -0.6388525910552896, -1.0360968285613992, 0.9674763469468709, 0.585154267137837, -1.1632410088166327, -0.8455077769385619, 0.5574954969620036, -0.4791461294770521, 0.3989320659436775, -1.839237758264693, -0.5004229828274263, -1.282280556704483, -1.7008423820240148, 0.9439787105170786, -0.35612261432901693, 2.033643141840873, -1.0369960703626873, 0.18795381019646024, -0.04635714670703145, -2.019296851247424, 1.5360233164489643, -0.04670270046612848, -0.11408569784460618, -0.9765407077788615, 1.8354188015422097, -0.16045970893673692, -2.9271562809400398, -0.28357956625926467, -0.3916800432924475, 2.283250877689047, -0.02443696790008375, -1.087307299538471, -0.7129895412698721, 0.35443348706466116, -1.4543560387020127, -1.7252229718200531, 0.4043193715369284, 0.14696882100144268, -0.5117459024375031, 0.09655229818383221, -0.9328771584366627, -0.8423298708474728, -0.13226606831167498, 1.2807906247810534, 1.480952550947109, 0.06804003296591773, -0.36806683430177184, -0.14699050876271533, 0.054376871734419296, 0.7555636504701474, 0.1248068968369047, 0.4559341439936581, 1.2271586530701175, 0.240182179971074, 1.554431151665168, 0.7527697597891311, -2.282917766507001, -0.0520072498032667, -0.27231320948994675, -1.4342112399526215, 1.6377528031762485, -0.08954168093908224, 0.23277490484289692, 0.7065753037264632, -1.1185032278291451, -0.6492248301717147, 1.8849019199215657, -1.3400951905213283, -0.09180361372970787, 1.0821469202170348, 0.21680858384281698, -1.5925502708623176, 1.864879338991814, 0.2532813849990889, -1.490633134630688, 0.23289153348232353, -0.0033332913314645407, -1.322351872657687, 2.191246303580121, -0.03318134169241741, -1.0360559868396768, 0.6336535991053167, 1.4665119218659235, -0.6671021372765797, 0.4947871055484801, 0.9834169482901988, -0.6402863569565033, 0.5151683799695569, -1.3663104888465871, -0.10582803107988922, 0.33631283594062716, 1.4453384415228947, -0.9481994071737893, 1.2260778711017468, -2.101269207691369, -0.010559065741824891, 0.8233525886552734, 0.11729568468750959, -1.3249260705559007, -0.8624370399493533, 0.33398646705669066, 0.9979470733198581, 0.665871936649982, -0.25318159458907274, -0.8243975302492099, -0.19433804508752484, -1.2075875838105878, -0.5480239069681022, 0.727529899874377, 0.886906376314468, -1.2475487884965213, -0.4832380870095618, -0.07839853411170655, -0.16243800589865098, -1.3247331467695556, 2.127346739538638, 1.9096658562045694, -2.1103880853937342, 0.47401632616461153, -0.7681051603505525, -0.07389744927641133, -1.2679360175078322, -1.5217155591544806, 0.9127716714860112, -0.3146775100164205, -0.9257127518774493, 0.6442403985567129, 0.6010809177951993, -2.574901149655821, -1.2559483499171489, 1.8161624841574604, 0.6413209139453756, 1.3051236350319317, 0.3176137460172034, -0.8074389234244037, -0.566514012391912, -0.42322541335161495, -0.8168487420533644, 0.8205441606409163, -1.4689801147841335, 0.20593761517749437, 0.4159436851665503, -1.2453576904594315, 0.5791578763527381, -0.8732564498215475, 0.47920757970617633, -0.1646360163877649, 0.2736451061527495, 0.2906762615081572, 1.6224706065072274, -0.690901850514723, 0.9512014732382823, 1.460530436673422, 1.7384903843316781, -0.34633866218694037, 0.7208401910154902, -0.4251375499151519, -2.4653216577714683, -0.7901842182818005, 0.2929065857981729, -0.2907823607957475, 2.793615677705074, -0.04240708183691076, -0.5244034657330889, 0.3012032937334784, 0.06930162632826832, -1.3532828104166328, -0.5766749211759478, 1.0144387051770125, 2.6759496458013885, 0.7670140834139487, 1.663020600857297, -0.6950724313453206, -1.6450810214308593, 0.2479286374267442, 0.8292940377137582, 1.5883453499016116, 0.7069273222354736, -0.19793132368604108, 0.7351774002495358, -0.5118373782786765, 0.9680120633196024, -0.6286038511663495, -0.8319112691280253, 0.9409213360421531, -0.14052084238196758, 1.7826422925295085, 1.8936569973728714, -0.7617887990044299, -1.008648631233672, 0.3866084770081557, 0.9765709172386889, 1.9536671810752197, -0.36691863016372406, -1.0037550075525867, 0.1909336307984851, 0.20824737854054276, 1.2020998424100031, -0.2832138749261787, -1.7082403536414743, -0.015616117213662769, -1.0826765994285013, -0.9358169328549762, -0.63662267627587, 0.8886245107508134, -0.2707700188377384, -0.17446792466559913, -0.8768667459119771, -2.2563053303234324, -1.091795717046122, -0.1481670429966734, 0.9316778621916626, 0.14008725204603786, -2.3398427401317563, -1.0422692377202902, 0.850835816805373, 0.3728392922777861, 0.0857217205806844, 0.36610567940794664, -1.4844951871065475, -0.0028286018825028156, 0.06467906070077538, 0.19845504725304694, -0.44538504064306356, -0.6358519759251227, 2.7562868117190713, 0.7121531604965343, 1.4912435904242247, 0.5772823161570221, -2.069252878461045, -0.5952326832729339, -1.334846380570941, -0.5456641388311908, 1.256468226813061, 0.5345293703596136, -0.0756719223147046, 1.267307745306554, 2.0053098599339303, -0.6103850424078882, 0.3723521442742905, 1.1152177596993946, -1.0704633725181374, -0.2722538185313949, -1.1051388074379538, 1.1053835512120085, 1.091239562431139, -0.5411033981274552, -4.244560537162342, -0.970067951133403, 0.8640073134872, 0.7049526334286441, -0.17210371839242206, -1.5345172160604426, 0.05054850589374431, 2.540126683548955, -1.4837986317666807, -0.0856916517958805, -0.5304387969468256, 0.5695651029575638, 1.2233597306820843, -1.3124182281006995, -0.2764623124282359, -0.06682434367525532, -1.581935943631983, 1.3359707895435124, -0.6844297050009774, -0.4370005237924281, 0.09448276754890798, 0.9929185552842418, 1.3377431731687486, -0.3153883334853472, -1.2669075107383123, -1.6454128279824527, 1.670272778452728, 0.9462466822994363, 1.7396420743521956, 0.48868005257355157, 0.1835205282460956, -0.6223380544977016, 1.1112829231336476, 2.0405399448754102, 0.09766196965764046, 0.7514715578337742, 0.26325272095013713, 0.8971020193966814, 0.6107948247675838, 0.43286677884526986, -0.6394079472216548, 0.099343186647248, 1.2233051005909936, -0.4981419537683601, -1.6460364418366038, 0.8280239502496813, -0.10536411477767868, 0.543911450820785, -0.0859869780621409, 0.848099766086807, 1.1872263640285652, -1.2029692593086416, 0.6402916843444074, -1.8973597112426563, -0.33013760155563504, 1.2070697434919742, -0.9740244746127207, 0.691879798561351, -1.76900537345906, 0.1126863158331236, 0.2843485126773204, 0.6594584118661128, -1.5585033129635493, -0.4850379307843647, 0.8720596821268605, -0.19907827246551327, -1.9320000323449171, 1.7811002988565523, 0.3462206738516007, -0.8149598823324189, -0.736397211129514, 0.3986136674278888, -0.6851751423682514, 0.15073805618400787, 0.3341062734638389, 1.0279541471764158, -0.587980155261159, 0.42364861635576173, -0.8469655327998137, 0.7195038078351529, -1.5934672864673696, -1.8393251848242804, -1.0918196971084464, -0.806975459155464, -0.8703024325942882, 0.46284494896455197, -1.0207719652272365, 0.37381343559457, 0.628574741412245, 0.595233484651934, 0.3599789160087468, 0.338921272276741, 0.2604650755913054, -0.8614621981771741, 1.6839504517597872, 1.2025179816947233, -0.565456482638942, -2.03696885062092, -2.004544045187904, -0.6765057702490636, -1.373045651876853, 0.842659762888152, 1.263018126016484, -1.6942042451115602, 0.8495076261226618, 0.030146780475999817, -0.1596861502107964, -0.6053297125726138, -0.8808454162663961, -1.5069141841614448, -0.9696158155174677, 2.7795009130858452, -0.27587225908754376, 0.7351518963328146, 0.22288859391944385, -2.317501779923591, 0.5120328578572833, -0.25421315652909254, 2.5289383891208916, -0.11768230031485141, -0.4483083146065412, 0.535030957254315, -1.221720726741726, 0.7689170094361075, 0.4760511618857572, 0.38367902059505815, -0.029140836896232012, -1.0968861541797639, 0.1923824237935028, 1.9984290201093058, -1.0844279146176146, 0.21008906458637364, 0.7364111098890015, -0.8034196132188984, -0.05106241363183983, 0.06483810947194771, 1.7978437593769667, 0.09643663066553361, 0.9616989913322505, -0.15979364595974152, 0.42324240477183467, -0.6107999451050174, -1.9111859948043175, -1.2597273339066146, -0.4718247341018675, 1.9563536748650594, -0.0019837946902278554, -0.10666190539637443, 0.25786389608452315, 1.3586613166208115, 1.490648349251278, -2.1004634566332543, 0.988358275899219, -0.22329767803038666, -0.18792627183894067, 0.08037091444602776, -0.18823493797439977, 0.2227296837812819, 1.533102292512507, -1.4484730240925319, -0.6494388819821014, -0.5573466946405807, -0.8354347753138615, 0.35192623496218006, -0.8250085580550948, -0.004659221053579457, -1.2572651287301113, -1.0442459276475347, -0.0723815067212257, -0.9337466715626719, -1.1089866049106474, -1.3635062437991001, -0.3629458116599249, 0.3135474950119573, 1.2845423146684034, 1.0572229572009366, -1.1191272189040562, 1.0222466122178822, 0.04825917459841646, -0.5568476516813833, -0.0175198812149691, 0.6426132532549135, 0.00588575847752602, -1.841446584676263, 0.44930485836834955, 0.5983072658892508, 0.8374429206278713, -0.45901077142536345, -2.5506644567403853, 0.3032063427200787, -0.7568266722289166, 0.9984540943588894, 0.3885660591868814, -0.054405400122400874, 2.3379986911863933, -0.16647859509598104, -0.41214484110825056, 0.9059776888331071, -1.2296402187702251, 0.43172503951092883, 1.3228461760924863, 0.846166810937415, -0.05398864039835364, 0.6198373937739422, -0.36407688047840886, -0.3323157700854483, -0.8321042210872021, -0.4594682415391329, -0.9189827056208699, 0.809461805780967, 0.7468844283770512, 0.6616582663974383, 1.888877740995572, 1.5751877176668159, -1.655455233855681, -0.8086961565584541, -0.04969522308020543, 0.5200481204203443, 0.8127372069430087, -0.7160544314606377, 0.01925813925070679, -0.7688237986257316, 0.7422517649850895, -0.613749148083761, -0.6549274533498366, 0.9978723372330688, 0.816150879427082, 1.1564686085232285, -0.3356913423649407, 0.8466223427725164, 1.7340714360539282, 0.14836768872219133, -0.6292747297988323, -0.8066985514131364, -0.2802470155686672, 0.6944023327111433, -0.12577510041384826, 1.0697111679171776, -0.43869761853335437, 0.09217834153893167, -0.3449619376022067, -1.0123543195599514, -0.8466215914241265, -0.41285109769448947, 0.06551788883426123, 0.269002565486822, 0.5418942828490897, -0.1833634943108364, -2.0243317944818715, 0.534266536553929, -1.1767483167925998, -1.8581047607711125, -0.4146193189277239, 1.6757260855500555, -3.0248214233748643, -1.5788928100480764, 0.10041100599917283, -0.5403617972179683, -0.37442276851587236, -0.07372146907375446, 1.1377684224891893, -0.3080092828061578, -0.33064129579320656, -0.5504368608691715, -1.0387812115062907, -0.5913256641083937, 1.2007397301690304, 0.6239621335389535, -1.2617036489149889, -0.7237415012601006, 0.8070941295880283, 1.1208346170055414, 1.7847078045214748, 1.899913643505881, -0.03698439779080668, -2.304521614230368, -0.2247132314175945, 0.8224923046616579, 0.8253389875342915, 1.0294388574184261, 0.6399708216477974, 0.8966444319107933, -0.9111229975131868, 1.62874586603327, -0.4795247696220473, 0.34728197428426755, -0.10324634966872907, -0.4088004547508852, -0.3834207781854738, -1.0934080414880996, -0.5212707081639454, 2.173664920064079, -0.9999328182624411, -0.584082501788467, 0.5523885094807389, -0.42761115194920657, -0.2812653673025684, -1.0261242475356886, 0.13576280923347336, -0.023398205537083674, -0.2587605143734894, -0.12796790345509104, 0.7358416756582794, 0.012409561302880708, -0.08400528333517371, -0.9190840073700791, 1.2534545414324565, 0.10008353635046796, 0.20730722315362013, 0.2896159310552976, 1.4336829500592772, 1.4315327487719511, -1.0414781082910936, -0.505331387480845, 0.6702926403055478, 0.046598785168384185, -1.2017082943830486, -1.6231203128692753, -1.4836414717411357, 0.5604630692137785, 1.6434853507657805, 0.07125418308255545, 1.4115373435467045, -0.9913712952927506, -0.11670421434972335, -2.0838299100580664, 0.07559976083326272, 0.10357284776818743, -1.0793127103322877, 0.11399891948860637, -0.34126726261290946, 0.9588915360561715, -0.46641359541438654, 0.4511398357103715, 0.3492723938294219, -0.17098570134391755, -0.3116909971830262, 0.4606273029996034, -0.507103093400119, -0.43530987003718735, -0.3811116959347267, 0.4600824751774082, 0.030767268260788454, -0.740024141073674, 0.3871899907908152, -0.2709101639797821, 0.5534974878678443, -0.42330821806868285, -0.24841133613485228, -1.103187270096394, -0.3178846409499669, -0.6100212492577513, -0.6139782916566046, 0.855355598127685, -0.18508305258620175, -0.1749888900685774, 0.9937171339906913, 0.5564058697969727, 0.7402714426210404, -0.2583559236354437, -2.406694010535263, -0.07245716452392499, -2.0946914674305694, 1.4128427970485729, -0.04008505885358393, -0.4976556259995185, -0.06623888088715316, -0.07802698350356153, 0.8674544882954132, 1.4360894595985614, 0.18524032619939484, 0.7350797491795766, 0.6047312488803661, -1.2982857597504005, -0.3137095328232714, -1.4085545645146507, -0.8982654894083391, 1.2651135183888425, -0.7552416037044599, 0.5725279057391275, -0.5926492462676396, 0.00496192904245758, 0.7871345553317174, 0.9605168567321919, -0.19198503156938532, 0.47216365682739675, -0.2407472960522143, 1.6258095374810604, 0.29644078838329213, -1.465836595660556, 0.6009301362226706, 1.0160236663367062, -1.296579652239533, -0.7332314612398647, -1.2250943535190941, 0.9611596316273378, 0.527845396636359, -0.3837508767741104, -0.7210017063381915, -0.620446188337302, 0.7759329974757389, -0.28907671980697125, 1.2288510723321238, 0.6281245871568232, -0.6736425330603708, 1.1526594494991558, 1.9471082416855368, -1.464419184383328, 0.009983739488504702, -0.5942959958043925, 1.186965641500314, -1.1701291666999833, 2.172139062180033, -0.02433034235164381, 1.2136559275496963, 0.6853644250863588, 0.6087710774610275, 0.47720832405438746, 0.4423479718355437, -0.8064572952945264, -1.105445590991387, 2.620948813601768, -0.36167288837472433, 1.1361614736673802, -1.24941839395346, -1.6302467179200675, 1.7906132890316688, 1.4085746741659702, 1.7765990410038572, -0.1527214371191483, 3.062910840682796, -0.3100631993897488, 0.44919281471066874, -1.2381062814135897, -0.18532127480642874, 0.5636098146977668, 1.0057597227814892, -1.1294584706957518, -0.22219837852407134, -0.09657771548368682, -1.9681838209232732, 1.1399517095651885, -1.5690195072239244, -0.1728708364600105, 0.7333968630203671, 1.1490894123218613, -1.8418685014849252, -1.3025086636640701, -1.6982646622016766, -0.7507662458207784, -2.163456544638237, 1.067050575705043, -0.06916737687117173, 2.2231157606313956, 0.7107688247419576, 0.027948119240101734, 0.6082597848007874, -1.2692331721604069, -0.4874318132328686, 0.21902329606401608, -1.5998847943033478, -0.030047742238199934, -0.2052881458767773, 0.9619636862027167, -0.9140816186505374, 0.6220780188224503, 0.0936156061174103, -1.9537809590370683, 0.7701191976821053, 0.07486377651482613, -1.416236049786654, -0.6997732888748217, 0.38686943938441903, -2.0521005220019677, 0.77760783406611, -0.10753285260327897, -0.29182383780183, -0.4172225306403947, -0.46195756254815573, 1.062437118835358, 0.5715840480052308, 0.21534719231047936, -0.3526170242331378, 1.1136988247808464, -0.5843157123880944, 1.4788207969122165, -0.38539342744469934, -1.7216760458719937, -0.324064611483343, 0.32109922369459304, 0.9466950347981664, -0.7832268313659195, 0.5938167825946815, 0.4497197433224677, 0.13106419831571006, -0.25491795176478865, -0.9859789317457545, 0.4991835391901857, 0.3082342640337735, 0.36615455932551655, -0.19927807348197513, -0.42735086408754214, -0.450456581331846, 1.187661021649214, -0.6911392963333481, -0.6035928674297908, 0.825805206087375, 1.4489058145577471, -0.7575796279071227, 0.942014303072605, -0.5117730589307443, 0.07758291636442578, 0.4033842105756215, 2.4256402723608854, 0.4003967568393486, -0.2448627099178641, -1.1397980255553477, -0.49619054665811596, -0.35557838690712795, 0.1857077342514101, -1.2268930811059113, 1.5139294474343603, -0.024307136754343112, 0.15872832970717993, -0.9150613422512391, 1.4608276430888474, -0.00469806026178917, -1.0162047946099986, -1.0862343617171666, -0.6433564204331931, 0.048922761274013425, 0.7991165557957984, -0.052026896277632836, -0.3413694614773429, -0.41102629080155295, -0.8315172793341754, 0.1486249443439426, 0.13029889060308006, -0.2962900052402713, 1.105170264769347, 0.34880950070122474, -1.3630682330718238, 0.5635834882406935, 1.1036573015984084, 1.35862750196481, 0.39468719827965104, 0.18359203057855625, -1.8831659538374093, 0.75672268759662, 0.6373777127151447, -2.079688100838261, 0.11446041362744204, -0.7618510819339401, 0.5886012627519858, 0.7378533964868895, -0.19772066074827918, 0.09368375178356998, -1.2809715002313244, 0.5169012263582954, 0.20507838816177276, 0.1986779766244656, 0.9075325654675223, -0.33225905638121256, 0.7666907746192521, 0.30703736304075685, 0.2296812899730788, 0.05260092950731207, 0.5971566284479422, 0.09944263473377903, -1.412778371596409, 0.01623064762657942, 0.3872157271125591, -1.7587012066279928, -1.4882984420331338, -0.526211184043235, -0.3783300469924961, -1.3928503608612754, 0.03856989621850566, -0.37760759725463183, -0.4916433107655253, 1.0196747007806461, 0.21506936536199894, -1.3144263582010598, -0.1594409819445848, 1.2045834091307766, 1.5806657288667432, -1.2026402636836966, -0.22924387976149246, -0.292487600029507, 0.9306557235856675, 0.3899166618079695, 1.7519040774788623, 1.046376551648682, -0.8153665012973336, 1.3870377890487235, -0.26074149565498633, -0.1280619201372752, 0.7010316420498263, 0.5991404522244906, -1.3650810599792247, 1.2847087117313025, -0.28608525038521043, 0.12767614066038827, -0.9218321346290969, 0.05814670408216578, -1.2645986158883622, -1.6029212252344787, 0.1273582139606846, -0.7439166027216114, 0.847681075227991, -0.12164117247752049, 1.9502417533160437, -0.4728032515437569, 0.40718993438162354, -1.0614996832669885, 1.5408363843799773, -1.2548853689107167, 0.6658907773465605, 0.10156789648394049, 0.8839871451733085, 1.1158811592676472, -1.4072377966715082, -0.17549031579833427, -0.676757495347398, -0.00359964174892718, 0.32107290625538426, 1.3276665973709647, -0.47006523028829356, -0.926647762178573, 0.923674730747076, -0.8263733232876286, -1.0151460656219446, 0.8749965123104732, -1.457066885869611, -0.14999438553300865, -0.24177740688544472, 2.470644162541942, -0.2534479738310173, -0.7314422727809634, -2.094920491378997, -1.3882624184220804, 1.0993925956387878, -0.4765536066468683, -0.14298902721886597, -0.0625172649211165, -1.8175740199500396, -0.433323999712964, 0.9497047485336407, 0.8613575449603398, 1.0932697393893798, 1.108516869656866, 2.867504735422655, 0.6271509571586071, -0.1924579198134682, -0.10854468917042534, -2.103615463471733, 0.7558465925282868, -1.1456415882434856, -0.8966881999985841, 2.2150904158270137, -0.8121691220553029, 1.1870699360573425, 0.36232891433557735, -0.5306680900265508, -0.005418738071007901, -0.9542788895135585, 0.7779295899078977, 0.4794604977404966, -2.360722996540958, -0.934918530330275, 1.4001666712940717, -0.6861084603774084, 0.19707799819324026, 0.8608637901652512, -0.9823869696345223, -0.31790924247677665, 0.9155845493632606, -0.3619674164365334, -0.1906486389311912, 0.7980412567074973, 1.1389197503314157, -2.1705988677160013, 0.5595155019469461, 0.9402331535511982, 0.7132942436329305, 0.42288352909277355, -0.8001197546241937, -2.009339484840983, -0.11851656744785634, -0.9132438696652913, -1.7983225954299493, -2.115997565650292, -0.4582596210368833, 1.0537968344063526, 0.7283656818251398, -0.6759373869368541, 0.8143667215721715, -1.463075804429663, 1.8014575590328508, 0.10735038045130531, 2.0627421409862308, 0.6076851017835271, 0.18124410324899612, 0.021718444463068302, 0.2070808417559639, 2.0261359590218513, 0.9157813926721815, -1.2748739023252496, 0.3296736436154962, 1.2197817850385353, 0.022295557828696234, 0.640604111266743, 0.7373545312967849, 0.48515030393457, -1.1915018558102506, 0.639883822591904, 0.0015521950943614199, 0.47525819801216107, 2.0304791313197086, -0.1616358168490939, -0.11129631134387871, -1.2503026343723758, -1.1490786139116709, 0.07480093994480148, 0.42039341017703624, -0.6109777760384781, 0.3410041714589989, 0.7129659825213263, -2.774930202319154, 0.3843408233706505, 0.011509916365377364, 0.25315331915184436, -0.4531709433095844, 0.5458972510891454, -0.47345753181624906, -1.2674875928280653, 0.9814993269631467, 0.913434472271195, 0.1401526729621163, 1.1086844356400662, -0.13399657045744204, -0.17815899609775002, 0.2511814018939703, 0.4224887103705272, -1.1157320575103404, -0.49036566408509147, 0.6776836993167148, 0.3736323307040069, -0.4053632689684875, 0.9669067961305534, -0.9099473143285419, -0.1896103967773023, 1.3847360666261992, 1.168843800068315, -0.06772381463858203, 0.34597833776344555, 2.222968984882453, -0.614404772183755, 2.257340234756087, -0.03305250066530685, 1.3957646171746079, 1.4935815769387881, -1.1680112440574533, -1.7243651110618685, -0.38769286330440245, -0.11204206944779092, 0.6852979717524738, 1.028468504499113, 0.3939573424760392, 0.20417186917156324, 1.0131242288961024, -1.5928651841711663, -1.3827501587510902, -0.8694944981205562, 2.878543054101189, -0.1825372401664258, -0.16097848766491454, 0.8402866286647392, -1.4709120641876108, -1.1184590146029545, -2.0951269602719327, 1.291289438309441, -0.770698190168393, -0.6758468475365617, -0.20345753732517552, -0.5838393040338566, -0.028615933319521617, -0.2851543261806637, -0.6687083686813861, 0.8510826016889259, -1.3158924692918144, 0.5618617569429681, -0.4958816195046672, -1.5135903569335005, 0.56189633564439, 1.8292009302110002, -1.5689361158032993, -0.7752679213138067, 0.5360352195917504, -0.4429595793672023, -0.1528938802274839, 2.650340005821662, 0.35297621173543, -0.5829005612862822, -1.3908900406949947, -1.6958661228412115, -0.9310767227256159, 0.504634857761221, 0.3622565888699793, 1.1459951248598803, -0.14166058384596739, 1.9842075094289708, 0.49567342488155, -0.9760417708845237, -0.7381889583337573, 0.1117097053498731, 1.7110523946521916, 0.9017717535920382, -0.8403335659901601, 0.275314986943882, -0.5505373594826501, -0.8849174830175841, -0.5371531816591917, 0.6145401956802994, -0.519466850262835, 1.2516440206715054, -0.22804898596973536, 0.04239609100776724, 1.0249022252393019, 0.05823507042337033, -0.7583805492086121, -1.260882009300433, -1.9237259799355062, -0.23007659072562867, -1.6197661345670376, -1.1303237537626836, 0.9448487487223309, -2.132713208382871, -1.062761489440204, 0.34028661462167775, 0.33682326511194466, 0.3848509567384423, -0.6188294421774212, -0.20330348501830878, -0.4744670527617573, -1.749330170959269, -0.5401562989053721, 0.5569965202235532, 0.19671801815504456, -0.4969965953306472, -0.8293076672173547, 0.3340011480388291, 0.123830902734378, -0.25380435551869396, 1.2705888765951812, -3.0927348474383085, -0.37121042181580627, -0.8873013788786027, 0.21180200242498712, 1.4537204902299334, 0.3697942645770638, -1.0576457947213138, 0.14196378881612973, 0.3504370159874899, -0.29711643705794133, -0.120586511364415, -2.138510449092702, -0.3451187310798063, 0.35436773258415194, 0.720036769196967, 0.9988117250307423, 1.0597790557128515, 0.045566089926067296, 0.7812219047994204, 0.2642196303593166, 1.3593019773176493, 0.7314802162024089, -0.4210025811942565, -1.3824275376735453, -0.3523890786955878, -0.32239864402188045, -0.9928173691963632, -1.34862957981578, 0.3564714308777963, 0.1666898226319492, -0.13019088659200326, -0.18391993901912682, 0.2625809167133649, -1.3183978862187566, 0.03449006469152024, -0.7766368060292651, -0.9876531411079239, -0.5627704728067755, 0.14904689531926923, -0.08043947410477828, 1.4333815872820435, 0.36274272616054326, 0.9086431455818623, -0.22617502065360257, 0.34236269150501797, 1.4442687848519675, 1.3681184008866245, 0.3039733761285318, -0.10796727892416495, -1.4908374444146346, 2.0235865563136795, 0.13232385888765733, -1.3642688196907289, -0.465139216008288, -0.6800665543650302, -0.0883517209499021, 1.1816460378529503, -1.8288670471399848, -0.4851136275135601, -1.058993268194637, -0.7074487517379495, -0.3491534155354395, -2.2706661887030832, 0.22239775409871385, 0.7910824426943354, 0.26947658015152764, 0.09812019010648203, 0.11390215170615979, 1.7695165540520286, -0.736244895254481, 0.7870640774513376, -0.9122914575573652, 0.1985736605412057, 1.5101986370910934, -0.8628159491704831, 0.20168693238164218, -0.5711430260778991, 0.34165316584073746, 0.07022542774979476, 0.07637813082451836, 2.0509569125500238, -0.13547058439819476, 0.5704179592831113, 1.3181283434980697, 1.3763422297580128, -0.11740638627620227, -0.5782854829403976, 0.26302951073115544, 0.23326589362654523, 1.1378465407293412, -0.4569905337576244, -0.28378877456708573, 1.358369175215317, -0.0621290084463667, 0.05991370503326506, 0.8080493892571361, 1.3277553665510555, 0.47287109695179913, 0.9362238049720184, -1.552384671838515, 0.5039982143438856, 0.9435909108426482, 0.7746434245532873, 1.358193152433915, 0.8163562820775914, 0.7376248869613313, -0.1565313330526954, 1.2807155283619116, -0.036666976067008195, 1.5508264911618388, -0.16191415923948604, 0.036012239040272585, -1.1826217454511991, -1.3215627142085253, -0.555763122579129, -0.30012377543126306, -1.178634146074305, 2.1093904125320826, -1.4638283455002645, 0.2790211192690912, -1.345237456513477, -0.1455602164958947, -1.580885985190145, 0.1224496516924762, -1.4701309389659887, 1.228182569848898, 1.5248244714003731, -0.6817117329312531, 0.868352487845073, -0.6952574259198382, 0.2781358753869936, 0.3863293403410475, -1.6135980181439293, -1.321877628788238, 0.15372016227389837, -1.8946326734204213, -1.0217748421224913, -0.8336366775439414, -0.1826337021479927, -0.4671080346461756, 1.0246302765185893, 1.4940784088327805, 1.306299419966245, -0.04054580581651589, -0.9220376417808499, 1.3645531418187278, -0.5738098715827511, 0.25260937227863944, -0.7835322218070743, -0.23011896022961706, 1.5317959778067045, 1.935173544538774, 1.5673492742220791, -2.6067914485254837, 0.554971486347667, 0.15670565245705018, -0.6235525003050348, 1.2852015068386657, -0.9920304603312001, 0.33362637267045514, -0.7595099133933739, 0.011928852980622073, -0.22472594826991354, 2.2966652101284275, 1.174708727153746, 0.6795235207033226, -0.8154547011098315, -1.507589567865145, 1.3005616547771082, 0.24877565777902919, -1.4674143110756865, -0.3687237545976404, 0.7581232558738723, 0.31980856383752937, 0.9391449566405564, -0.42293860039172965, -1.4335196422294076, 0.5343158665184814, -0.11265633674374219, 0.7204554518979303, -1.481737511868701, 0.4449306173354547, 0.24142592483643863, 0.8019367568177386, 0.6045399810503665, 0.84753177626633, -0.6900490258804041, -0.22811613037042844, 0.42530560176657795, 1.3639459065467725, 1.6508635311814017, -0.8374764323314099, 0.22904569209027412, -0.7936093569721054, -1.437238570688431, 0.11558619574057809, -0.09695832074794244, 0.7898937915317967, -0.4662388552151939, 0.15209829975678685, -0.23596245817681186, 0.6830028851088124, 1.6376541895732775, 0.6807045651702801, -0.622028537374264, -1.0491490984572553, 0.043353055506941476, 0.7630712798654496, 0.19027629225382664, 0.6393843526759663, -0.30106352695853583, 0.3150621494733451, -0.4237716251224334, -1.0536172457605824, 0.9587870604488091, -1.153063888204355, -0.32844523662415454, -0.45380219362501406, -0.11040444410222228, -0.03674717552253939, 0.15279177876484204, -0.033141047130300756, -0.02120697751146397, 0.6071046681397901, -0.15327007316368915, -0.9233790465832423, 0.2331854532231058, -0.052344954449374356, -0.14196513079621859, -0.5009056703265157, 1.1321060472121958, -1.9399442910349607, 0.014950258982376735, 0.6444724617189154, 0.22318576047076935, 1.263231224581221, -0.1687796455892207, 0.3834780614982812, -0.18466051111930182, -0.6989201815550289, 0.42851711128565334, 1.0025827312191085, 0.44970726101129166, -1.9777730948524823, 0.7828418444915675, 0.4578799892317175, 2.0995843443206503, -0.0027419140583890065, -1.198696487741454, -1.4853418812408534, 1.093037977242685, 0.9283226589175921, 0.5574377459557842, -0.5689934513183273, 0.24310938003309585, -0.5303104878312348, 1.9625599587556324, 0.9001732533394491, -0.447720241516073, 0.1781127128569172, -0.2584609450598315, -0.5219123825537226, 0.42353468582617976, 0.2961047530978964, -0.5030031775642602, -0.27102584579213873, 0.1488311215394952, -1.3930616638781919, 1.253195713217885, -1.1278078939153475, -0.006718472525741267, 0.16770641388056903, -0.2826916040351057, -0.6185649146746803, 0.2702927219851905, -0.2842150955851138, -0.00566920094231102, -0.8348696573327201, 0.8178170799908718, -2.2179683429192205, -0.6228675267708766, -1.0810340866496162, -0.9970873126764241, -1.4292165145173081, -1.4099416139267824, -0.031247645589588532, 0.11804504255624382, 0.7771647642837866, 0.38881424791347524, 0.04877090971184549, -0.38411385256390645, -1.93595240708311, -1.6843135916392726, -1.3969232175714084, 0.7614027714644006, 0.682044808423379, 0.1995685161284939, 0.6788535011853415, -0.21429194425983525, 0.33563635217844423, -0.8865288417984046, -1.2170749646479437, 0.2777833298033643, 0.708532105348034, -0.820678563206573, -1.924395254237156, -0.02779917601472811, 0.8950916545714477, 0.14944306331605875, 0.2910181214564699, 0.672842456684945, 1.024473865438899, 3.2914930530840825, -0.6251951850677384, -0.12864785615484226, 0.25848291791645217, 0.6274906106333347, 1.2399673109194254, -0.09129391874141775, -0.8491888100956574, -0.09050279244644915, -0.1195607788170401, -0.21126857552685888, 1.5015518973805033, -0.2468932485207876, 0.9623566365498976, -0.3133864641475917, -1.3280958666125924, 0.44489413024575053, 0.18470814286801646, 0.682889335956125, 1.3439753143838808, -0.9629606183907418, -1.9439995802222356, 0.18033893746263926, 0.35719712453649677, 1.277606632313357, -1.676482482616098, 0.3523181170509082, 0.5781230312199243, 0.49365711622076197, -0.7558996535574116, -0.15413582950643812, 0.26022026046756397, 0.4086820958649416, -0.751211080258557, -1.2961361800457898, -1.4814278410797594, -0.019384486546625272, 0.16552931243042582, 0.21261705414451668, -1.38401915388866, 1.0251014748381122, -0.44525138686351323, 1.2049532912394743, 1.2206878530813297, -0.5658219749798482, -0.5193370239943546, -1.2552518021123962, 0.519657065306707, 0.054228452785524434, 0.12589232387804997, -0.06429168337518959, 1.5626622803487868, -1.4228214098860836, -0.045620209883992124, -0.523393888697937, -0.8242901445126478, 1.6711162137541966, 0.39751858069354457, 0.9021990965117768, -0.34699415563771746, 0.703402144975574, -0.6195969602395347, -1.8167222587271925, -0.13050402355609222, 0.3740565923826296, 0.05940426421376537, -1.2745646347189337, -0.7098802452300726, 0.1341587362311289, 0.4707309273077704, -2.496127062064054, 1.4559958339912977, 0.5310037660530318, -0.12730685247813853, -1.4947805883706822, 0.33831990374905047, 0.15486673456755423, 1.4450453728857413, 0.3625350008796767, -0.018244904028554748, -0.28012765749227575, -0.026122950799246744, -0.26250525125451757, 0.41515280637390883, 2.05337729982453, -0.0382415603790843, -0.5271050778707337, 0.8644393218061206, 0.9168522257209768, 0.8228779655751222, -0.47505863209704097, 0.6861711069287257, -1.4372304398265319, 1.0644895185343473, -0.01411811007020816, -0.2549696281432505, -0.07154543571367557, 0.6161447898508997, -1.0502794234591601, 3.019051955381183, -0.4847813453372148, 1.0071766652568803, 0.16802189401857456, -0.01310123957471586, -0.5839647484844301, -1.4033817476707164, -0.1671348835211705, 0.8278688358413457, 0.4443016817135328, 0.23229638892925014, 0.060495339958999035, -2.2240985182608894, 0.13667869879771355, 2.3433553854556295, 1.439385878677691, 0.35902739410305173, -0.26979011934115615, 0.5341684421442855, -0.197531537675971, -0.6406159317703618, 0.03444398091111358, -0.19146371575757098, 1.1754431031806127, 0.26087896202238886, -1.6548488530837486, -0.30946570055021316, 0.4927190892668993, 0.02520710965579164, -1.0133351813398652, -0.384414722759525, -0.02944287301767901, -0.9980791605822843, 0.36113288360281665, -0.5271324108925849, -0.20228367960378651, 1.0968233056028955, 0.075270868389008, -0.20161413859198646, 0.7946694671735718, -0.13837723196432586, 1.580382753849827, -0.21604634205971507, 1.2201907202269997, 1.8827376543305143, -0.7494222385804301, 0.0015211172422344372, -0.4451408949025346, 1.2497924120423418, -0.1517403752014921, 1.5096897614485099, 0.6552944092611732, -1.0386086605521412, 0.11016151402901764, -0.13686993715297444, -1.3279301062220947, -1.8207873130864247, -0.4065773683366591, 1.1328259739624806, -1.6662141197823575, 0.18159671662486931, -1.1041415583579024, 0.43704793566963934, -1.5063674569233318, 0.4662567073530803, -1.7757725097177295, -0.6351171920759894, -0.011471667898137992, 0.4294913092252274, 0.7872123478165595, 0.19128214686035502, 0.19637078380294384, 0.16630205171416182, 0.36333885674093735, -0.2859647093313227, -1.2676045747606326, -2.0184842497560687, -0.2647087002042926, -1.1078412302786906, 1.3448950781962161, 1.0322656201283613, -0.6715943437014488, 0.6354199786078554, -1.216336531559615, -0.4752961457166083, 0.4107340088469855, -0.8727375661481384, 0.9374891149681117, -0.3762262975703505, -0.4510150628893541, 0.4640411081319422, 0.17529888870511695, 0.7518703743066766, 1.5794465324735867, -1.1387797178786425, 0.15448628913367057, 0.5152990576934161, -1.4725814483239112, 1.3432711192691917, 0.9683629136889842, -0.3170123483606623, 0.7373243569327361, -0.6448658468711954, -1.004820633157626, 0.5141590644536015, -0.3267935242432171, -1.2347482304181563, 0.20571584464515663, -0.6437743064452965, 0.9296207924605372, 1.064351790017567, -0.3499235992977187, 0.8544284597638009, -0.07696983792531491, -1.885890677485553, -1.133158889727481, 0.13950688635887595, -0.3089289723965474, -1.5154157779046487, -1.4627337728589562, 0.27466920049898313, -2.130733385702411, 0.2556051456347192, -0.6761764260667776, 0.48142821193934004, 0.321873523631406, -0.8975650444695762, 1.484416943201381, -1.024141506728309, 0.43455926542735523, 1.1962825189383572, -0.2420220973670734, 0.38625608768333825, 1.190275588778911, -1.5711133925916783, -0.2394816131007162, -0.5234818669636881, 0.958393189265673, 0.23840450333407304, -0.06962957761429492, 0.8463337162319503, -0.5280724729887458, -0.3146245962353663, -1.848299859004113, -0.912757544790802, -0.5314961653571998, -1.6467227677799054, -1.0691541637460742, -0.6598238716200885, 0.6310527523113464, 1.7941362838230601, -0.4106023641498399, 0.3937460375812848, 0.16174568099157274, 2.2295071741495534, -0.5529109359800018, -2.178155797884694, 0.128111594463967, -1.0594371925287411, -0.5486929837401237, -0.9176924555734769, 0.5798968515208399, 0.0013401910604686907, -1.391356642001311, 2.1786422416200235, 0.5300679638997479, -0.05893607135853368, 1.408012980651754, 0.6612099002599492, -0.49093711421610214, 0.8831525370687353, -0.9199714595191655, 1.1832440103880402, -0.3599476231066101, -1.4567518536540325, -0.2692751954278882, -0.9231986311025994, 0.5270277635194827, -0.2782376541652785, -0.04521793035657934, -2.3056090298514222, 0.6630303548616613, 0.18759890251012065, -0.36710777391429467, -1.111052051363227, -0.6891810642036397, 0.3369352678877343, 0.5279808152796795, -0.24880227975903174, -0.3352416541385716, -1.48817049525767, -0.583941671575978, -0.010232991120640442, -1.0905986763140787, 0.35489152369688065, 0.10438041009366851, 0.34913625708724083, 0.717419430492275, 0.17670671284087414, -0.09673532684540889, -1.417076620096805, -0.2323184723382311, -0.2753676736627544, 0.018706216450923546, -0.4809491418205809, 0.631859418192108, -0.04486752306812256, -2.0419409769079926, -1.7235474854419988, 0.6256174512720313, 1.1633875415964126, -1.067094254537102, -0.35589589989807197, 0.5640777776154978, 1.2976578289366203, 0.8063964071789428, -0.08375767590098351, -0.7607021390253569, 0.10248596950821433, 0.9977241031886627, 0.6234934428574531, -0.5007901876990546, -1.183435090055509, 0.6644671088102504, -1.1962684077273391, 1.847087495543787, -0.4160418434968887, -0.8708585613278941, 0.22824025169450846, 0.42435982992130883, -0.0656251183161571, -0.47968561517041763, 0.6227933078368855, -1.319314873992912, 0.03632733503785539, -0.7419873659062984, 2.012009673106394, 1.3963370069517935, -1.4564516630415072, -0.03703967809284335, -0.46794526001418607, 0.6115217677038074, 0.014369365341915099, -0.4128017039583872, -0.7556496139155218, 1.336504304821317, 0.5212339046833253, 0.18585196045866775, -1.1262424206685666, 0.4292641338690466, 1.2896233285080327, -1.1103995056346458, 0.14017725620898228, -1.2516274510694116, -0.0985515093740386, 0.20180672916941983, 1.051783417364639, -1.6262099044296143, -0.8605246503353944, -0.3378114637129878, -0.43824583829405583, 0.7780922758586538, 0.08869237676938037, 0.7576571596613829, 0.31174112711688384, 0.16411209657877565, 0.23432401637181877, 0.27637424345627437, 0.42241451742908637, -0.4152104030283012, 0.24063123118638977, 0.34365726144828834, 0.8385992764585259, -0.02951516685775036, -2.0725155503110027, -0.8738006456191372, 0.17654843533008832, 0.019085011212446684, 1.9548778501162383, 0.19187185276730961, 0.47453396929335206, -1.028798687653572, 0.4276125316688046, -0.4093131134972227, 0.19538634962413662, 0.2772104301777321, -0.5193771334106481, 2.0268544105664343, 0.2523070229895041, -0.7910048713913895, -0.23523802964663412, -0.6319411792295562, 1.02345805462849, -1.8424617957917955, 1.6420600048289145, -0.42431842322646046, -1.8391561990755971, 0.7427342535954496, 1.520185055801729, -0.8144055347589723, 0.07804912527403225, -0.20909583670102957, 2.4219517917028255, 1.220981636130632, -0.23276763044807672, -0.8031537718938708, -0.4671751490280835, 0.7484404452204283, -1.2351986002167596, 1.0615412685860024, -0.15285570289496728, 0.45901491790950183, 0.7749548140302256, 1.886576697118541, -0.2167713362561343, 0.8770273992295562, 0.6062115844370806, -1.2429930952930521, 0.6355702484768466, -0.6566553577399749, -1.0538454713359833, 1.2832961328287742, -0.3327384382371963, -1.6031098415992238, 0.3007011063461921, 0.7802399735124065, -0.8523686861440242, -0.456693534410592, 1.1239216216429546, 2.2602137419196415, 0.06520489379718784, 1.7488374438217806, -0.8081045641946982, -0.06013413512038494, -0.8838251494225686, -1.5845424414545208, 0.9543479735850582, 0.09206750868066534, -0.17120423042096392, -1.4439539537636246, 0.08609669271592095, -0.7849157600822637, -0.6733290021468042, 0.9572345392919408, -0.011716229903498115, -0.1142986273195283, -1.1829900229305574, 0.11691515968237125, 0.805956161361407, -0.6074046171832478, 1.6443668742589197, 0.4261621896117345, 1.0968398074162733, -0.09691704009740203, 0.2592604360142756, -0.12648093847527112, 2.533639204338555, 2.1098762992330693, 1.7691889695805103, -0.2746051029467079, -0.08206768857050928, 0.571822554426848, 1.3259539086664585, -0.5387034551919027, 1.173398425334701, -0.6580586453603853, -2.73847853309479, 0.3874195524436117, 0.3080248800976694, -1.0629067011292286, -1.5994625383991214, -0.6942264517385048, 0.3723764977950818, -0.44308957125267356, 0.5478534012910897, 0.16120448301085716, -0.717012106052797, 0.1749634526823614, 0.7824620680642265, -0.5906929763231964, -0.6266994059852402, -2.4809179269875705, 0.14420561761423475, -0.16931969681642947, 1.2358503753460555, -0.5899581947565952, -0.45420747300691305, 0.9124253927189934, -0.10341291647997153, 0.1774873699984328, -1.2627997790587708, 1.258126644151258, -0.4335525156373492, 0.6214103758082645, -0.8861322891007548, -0.8965835256403125, -0.18695215765068832, -2.378324868131109, -0.5328291551918153, 1.1121035289381667, -1.4547633884004074, 0.9655527564436428, -1.8403237910705312, -1.0314893121799749, -0.17619106960152214, 0.6976315903685634, 1.2569190704017148, 0.9723989094698188, -1.8438580792541137, 0.9390404589743594, 0.8138785292270735, 1.116191049859632, -0.03164396895025235, 0.10103661901738095, 0.7821651453571369, -1.812748818178651, -0.04289404280241788, -0.10909559905556361, -0.5649749265075409, -1.2661331211903584, 1.2953315131495338, -0.1974742603406381, 0.41746692499734256, -0.13715404394018835, 2.4885362215812528, 1.6917817861903863, 1.4925599825569726, 0.5859241666522997, 2.557156130609307, -1.9455668036037839, -0.03374237903518028, -0.695443458658954, -1.4915741849431838, -0.23718740372099442, -0.7959732309784959, 0.5372220508492368, 1.8257200582876907, 2.857315186798163, -0.07945021163015745, 0.7418186815024691, 1.289898882336552, 0.42064416080488115, 0.6003648412609881, 0.5257976258874449, -0.46284281575358793, 0.3962602460292314, -0.21463630722807056, -0.9936794448866584, -0.9930121296439482, -2.41561241807499, 0.8565567273196849, -1.0223776460264946, -0.3426537654514627, 2.5889389197620467, -1.1182487459625308, 1.4486966906523924, 1.480537861556175, -2.130888405418351, 1.225219311984772, 1.523422406679624, -0.360204839744612, 0.4306826043248131, -0.23160645135660057, -0.47984236759582194, -0.5630114952302187, 1.4082645450833327, 0.375096560477073, 0.3134000593223656, 0.5829118895633069, 0.3837984255740004, 0.08848529145920878, 2.1381063750797695, 1.7602537733211332, -0.5760022026759019, -1.5945660122864898, 1.237193422657837, -0.3159962531046005, 1.7266157643806528, -0.2041896089903379, 0.8936401287829782, 0.3108686123897473, -0.14816619547682672, -0.19928255083411614, -1.627782229511147, 0.5529474611261761, -0.46298150745576927, -0.5317507344422194, -0.5114595123784483, -0.441161603147143, 2.0230475838132187, 0.6673890393192093, -1.2109139547523795, -1.0839851017197832, 0.23720496277676045, -0.020158006532196727, -0.7349679364735157, -1.058297094388717, -0.4252778374358111, -1.2277434646097563, 0.4989529135891713, 0.70486818903885, 2.0585432047436876, -0.8146214527900537, -1.4075928516478304, 1.6396301470749512, -0.17341409990419754, 0.05283299216373325, 1.235374164261175, 1.5923530894484572, -1.1999988706814881, -0.2573376491233905, -1.8778946867791224, -0.15610311146969613, 1.1783334723681598, 0.6073579078486134, -0.8248134659469505, -0.41732822129455277, 1.0588730568006963, -0.5720704872480575, -1.7119238663457825, -1.0136455420657404, -1.63617470637813, 0.6939201020894273, 0.8385982153832402, 0.46721343289387324, 1.562373984553926, -0.39175612831055234, -0.7009158739391685, 1.1465952915055195, 0.015258190033596427, -0.26914904106178794, -0.7062714860091245, -2.111552099844575, -0.0019455129236145377, -0.5435369775074252, 1.5265846785798851, 0.20437617463050475, -0.8528643027816147, -2.1219310964226077, -0.3391753743654533, 2.4936621246158235, 0.42298774578220716, 0.25367746519195417, 0.5610496355764236, 0.3879447955465962, 0.1938559592111143, 0.1685260906317238, 0.3888052703363536, 0.8694980981692221, -1.5430207360018053, -0.06083962639206803, 0.32466737419918157, 0.8899801343679598, -0.7000030308035552, -0.7792719578056121, 3.0286218885717004, 0.5261064844982251, 0.7000644570713145, 1.7563552201924546, 1.4477053596157432, -1.0777299033840015, -1.3234715545139477, -0.3399929508937958, -0.28393960299850823, 2.4008753680272563, 1.490233099772678, -0.6523750185392111, 0.23824935290240346, 1.3683541599567055, 0.22607131757492452, 0.22699157799025904, -0.4381923753922851, -2.0057948428944328, -1.4164220666346072, -0.7715927831028233, -0.23972535757416358, -0.1270373881467644, 0.25423835592484584, -0.8732700348752986, 0.07569804021788858, 0.5260470955724588, 0.4003099155987632, -0.1014662513395224, -0.7637256098892382, 1.0837909080520212, -1.2412155895406145, 0.9672824835373085, 0.43451325948294517, -0.8221512699448473, 1.3833875094419665, -0.997862066359971, -0.8990515706211758, -0.69945309982652, 0.965460787360707, -1.2669419086760296, -0.6716011057072393, 2.8284961336022727, 0.7785149739863204, 0.9151124646052688, 2.519333429456524, 0.8098994558816096, 0.2248101260095908, -2.100140148102406, 1.1062769849965355, -0.970568841514193, 0.7346520694996586, -0.4401791351089287, -1.3337897969035202, 0.25498061851434933, 2.167704858424938, 1.57878120838655, -1.037869187553517, 0.4658330969003077, 0.16132245859915126, -0.2601825980074069, 0.01020981749344927, 0.7311745096438402, -1.0510247848960115, -0.9539597034451698, -0.3868438012834607, -0.04360342767193722, 0.2403257098438842, 1.2160903887573546, 1.500956957486254, 2.043785763496494, -1.1579157363855328, -0.21278701227325914, 1.039047136982341, 0.13052708328884102, 0.08426455683007598, -0.8244686476032699, -0.029042612037638228, 1.0690458579803828, 0.8935523413315399, 1.2347625122442838, -0.9839758436603332, -0.08209656775052017, -0.8442443342959829, 1.1771111922174686, 0.5907798625158661, -0.3722150735144835, 0.7752611514056541, 0.22867534083550498, 0.03939281225973919, 0.47503695839179033, -1.7382271669358842, 0.25066637003103803, 1.827081005782325, 0.24525875147712864, 0.4835443281993039, 0.6184724437861883, -1.7864942827647528, 1.2370631120447833, -1.159294166079075, -1.0675877386224704, 0.18238233921191116, 0.020244584993203616, -1.4267778505895397, 0.4633383543458561, 2.416432524296316, -0.772678411879105, -1.4448604813335026, 0.1179904271453648, -1.252167808031315, 0.3293988427370384, -0.4537132042238544, -1.1545502527714733, 0.8356304445196892, -0.7555678713093552, 0.6396719451533824, 1.6313303089864755, 1.9181576799802365, 1.1829380249513548, -0.4540852682840157, 0.12506931938489224, -0.6556352492942463, 0.3955767688511004, -0.22847211788239605, -0.1898627886921925, 0.9511910498940662, 1.38278002398362, 0.9267971436052966, 1.1056421666268668, 0.2993110368684591, -0.8341613852041552, -1.6532521847091384, 1.3271396259746875, -0.12469409609879147, -0.10305576953905794, -0.24361231640839998, 1.5084417696015822, -0.6810539936615391, 0.06094200418640211, 0.515578634929332, -0.07665651119723339, -0.6114317450761829, 2.5406789908147993, -1.9062445148252884, 1.8797190535013977, -0.6946342138809835, 1.1160846445939892, -0.17073476333011345, 2.087776112957848, 0.023939213295887756, 1.3487991059432258, -0.753075683329293, 1.335689625445914, -0.9740662764167666, 1.0477798507266074, 3.1674780837086773, -0.5547551075317056, -1.2652826566928683, 0.5242595321224708, 1.0547397524050854, 1.1377556086388279, 0.21925413335948288, -0.3876268270673399, 1.0498998969613271, -0.9885744297254417, 1.2475228843705202, -0.7361552838650716, -0.7172093484320828, -1.0791565876736673, -0.30980344974475754, -2.028873881865164, -2.372732574446719, -1.6614967329828092, -0.6400162535417865, 2.7727911101708393, -0.26628924217312333, 0.4011979276284378, 1.1898107817753036, 0.08519363128996509, 1.1072927441256504, 0.18516540056998915, -0.07638714697977553, -0.1850203828714128, 0.7746892412952693, 0.7268337791229992, 0.48363652568385407, -0.38357403883619723, 0.6549584067172816, 0.9454968646785755, 0.4543344936221954, -2.0863911341553276, -1.1658458864422552, 0.6551678735253754, 1.1802440458680248, 0.7509941403127494, -1.849664009687368, -0.4029729819718469, 0.2260880479675605, 1.2488795852748633, -1.272895366391339, 0.04517500720716225, 1.360926550021692, -0.6450711496341546, 1.1156522581684383, 1.185486768515139, 0.1461823106109819, 0.43910609278738133, -0.1762203035407206, -0.04005098242543535, -1.1309296108430915, -1.5619413336623749, -0.4200861166848456, -0.03993447907248065, 0.6514300797722696, -0.4531730030903202, -0.9068503484278067, 0.3811021676539062, -0.4432399003772097, 0.4184294036724896, 0.010940423049958872, 0.47651752543277953, 0.5080989725239188, 0.47738359545486087, 0.8373878064164697, -0.2909977179420191, 0.6015989860019785, -0.43116407348760777, 0.1302494639775374, 0.2987287619981287, -0.04915937233640953, 0.41673215353815624, -0.9734670008373056, -1.334820495932776, 1.0667764280089709, 0.4614459816087182, 1.5694000543996718, 1.1082125492608403, -0.9539428734864677, -1.158409070098719, 0.2806294359967561, -1.5108991747070133, 2.569579766957575, -0.2131061112258636, 0.459887157614877, -0.42543800385738834, 0.09894105794643708, 0.8297776783377191, -0.5276361372720272, 0.56064860222701, 1.0444733412609237, -0.3715757887116379, -0.6142820840954979, 0.5047798957311808, 1.1837205102853872, -0.8357513982824603, -0.4309832799361653, -0.015603721962515096, 0.8802452128324006, -0.19168778794789865, -0.05575754417270222, -0.6656992466661706, 0.7970810505007523, -0.002141965373318512, 0.49472064980297625, -0.17211809436214615, 0.4888744819884566, -0.20895706316805893, 1.1026611416447327, -1.0394286246019635, -0.391201171884877, 0.8741183378543304, 0.6898667767513472, -0.24919640742074162, -0.5015436076500448, -1.5142036588861574, -1.9448352407020741, 0.6153639826099623, 2.2802456174815187, 1.156545745845301, 1.1048498770583914, -1.8210589545145313, 0.5978148431098015, -0.5314845209495906, -1.455646701617841, -1.1831719752119305, 0.28768822191516996, -0.8792119201771224, -0.8337853746460205, -0.0173332435735743, 0.47058283062933565, 0.2257319649417959, -0.650731213908378, 1.6809745960047369, -1.6211071087509041, 0.46467704134539206, -0.7043916372989925, -2.0495023835518906, -0.057819103125836754, -0.5100200822385942, -0.4848195336631553, 1.0907519434191668, -0.33325546198166267, -2.01512195425199, -1.3958945782769292, 0.9224823696986935, 0.3193517223661562, -1.2077520076667743, -1.1991777446230212, -0.43525158110700124, 0.9263668855204215, -1.2955074618099378, 0.7949451665264058, 0.026754025215202697, 0.5882804918508608, 1.0106218951647863, 1.053165615988346, 1.6073195306883783, -1.1615651710325001, 0.5965789320903613, 1.3939048016643567, -2.1159289503030636, 0.8471012152323737, 0.6916193251975543, 1.7246915259426545, 0.749974350173874, 1.7685418736734684, -0.04824786800772923, 1.0922292133253197, -1.3011527607088194, -0.022407736078933913, -0.20191445929320534, -0.23474239119815557, 1.0119875192568688, 1.25921378802997, 0.47233656279134517, 0.5910106786810888, -0.6121085634313602, -1.4301397061413097, -0.8305375850672323, 2.2844451844355205, -0.18331846089525022, -0.8417065095894948, -0.37693020454547116, -0.3301672190218476, 0.19672838548443222, -0.6240424141551337, 0.9957908227671131, -0.879705504571552, 1.3439610110116667, -2.066421625120493, 0.4311900757307095, 0.35510470298468216, -1.0285888907481864, 0.3413046403275768, -1.6869656615351096, 0.5955556735495535, -0.3164817139880307, 0.8569704485548044, -0.9698148785951074, -0.769352738231098, 1.2529672439443356, -1.015999558573288, 0.43892193430550536, -0.3808640855567213, -1.2996434985409082, 0.6277153185599899, -1.994734431882516, 0.19594394533309514, -0.9574210945061363, -1.4424234839791672, -0.5732166562990937, 0.32867996628061924, 0.24991402277194452, -0.20415784198878514, 3.6475493350556696, 0.3517725087995675, 0.6663681915596552, 0.1615924785822679, 0.1521485848461006, -0.6072809196177592, 0.5805550103055417, 1.181135972438055, -0.131973118580351, 0.9080760934721674, -0.33441939130391296, -1.007307416950087, -0.5374314555306526, -1.4158157256199173, 1.8081982829064742, -1.208371335521658, -1.001041144768803, -0.34677573097763437, 1.6352017276747026, 0.8114612859591122, -1.1027541833169963, 1.2030163340202416, 0.7991875119306895, 0.17978146986035368, -0.3925454449450171, 1.965975382487788, 0.0797372452164519, 0.8429207622718211, -0.07383648238734193, 0.40573301772217596, -2.7071058975681943, -0.8351724424439274, -0.21562801264629958, 0.3923011494492713, -1.5393086677857128, -0.3454837111191237, 1.259088480314719, 0.352127548414479, -1.4464499956981145, -1.043593579021406, 0.07705925044496714, -0.7996222511380706, -0.5425490975910491, -0.37360390856933984, 0.9447127329727145, 0.28362969773529584, 1.244801404278826, 0.09050504818966648, -1.7910708483455262, -0.6172748341591264, 1.0885362520282647, 1.6648149704088302, -1.2975034770760965, -0.04223970806327805, -0.10382325735294859, 0.26381257215005194, -0.23289390647613956, -0.9048009603546834, -0.3771445752734923, -0.04041441951929767, -1.15649017249796, 0.06444116573170192, 0.6168553344396194, -0.45251278676601686, 2.0331739832379907, 0.662097820510336, -0.50750847561774, -0.5574535246822235, 1.5378653369615296, 0.18439543148494372, 0.9074096773392155, 0.15739126074654064, -0.7537834946411147, 0.2310326860577466, 1.2316878759847696, 0.6855218176518851, 0.14475554585164885, 1.2597614938532182, -1.2977428819506, -1.8249762057072976, -0.5470578081352968, -0.9863373789374061, -0.1930607774042075, -2.2313953545179306, -0.289067442866387, 1.9281916203342986, 0.24776330776680958, 0.312832553883736, -1.9086417455853935, -0.45973345829263224, 0.61059751538183, 0.8303446130370966, 0.26245177177231255, 0.5730936056441541, -0.0630539288486515, 0.45441416596758266, 0.3612280320617303, 0.855472286153955, 0.1886823049103873, 0.26831889977690043, 0.716653129086818, 0.44271199751541657, -1.1019002939556426, 1.4178586187132451, -1.7869898511536082, 2.150109595837901, -0.788765861969097, 0.4595635179431089, -0.3831960134378626, 0.15585481368048823, -0.933848767920444, 0.38202329041770566, 0.12651213743322787, 0.11168611805731214, -0.9838097876570695, -0.24464358501246974, -0.04990244002092443, -0.07007199887735799, -2.100389931977855, 0.2602644716095781, -0.5824433897835308, 0.04207745648896546, 1.5500653502680561, -0.41209360128733, 0.30284302650515665, 0.2920908453095188, -1.1303077716510606, -0.3121650331832894, -0.4344909138420189, -0.24510697324404973, 0.14173747106002482, -0.16886322299781897, -0.014638117542060042, -0.5181947785894083, -1.2200713450994645, 0.6358896999136804, 1.0358542414339469, -0.9349715597728587, -2.0224010501792584, 0.3097352794448013, 1.114398818647052, 0.6389643459314865, -0.6047272672410158, 0.8952432578373049, -0.3233936332780915, -0.11752353466809606, -0.7993164435827124, -1.2745360295509212, -0.30113080057144903, 0.27366979581946793, 0.13585937492281128, -0.6976332902215499, 0.2311860823123645, 0.17773012803491056, 1.3782293939994559, -0.8133982386019154, -2.0024812597362995, -0.5471663607156606, -1.8633606391782613, -0.3807487959015274, -0.8590528781025616, -1.09579439261718, 0.01917174613196659, -0.4023997420378327, 0.6077628941802362, 2.1308353572567547, -0.4650141630092355, -0.7269692628389826, -0.1623444832193501, 0.1090959802265328, 0.9052804248767907, -0.08083268932215654, -0.3545432461712309, -0.334476688484399, -0.07267850817768326, 0.05769262225526105, -0.8750210758563549, 2.2650976189175482, -1.8384446118088995, -0.06972874180631196, 0.6797022010810069, 0.3950578264563087, 1.331259005733325, -0.746487394283511, -0.4471651340687701, -2.3535717537688194, 0.3565454014897039, 0.19646462428334632, 1.520931300813013, -0.23810301540358988, -0.0024284464124850486, -1.1363249964669482, 0.5185555450757918, -1.153296234937556, 0.16168560096847914, -2.0873640602504326, 0.30719460527495784, 0.2877503210620304, 0.48101629136579505, 1.1678615156757903, 0.6812262271260443, 0.8625471457644828, 0.046449407610123644, 0.30069016842754426, -0.42608715276165354, -0.27902549978866586, -0.14983136856731685, 0.6014306541033891, -0.05240549882819704, -2.7544315021214607, 0.41090079624603765, 0.7292104074400125, -1.0504989276850378, 0.7286418801755558, 0.9062310856176343, -0.8117322771459793, -0.3842712492992383, -2.142512238814663, -1.0240053879538955, -0.8692882746685772, -0.2975635000808187, -0.40294572767925574, -0.21863147746607825, 0.9808488662705722, 0.03182653362798279, 0.2866433455827916, 0.7199917904505299, 1.5243985378978988, -1.8529890882390372, 0.8498599868634914, -1.364453081577892, -0.39603139025575335, 0.01560931918380343, 0.6370423509985089, -0.45076835220780337, -0.17620500214371532, 1.437284065390882, 0.32750548989156225, 0.5928887833435834, -1.837115150272314, -1.4975935422399647, -0.5746898113051624, -2.5477752885154916, 0.673778133678933, 0.7299231218774799, -1.1192833398875974, 0.887271506783158, -0.056675556639354946, 0.07950966136280836, 1.6969258492223955, 0.42289292711739157, -0.21064773803502218, 1.146876153621764, -0.7768262507341216, -0.05548045489384205, -1.977910439056083, 1.7945501085970732, -1.2229600409829673, -0.36063771045895665, 1.2375642544864163, -0.1616456077815479, 0.5470855343921114, 1.8522163538960095, -0.876823065012388, 0.5776041286718642, -0.9275449299050599, -0.6721536664580985, -1.3452369255571885, 0.018441319952087646, 0.08841768973241942, 0.7328918154683799, 0.989644263568149, -0.2218102255987331, -0.21481355783085312, 1.3823912899780375, -1.7164991255056072, -0.18489860410702028, -0.6269664352854529, 0.833378246298031, -0.7556323065316576, 2.928500827073547, -1.0661634350809424, 0.09441433229848116, 0.5263085419803196, 0.3712282378814065, 0.10850811773782569, 0.7579408166571096, -0.3551948968490714, -0.3931151981190635, -1.6270041397226538, 0.8941912961616663, -0.7093629498898039, -0.9849147864684226, -0.2855419744795903, -1.4129593847357924, 0.9946929821856603, 0.8593474063025799, 0.3788267765141683, 0.3426032773407776, -0.8303750750872254, 0.0561998712772424, -1.8402977055153182, -1.198293434662561, -2.3633214226789896, -0.6995056890259309, -0.01877479267929236, 1.1323463395497533, -0.2989422389452017, -0.13533444540886547, -0.08262210439577647, -0.25163002683421015, -0.9515389335862421, 0.48936565373491014, 1.4461010753396333, 1.0040772292319788, -0.27908213029579393, -0.6179555863674275, -0.9931345312836698, 1.3156330119983812, 0.36153996510389175, -0.8799657232867741, 1.0113227456033727, -0.2946181520555609, -0.6208644365094321, 0.7913901047222522, -2.0384794239451187, 1.5436798684416182, 1.0456269067285158, 0.845257763876698, 0.3077571332615553, 0.36729518254448607, -0.25163454982379835, 2.20783602369394, -1.590624166215215, 0.4968563146760838, -0.4981747636046008, -1.9100234461303698, -0.517924209861497, 1.9344612111971407, -0.24892273514290433, 0.273712583031247, 0.3145008387103683, -1.9822822993339582, -0.21444330165133454, -0.5186708448028303, 1.7117666986820215, -0.0462273781988621, 0.2666537263542168, 0.9731875981150008, 0.45251000164106886, -1.2918398121416863, 2.155124161689656, -0.4391429805825862, -2.1731467485475635, 1.3967669654584816, -0.8249871494480171, 0.003808519517504804, -1.808575447705364, 0.22607144587909425, 0.05610489407557194, 0.9133785819363414, 1.5271235502174842, -0.5803569067458447, 0.699589465746429, 0.05150209545769802, -0.8291372015138946, -1.3806815746847758, 2.6485939496603006, -1.0730919816931428, -1.7724275039669488, -0.7948895335595568, -0.009071212125300343, -0.27756160097732524, -1.6119565768931157, 0.26911627677050426, -1.1772552542328278, 0.9723322280345207, 1.7194243728863037, 1.553180273297339, -0.38464159483015564, -0.5967272776140735, 1.408405628917886, -0.20560608242444492, 0.01618451136499615, -0.674825195022788, -1.0904305545759394, 0.26123429407643367, -1.7331214611598071, 0.5402452580492415, 1.8532790143603266, -1.9004912448492772, -0.4955205385293113, 0.5253107126225928, 1.1287214066039024, 1.165475204373799, -0.23659101856950193, 0.3852725301850551, -0.5388776095085989, -0.6389423155061006, 0.26933161963773494, 0.02911815220717546, 0.8227981742914421, -0.615422859607818, -0.8901796569381463, 0.1668889397404019, -0.7120379198434186, 1.3128413589809067, 1.3738074143677403, 1.8965806724693552, -0.00789499317392293, 1.0179915138745705, -0.008477277720781053, -0.7063208608187209, -0.6463161438789812, -0.7012827649278871, -0.17411932537258276, -0.7488598051464118, -0.7363768019247381, 0.21423303847733843, 0.17025300571712754, 0.005552271887465701, 0.9069100016934943, 0.809082606435872, 0.203052144013847, -0.2046337688376057, -0.5863750147452552, -1.54621527195047, 0.09255861021260924, -0.36682590866887316, 0.29742503033822687, 1.2503730739500696, 0.24955879778305246, 1.3267354591738638, 0.8968606447885671, 1.3551313475214717, 0.4745968774228476, 0.30741527180203126, -0.5768480665720768, 0.028972260047093034, -0.5812876852607469, 1.2566973411246445, -1.0344184489342114, 0.18606412334280092, -1.6723797594500882, 0.9981827871842597, 0.2086192426125134, 0.42335303866054474, 1.1462381454746395, -1.5599703317433995, 0.43498849357451, -1.6881160327859683, 0.19686198077295913, -2.9096694185972947, -0.8660664319405744, -0.9635238888995569, -0.4672134155700365, -0.4550962634351597, 0.11289646846881084, 1.7441471959741581, 0.14809095637005334, -1.2551881106597682, 0.3678692560634871, 2.5016601937481626, -1.0531798671021206, -0.3784786840336961, 1.2283934744280687, -0.08211715692841814, 1.389273215403104, -0.6608616618263408, 0.5842607210423498, -1.746172171678538, -1.8325803133440348, 2.4413162194386806, 2.780904006607876, -1.344289423239589, -0.8032594260576007, 0.6171383626552586, 0.2238253050580939, 1.0622848129597384, -0.0761113262157701, 0.5896140292674298, -1.615142494540864, 0.45890732820802055, -1.8409793322146206, -0.2432209013383038, 0.8278972939234774, 0.4383125718449449, -1.8207606368829945, -1.1860408300675838, 0.3886730264947882, -0.49955051616699603, -0.9798945598019976, 0.8305756796072719, 0.19999374238730588, -0.9177844384874718, -0.15335333948859745, 0.4847981413287118, 0.21098962904601626, -0.8315508355082656, -0.027992177009591782, 0.011349501637841184, -1.3081842226833493, -1.181981354387759, 1.2238133560145417, 1.4497696947686813, 0.18065984491868467, 0.7022177239710887, 1.528288419131841, -0.06491104493779522, 1.1397088467909704, 0.20067760791684214, -0.20242781363162707, 1.187279792278743, -0.9915255655019757, -0.7971879375940456, 0.5679358140610642, -0.6656893811523983, 0.03967577355526352, -0.08775975993274118, -1.2211277058351644, 1.125256808899501, 1.2136906872607789, -1.0370508553770157, -0.18438181944209442, 0.9465114724467237, 1.7339304342460131, 1.0197374653875624, -0.019386674114518592, 1.3617502381986966, 1.1320958867493427, 0.8331046711199223, 0.41524485924690296, 0.13230448125492483, 0.6645969902360449, 1.1457651255894836, -1.7275572983562502, 1.4292937362567342, 0.23761734894394573, -0.14253087972282083, -1.6388145951794904, -1.0886967663906368, 0.22765551312902602, 0.5703527345402103, -0.600336946668307, 1.1702501041114282, -1.5195247648268375, -0.9844965816348281, -0.25506645993708366, -0.7289902377945598, 0.24427846132112557, 0.41896945094326093, -0.5060280935220496, -0.3764360890140764, -0.11357730165067573, 1.632235412556389, 0.7454633449176952, -2.2408269812222312, 0.5288170791061815, -0.532320109701226, 0.297961371290035, -0.2243114220466218, 0.8413014746958956, -0.787512267793399, -0.6393105735255832, -1.3077885712186843, 0.8736833891211018, 0.25370485745105426, 1.0245149710895833, 1.0721703140699428, -0.1628613956600544, -0.06550047740467392, 1.664173573934386, -2.6294739001502756, -0.5281739674117368, 0.6757053052394283, -0.6650764559043784, -0.18524553417036385, 1.2171666771247005, -0.3381778805890275, 1.6134799952336218, 0.8508823386115101, 0.9725374044174802, 0.9766991344163077, 0.4494682512235276, 0.5494394866895588, 0.17173393314690227, -1.8175903635372173, -0.9461666965772291, -0.7228195445344752, -0.011089182109893828, -1.1301556659612124, -0.42750541211581927, -1.1109275361623343, 1.6065693142799577, 1.3811947712091792, 1.019517259763872, -0.6744212403544427, -0.22633277968481882, -0.38295554839729967, 0.40692024506490887, 1.0621628327653483, 1.3962085051061408, 1.3858915429627445, 0.5411347317319745, -0.867206128880874, 0.3864217365754603, 1.8318713998195326, -0.5425640255638992, 0.018440815430764874, -0.33144725602717, -0.7349183729997892, 1.1885945744932547, -0.8137680564935187, -0.1252697074262071, -1.0631481539895415, -0.1088769802543359, 0.17426206341524145, -1.1438286124098351, 0.3408492827864652, 0.5469850636083896, 1.0958015036512263, 0.7365285413108126, 1.4146223372544557, 1.4574065190175522, 0.3771245075449066, 0.24219976173784322, -0.32773566103052426, -0.7584862512991494, -0.5143563687600669, 0.13518438179950149, 1.0470329254559756, 1.1550195105044183, 1.313273580976883, 0.7295487743298847, -1.4180005407079732, 1.3796229236430042, 1.4164425094799018, 0.4872181618510993, -0.06749159200363136, 0.7078837459439297, -0.771721215232195, 1.6887301476384553, 0.09837402209455, 0.7932039063132992, 0.4887478644829573, 1.9033977416399175, 0.03344981701977271, -0.3852349664497343, -1.3862291495401726, 2.182533669247107, -0.6153678209286422, 0.19291742758678543, -1.1839210490165448, -0.7280271923492397, -1.1351319014270969, 0.3125780491037644, 1.1823206905567705, -0.09853208364605752, 0.5916022051982601, -0.577888861583862, 0.6939731446525554, -1.2175643145958035, -0.598445942712995, 0.7344510349833686, -0.5096495302248845, 0.032709141966102945, -0.012725255949675513, 0.9879870767419571, -0.27277502823961497, -0.17525411772259233, 0.7762648854050836, 0.2645993345322127, 0.22747183314553326, -0.5136601938068447, -0.957633371363333, 1.1034746950768433, 1.2513575365320002, 0.72826394604334, -1.3374039479670645, -1.0513040930649993, 2.40554060913506, -0.8027816026851886, 1.6018257680119488, 1.217812107212273, -1.0471045685514364, -0.44632732083025156, 1.353972495720709, -0.3202983734896679, 0.8344752369622606, 2.6084369896123953, 0.7037553243494065, -1.727800336754969, 1.7059736482384573, -1.213926182441184, -0.7390698802285792, -1.3409005952077515, 2.256107419430092, -0.19488043894323992, 1.1351020649994799, 2.484860160935617, -1.6720958687091017, -0.3233487261564967, 0.5055384553161929, -0.06729005677234022, 0.35802668122470177, -0.27971739946903, -0.5760893234346791, -0.269869347645375, 1.1113610138482968, 0.4267305472808475, 0.20042847821523685, -0.8951916701809753, 0.5490092794810196, -0.9595309116779331, 1.489943172988216, -1.6445754823036964, 0.5820684590112867, -0.053322001057183564, -0.5547589239695684, -0.018104282735614017, -0.6842760662330684, -0.5126929002991093, 0.42239539148728733, -1.2139363741223692, 1.2186458883023763, 1.1118750808211586, -0.7645604223859315, -0.023622859263518918, -1.3788927104933597, 0.9429695546807284, -0.7922698026562134, -0.4047546340985333, 2.2727275521633863, -0.08000504889702818, 3.062483785285906, 0.6378469760204489, 2.46482678205668, -1.9728270514104658, 0.5791946014793029, 1.4908543935288803, -0.21622013513814414, 0.9231400538886814, -1.0312874134626104, 0.37459414766919186, -0.3888795811007537, -1.7923589485976397, 1.5230340743748563, -1.8711122493615318, 1.3012688326505044, -0.6712747529403992, 1.6518486472992018, -1.093393001218423, 0.8907132441278739, -1.3372886244787716, 1.9955407091197983, -0.8166547541469008, 0.6187313718627802, 0.010110337419011815, 1.0813917916782616, 0.15825911442047813, 0.5106402364597018, 0.4153875097107828, -0.02417228890047529, -1.5677296580817452, -1.0652006283485118, 0.3106490133582064, -0.20888675700562917, 0.12758502240966615, 1.542640525921138, -0.9451622476699882, 0.7127430383353544, 0.6762590067480712, 1.339813953479929, -1.1633692135574052, -1.5898522375946122, 0.45939605141967965, 0.4552997162620239, 0.23259149978643168, -1.5427415172825314, 0.9227504594229131, 0.6457382368674343, 0.8558839873705624, -1.37039539157435, 1.565607735439198, -1.4198849454720093, -1.0462630860457278, 0.6090840680934129, -1.4073308887828428, 0.22834632867246882, -0.781259292955562, -1.5840540167576165, 0.5334290516714207, 0.6456431710659377, 0.523897931542135, 0.027484585887443003, 0.5306593500759758, -0.16464489666357643, 0.12020276944160163, -0.5912242412503841, 0.02091927907359809, -0.6271910931237794, -0.5759059173764566, -0.27541671535317086, -0.13939349009120786, -0.542224464777901, -1.893389810739234, -0.5672387784468932, 0.3829276715743751, -0.28181576564908933, 0.07808053502941065, -1.0771860070124863, -0.9961236154702012, -0.9405613666906119, 0.9176652360558408, -0.13726074322632503, 1.3733646091533926, 0.5491720178604979, 0.12393437821567298, -1.636550819887495, 0.13791200260812414, 0.21677300092769217, -0.6995700881768248, -0.28146960852292635, -1.2294283807238848, 0.293910468892834, 1.373492893177769, 1.4179847410972048, -0.6823727577209174, -2.211390702457457, -0.7266942280409717, 0.3872779508160456, 2.0795081008520464, -2.097959711925791, -0.23942338814554945, 0.21010911684310943, 0.049245771566183205, 1.2905214490089174, -0.7196807831154277, 0.57274692597632, -0.7850205019760127, -1.2320013383754067, 0.26754006503556876, 1.4083644201673091, 0.08261604560790148, 0.16964746543104015, 0.6641854729359562, 1.46485421320772, -0.15539783382087502, -2.439248911481433, 1.1845591259688242, -1.2900286968612018, 1.5253621962228483, -1.1226442494045783, 0.46694326135950653, -0.7036700147869589, -1.7982517732027397, -2.452779219319525, -0.39422075771860315, -1.2045102985067841, -0.35935472741437496, -1.4228927581343356, 1.3141433973093846, 0.47233493793853315, 0.8249186743331005, -0.93060100646333, -1.4803976511575543, -1.1215822488773655, -0.45431644925418224, -2.1506897926739112, 0.1578939849983934, 0.1632170456024253, -0.5064816686698094, 0.4096319869381696, 0.6919509067312721, 0.19712898812233823, 1.3223001174727826, 0.295604416090339, 0.7868620604900927, 0.5803393788982679, 2.271983113147441, 0.31699169043002573, 1.2451992646008854, 0.8834772858511478, 2.5294440448208677, 0.4086973598016365, 0.6787731806757211, 0.46716335824347205, 2.154908890256327, -0.4634168076871957, 1.0219295466342477, -1.2250884814272527, 0.46913958253863375, 0.5119447796564217, -0.8055725558201505, 0.39325593765866745, -0.498105548528076, -0.7581622889327949, 1.0966713748824626, 0.33024148565433764, 0.38209430399635774, -0.3903793721405508, 0.5101745540509159, -0.7098007405703304, 0.19484936974677783, 0.16798521794977722, 0.4727254589638539, 0.4613040825327108, 0.5518511885725662, 2.4125402904913824, -0.5732073000336664, -0.2015723109155954, -0.9203376110245217, -0.18539191067397434, -0.15104713819831483, -0.5503341829296585, -0.9774123233908935, 0.6704300529552236, -0.5060374031384547, -0.37658023537555735, 1.0663840170194756, -0.6915956509936185, 0.05500692861019347, -0.7696589303944575, -0.22069820818056243, -0.6362205376828689, 0.2648646038529902, -2.144019305500949, -1.0435950983532916, -1.2712972731402286, 0.9220803610048691, -1.166401378704226, 0.7226276268655452, 0.2250423076945292, 0.022711629894932996, -0.2741603907250997, 0.6964704473350157, -1.4822821851020416, 3.0482767828291384, 0.6027691535697292, -2.0082496605579254, 1.4365242540751335, -0.11840526534107644, 1.6972529486300474, 1.5062173933595258, -0.498991118577858, -0.7759424033420189, -0.5071584704528159, 0.33155853188534506, 1.3128361904882793, -0.1659729102240838, 1.3422290631262737, -0.8139437155941334, -0.9248756233326991, -1.9368286642865764, -0.20511358902636256, -2.0010906614266624, -0.4638756976364508, -1.2832261805006306, 0.13863163296183215, 1.2630538974110892, 0.19723027460330078, 0.6117836425915992, 0.8545334080882258, -1.0738578199913267, -0.2508272538344373, -1.8570842303129365, 0.4929640065154222, -0.33005182338990247, -1.6345920154588842, 0.20155991011531085, 0.9361924501094174, -1.765188080764185, -0.8375246752875712, 0.2487681608419234, -2.1388231155877664, -0.8417704406701394, 0.3433588468320861, 0.7096794893283056, -0.5302820725873468, -0.1567618256979305, -3.1547430835027086, -0.2943347575531067, 0.05670047666552169, -0.8951649851904093, 0.9056655643714824, -1.2596978365653795, 1.1996438207823727, -0.3448201729261182, 0.9064541872909574, -0.04604703193896328, 0.04672245752046488, -0.6212574427883123, 1.3631921153092552, -0.033584797202100586, 0.3408731018230491, -0.7157235060888067, -1.0086641925564301, 0.24318712690578556, -0.4607732364484844, 0.6237079852330157, 0.20759707896848636, 0.17928063205165642, 0.29186010133924584, -0.6484156048855684, -0.6724250947229432, -0.09106207801290643, 0.15363970581739578, 0.796415070262133, 1.5446534987866576, 0.3729831905561758, 0.5172411246363441, 0.32181290252207984, -2.133027079546639, -1.182043435463092, -0.8286903853656259, -1.024057941087056, 0.6354419902645676, -0.8058737837338595, 0.5265233382367366, -0.6422922128543395, -0.8268654976390801, -0.2820506347994468, 0.13249018005752894, -0.4509628129624718, -0.36246214526283416, -0.4337470678551346, 1.179795648971454, 0.978379433910036, 1.553427140507119, -0.39048990521338894, -2.1552377207581936, -0.41862679554906634, -0.7985217136390419, 0.45730764830446535, 0.6454527135268693, -1.7681516955240704, -0.04201074383328709, 0.7156590314115951, -1.5171166921349355, -0.722827438872253, -1.0693610759934713, -0.14972324682045254, 0.48351086933723386, 0.030002679363315455, -0.43693023271336445, 0.1905701856124042, -0.684004193986256, -0.2777323692006161, -2.6490022701275535, -1.2616472669952625, -0.15121157215789222, 0.6304117461251916, 1.0019750952199415, -0.4581179665439441, 0.8626547609209319, 0.1641870862368871, 0.21446841191488178, 0.031406874744912494, -1.0227683226659219, 0.8067132589715909, -0.08444965573332083, -0.6379699883915859, 0.07803274123910971, 1.027923887410322, 0.95146846116175, -0.5368957542174203, 0.06226638357497174, -1.5704567496274744, -0.9333437796090336, -0.896907301965148, 0.10459117043712271, 0.6906853837127609, 1.9888802972922903, 0.1792427795562277, -0.553292251253311, 1.2486984757626816, -0.2511994378101198, 1.9757151685786885, -1.389636431316897, -0.024509112848584418, -0.9767775164492122, 1.0827527616799537, 0.05874218752353169, -1.0803633652055549, 0.7047454189522783, 1.0321724492268196, -0.15913716161594404, -0.44601763937381755, -0.15400035089258945, -0.5066685842695268, 0.048522742295636315, 0.2892186661534102, -2.7712511047373303, 1.016151005133919, -1.098446753233173, 0.5117688587432535, -0.2560602234161858, 1.411987832121827, -0.5889264695125184, 0.9824342733502283, -0.18248949035700884, 1.0555652807195186, -1.8791410209331274, -1.1529985724222689, 0.15182111717843008, -1.3351616785481983, 0.09668402488530288, -0.19888615582807284, 0.6219435646032712, -0.13166169097621555, -0.4489573620768658, -0.898768693502263, 0.34559437683456234, 0.0816073168155896, -0.36247485858877926, -1.2719613010588058, -1.2165879259986974, -0.24875822686945714, 0.10268830100389775, -0.4091852175396624, 0.9530563237517414, 0.1269659778936557, 0.5755615532148449, 1.3857546727480587, 0.7581764895860132, 1.015706977194057, -0.821714885255881, 0.12875986028537117, -2.1719360219048762, -0.46872728758124704, 1.9759479515796237, -0.6055226766165646, -0.0921335316736938, -2.0103394171839883, 0.5572986602043566, -0.9225379232299982, 0.1951036364489309, 0.3220985591937144, -0.022715230747901563, -0.7936901625906222, -1.303871729825651, -1.4046433241068055, 1.590910744743696, -0.2991162381623332, -2.1079480176182543, 0.07034836981081324, -1.0615521776345795, -2.626092507989695, 1.2287688556848417, -1.552919998186215, 0.4368972185281161, -0.038547695466863166, -1.2359839368179049, -1.5673868783317573, -0.21482459792805234, 0.07119042491582638, 0.28666409069910226, -0.5498307695649224, -0.013204989182671835, -1.1993842218604658, -1.5803852993321987, -0.10302599453268274, -0.6905876117599828, -0.7653025197450548, 0.45702020143823735, -0.634233578053455, -0.3886155196851207, 2.0213596554759765, 0.6545197935068258, -0.5226239090136874, -0.3660031160020617, 0.76663865034929, -1.5335813409907029, 0.06137665681178355, 1.3611855852958434, -0.2653081895426753, 0.5245093723767603, 1.4211828193536509, -0.35264528580061977, -0.8792659652022569, 0.04149936117280927, 1.07137031326683, -0.2844060262377821, -1.563508245182754, -1.4269214915094166, 0.3050717610457535, 0.36655546198437194, -0.3613758500441633, -0.9930354990493279, -1.3957126556799064, -1.0468930178843996, 0.4110131689289685, -1.6267438657516256, -0.7007197835292868, -1.0042455927093588, 2.228712310164919, 0.8326188903197298, -0.9975844238391871, 0.3308789648389549, -1.1444592036084997, 1.385705969041876, -1.0058667857110033, -1.0550059538742298, 1.6124230019576102, -0.3879452757638031, -0.9690969179934389, -0.20655866697333583, 1.3311715066586223, 0.9816688196909177, 0.6694962113640409, -0.35410071860587494, -0.5280039181104508, -0.5499819028612903, -1.371500390582585, 0.02060948652966657, -2.2454644923754645, -0.7769249122267249, -2.190089323622249, -0.022352682929802466, 0.5987040654352126, -0.2643819273716119, -1.9032641124664709, -0.10103140476328865, 0.8331457364425716, 1.5355241876123054, 1.8927055034625122, 1.140136725871728, 1.5405917192096499, -1.442113216331535, -0.7117196613264216, -0.8295142494677544, -1.5861885494674206, 0.34164287809197297, -0.9302543847823954, -0.3105342643918749, 0.24654790237523957, 0.4347665615715339, 0.07499463117820297, 1.7723932056149034, 0.5950593799818324, -1.3490438510377472, 0.8436511711218763, 0.16449393890754574, -0.7992923489460144, -0.4166561741666095, -0.8235469607857621, -1.3283269921171788, -0.7229552866519398, -0.28034065607337993, 0.4950391863084389, 0.6895029343748782, -0.4044385658656493, -0.9672110058922264, -0.6467857174663794, -1.7161162593959298, -1.7705619087900135, 0.3489439131070177, -1.7140104442256434, 0.20427007877642034, -0.5038953459594232, -0.4404936137470786, -0.008306161499440804, -0.5728478966457955, -1.617598394579524, 0.4448676531080324, -0.3252257759347346, -0.8380020354168228, -0.695865525751831, -0.5328224080572379, -0.07296598652145399, -0.044083372078452684, 0.13380364108087295, 2.5932869485462255, -0.8740814206467674, -0.1118145902451407, -0.17316833194990933, 1.2174711023614582, -0.8619072368175161, 0.7748541815361398, 1.255962523241661, 0.25065992928649067, 0.6461672537158087, 0.8836493504384584, 0.4445846433541732, -0.4745621650863336, 0.07496557339008884, -0.19238817329750646, 0.9590583618889059, -1.2866758146582942, -0.2931742039790645, 1.969238575120433, -0.19054590776041502, 0.9249901398043451, 0.08560493251028327, 0.8728238620553287, -0.6718609694914979, -0.10534588150839558, -0.37058845554262637, 1.0693581982540006, -0.2606057241152193, 2.1291263572194192, -1.1318093848390884, -1.0651210423990627, -0.3214654402681771, 0.7199846033031443, 0.6864953120380494, -0.1239457941971736, 0.10430983421038774, -0.0792694278855155, -1.175668746850236, 1.1936876040104405, 1.1548054622713866, 1.1170849172087078, -1.3160226367809575, 1.4925010777847134, 0.2513358391857838, 0.32061765207002824, -0.7950977757756514, -0.054915853954984, -0.46530487288133343, 0.006554041143091261, -1.3126005333028017, -1.2945836026966882, -2.153272844763907, 0.627054410066207, -0.8857084985369289, -0.6277723374874826, -0.7455544417232874, -0.009465050179140799, -0.5867484874002143, 0.6764228170732988, 0.29541369222319064, -0.6246126589289044, -0.39883347815492054, -1.016584039761449, -0.11204076406484707, -0.4007924563518984, 0.7001346440901688, 0.2536145759995855, 0.8807683768087299, 0.20664681944813898, -0.4674661601859555, 1.4661966872045133, -1.6579943230860645, -1.846039088618889, -0.3749633239041475, -0.5318361840625325, 1.0265783594514513, -0.56403005838425, 0.40004434195513844, -0.05733125858905475, -0.041338073155405594, 2.193170030706468, 0.6253665467256034, -1.17916954340399, -1.378379360561901, 0.24856426155699138, -0.1525935468155372, 0.5060827037196981, 1.6962816863726782, 1.6161275361316096, -0.6519946461292557, 0.3181125112115179, -0.5050447004969357, 1.03911262832233, -0.5119424776011516, -0.2538642317740259, 0.006522100709492989, 0.8258339666878732, -0.09402639801060374, -0.4350992805241234, -0.7836974009663731, -3.011664396468657, 0.6370737157256035, -1.2403910115699022, 0.34002339262693426, -0.777808399548657, 0.6295166213185667, -0.06995216040844103, -0.5633016048591045, 0.4334921705142215, -0.24571085351335156, 1.4186385039536118, -0.5670332030769533, -0.5603286097307033, 0.5607786702327979, 0.36903532682968593, 1.2697371720143589, 0.37762272586441537, 0.2051404997651846, 0.2500469834597116, -1.6762187794942978, -0.6726674799322908, -0.772819185869393, -0.9396230879932019, 0.49959128122172014, 0.13275724877332826, 0.8313258664846237, 0.7483853741991643, -1.7871640158625368, 0.08381243598559573, 0.06006483800310515, 1.3929226556197278, -0.8907323020603044, -0.12790986599506354, -1.2834476056773683, -0.014809184173854566, -0.06361766723278191, -0.5629807872782181, -0.1884817998303679, -0.4641202506667207, -1.0759741858511866, 0.60258571856229, -0.8609348498590208, -0.11805313374262727, -0.46353288291423056, 1.0608176683404436, -0.7283850630764439, 1.447158637914628, -0.6849464705816797, 1.262274334337097, -1.033300908369355, 0.289017237948671, 0.2947775118836341, -0.34123466238907146, 2.233554870649525, 0.727499815323288, 0.01808232926498256, 1.5681757743643783, 0.6965983193938228, 0.8034589671591821, 2.268523748250681, -0.8590350457142143, 0.4182469809581878, -0.8967866204976394, -0.15502303600440645, -0.9131272877044202, 0.0611631655568937, -1.4391582242859065, 0.7149315934009007, -0.32541238372470477, 1.477146028807638, 0.2504406262789494, 0.19066272189895678, 1.1187482543205487, 0.6520600058969412, 0.7711110891151846, 0.8675510431800646, -1.3604962878827616, 0.41613148687002455, -1.0086166255233235, -0.20291136736980245, -0.5613695084913477, -0.30467435586708375, 0.03199040504178281, -0.1849773386931958, -0.4434215285627137, -1.0501442492122843, 1.7411675180283328, -0.04322201115814512, 1.738256290555675, -0.008100372626297231, 0.976096898325298, 0.2639748981187517, -1.5290520069242088, -1.259293113739589, -0.2865288160387166, -0.0730016265765964, 2.1524375240142772, 0.5902742300403437, 1.7784415833657994, -0.14222906748516798, 0.7927491515326398, 0.4091553546662085, 0.7684414258284972, -0.7414106890970339, 0.39570019990367006, -0.6599932535190316, -0.9205527214667116, -0.3907813992729518, 0.038675064889488665, 0.17858318173734988, 0.20391182974767752, 0.28528029742333816, -0.36037272557242145, 2.578236926535027, -1.20357112273257, 0.7726805749974149, -0.3086764737982396, -0.199846771027301, 0.2657831005961993, 0.9236813202930196, 0.7818482622889146, 0.1704882150941812, -0.5905111379572237, -1.1993615756597351, 1.5699799184475296, -0.38229035985378307, 0.1838687639091124, -0.7429688076259814, 0.8988173421826862, 0.398982734809792, -1.8145090512037485, -0.9366341298213132, -0.39890722815070445, 2.3897446062402525, -0.2626588262935503, 1.1170758164223669, 1.403273447322329, -0.22237428206297083, 1.3817488934187785, 0.9205056428777959, 1.0120618423765273, 1.2122291436971504, -0.6740833231410553, -0.8787868038086346, 0.1813928010946306, -1.846447000443616, -0.6375182779956189, 0.8981148243697703, 0.9252192645445734, -1.1577283916903247, -0.18578144577929623, -0.23736241543308023, -0.4718786004432021, -0.5394088062283473, 1.7635434778079067, 1.0198626667779924, 0.5016135491466523, 0.19430877268740082, -0.9062858055875571, 0.6701514260774792, 0.01316954692347393, 1.210691640402064, 0.72621885530895, 0.29071661902846524, -2.2440262674755873, 1.4113002071204699, 0.49683118528491993, -0.562098139503357, -1.3488316640827593, -1.9370591894419686, 1.2235554108068236, 0.6236923369583428, 0.5521816898491305, 2.0197949542173768, -0.023782082457699028, 1.1320486159294763, -1.2713577774620617, -0.3742938736155965, -0.19708841853883843, 0.3717983764030401, -0.07440365916112951, 2.664913861378561, -1.5289586253821128, -1.3780207893830083, -1.1471730227559782, -0.7327520530762299, 1.8280833799333494, -0.5588132858370113, 0.06471129898388958, -1.288644607182221, 0.20325713934763523, -1.2877251089035215, 0.7692761985215001, -0.039117850280318764, -1.2758342949126784, 0.09834017944500001, 1.1216960350186245, -0.1544585067390037, -0.4581335552670388, 1.4842488264551212, -0.1325413606764547, -0.5487066619112038, -0.5819586480306779, -0.26037228622420144, 0.4783303766075546, 0.4795617271658367, -0.6089497381362917, 1.3085504811616386, -1.7584842765684983, 1.5619142977753302, 0.28948214116434173, -0.16533775899258563, 1.1055058733306615, -1.938586454268865, -1.1346273222366725, 0.14884599502299642, 0.5852000984522137, -0.34302471973811083, -0.6559052888232821, 0.2120664898375967, 0.465528465550298, -0.25342970552615973, 0.9688748615142702, 0.6457038465571997, 1.3486250040396148, -0.49471742901891325, 0.2430558196318358, -0.6411542323668017, -1.4095997503525861, 1.3704466280019039, -1.5826522699097212, -1.2676568322284534, 0.055001510439727286, 1.2343063624872705, 0.752507853304968, -0.04571543170923542, -1.4643358439243432, -0.9226472103150769, -0.31927833955106216, 1.1831585734386993, -0.23533169902806, -1.269909647259103, 1.2801833023380675, -0.7613892340605529, 0.13238199005810034, -1.4489444506938318, -0.22930477635417942, 1.033339889226271, -1.6134316964946174, 0.6155224955802303, -1.1165172688108296, 1.4176896304319873, 0.5191339420978075, -0.0013305486009080165, -0.8475789470105258, -0.4383811208911552, 0.39637554595808844, 0.9881888302002497, 0.18745925644699268, 0.3855972644321697, 1.1880757018613408, 0.41907187654062966, -1.3922071431591634, -1.1626827086262705, -0.3857436780002143, -1.896201744227907, 0.364576729072028, -0.25925923090739994, -0.10313740348369665, -0.46149821081787634, 0.8269205690371718, 1.2784895330010635, -1.4069670052061216, -0.29525315677739267, -0.43764119641304594, -0.39039286765961134, -0.8084613761606485, -1.6011084093741286, -0.10653530336738279, 0.6056002172192524, -1.2625519653184094, 0.2857240012222232, -0.5915547169212626, 0.6531611220434573, 1.3577703415043716, -0.9978834406188396, -0.5229384940674415, -0.2412632416962722, 0.5759675278724918, -1.0758040569658966, -0.020622466958235434, -0.11295317625360517, -1.55018001285794, -0.9601420184211235, -1.8885955646475474, 0.26868092949064115, -1.0832024264077729, 0.23341388954315495, 0.09444498590532287, -0.7243140398537327, 0.08616031445795777, -1.3391005177034319, 1.148549728788714, -1.7172973215370744, -0.3010075720329374, 0.778887180364665, -0.027054942794982974, -0.9798711459462669, -0.34691832551909096, -0.15657775601248852, -0.8367726458628441, -0.12017834892413792, -1.3315709817556889, 0.26741700362023024, -0.05170269416127592, 0.11331568849187112, -0.3516169277272998, 2.3952352530745538, 0.813320688563073, 0.8640257092780131, -0.31934798430206285, -0.2067522626345111, 0.17407451642799554, -0.5794831076921962, 1.9586239777730254, 1.4033091083067213, 0.6845169218965927, -1.0176079606908421, 2.565382412837916, -0.23019793352150084, 0.13321805715810467, 0.5235788442851491, -0.17420215360414493, 0.3741689486903526, 0.20502079400739162, 0.74294436688031, 0.21047851821502936, 0.6851795136253479, -0.770837584451581, -0.6910044412666019, 0.566331525485394, 2.4212465461231223, -0.22866037850184356, 1.3974880139507104, -0.612280407548906, -0.31736833581191803, -0.15618450044359417, -1.8945340005174092, -0.7890997136563473, 1.2490172674373263, 1.308493545693744, -1.90320217523092, -0.06066445320789563, 0.6372689707237689, 0.6611150335712007, 1.1966672013152486, 1.5196826246952755, 1.9048842806716946, 1.2229485233533448, -0.5841938318034495, 0.0936670551270567, -0.06068487554838865, -0.5318486990197957, -0.9179280692206058, -1.6813368454630178, 1.3065181515517308, 0.07453118831239287, 1.3403921938155303, 0.4471321176184668, -0.8326378769821948, -0.7376628623148073, -1.7356308645916636, 0.06366156588308461, -0.31939009772345694, 0.6148925679156487, -0.9675381860617683, -1.0690869583263907, -0.430588288059348, -1.2012131325585786, -1.0964815053739103, -1.411094192675332, -0.6719553342623383, -1.1396421950280053, -0.8506601642228944, -0.30822373679288945, 0.4096929928143334, -0.2485757530272445, -0.32323113410282356, -0.006939035547879252, 0.12749350325586084, -0.979651084909811, -1.9269882891373644, 1.379064840140344, -1.8190999663317726, -1.0721175007348902, -0.4205837999010938, 0.38066857458378117, 0.03655056190016912, 0.8679265322361075, -2.7328697668619206, -0.6633473461762027, -2.276927556319786, 0.5960371178634475, -1.2468242373945762, -0.012744408997315607, 0.12992786846087642, 0.49047415172026093, -1.8300489958001493, -1.184916477915365, -0.06594348933491076, -0.32452507388847024, -0.12288585295547524, -0.5264882179119017, 1.0562601040626123, -1.5000382390489007, 0.46269612884560557, 0.031847721764653086, 1.283041231625764, 0.5339698133200969, 0.5011304013428403, 0.29159962885117097, -0.1096458392374223, -1.0905256782740584, 0.2500949389967845, 0.037572206426854306, -0.6568279698148018, 0.6427422664155716, -0.22492008963142077, 0.5131012915899466, -0.5501793218114008, -0.4993601161909355, -0.5252531593321813, -1.2659641887051931, 0.8996529459210043, -0.9225400679381264, -0.24308223337785476, -0.749221269776572, -0.9343856603024489, 1.5056662950747328, 0.1161988324316904, -0.7429204521954514, 0.6641148042266553, -0.5374365439936805, -0.7586332310524806, -0.6390405424384107, -0.10351396954957341, 1.6138192218393925, -0.6201801220380413, 0.658193348590934, 1.1490326525851329, -0.47088242255536983, -2.7511142903790633, 0.9771008659729307, 1.1771115649631947, -1.240514181711184, -2.805014016501251, 0.8940047066378829, -1.0658115949927116, -1.2336054419398375, 1.4529099145067017, 0.0024787382915821966, 0.2710010766275092, -0.32555225910174435, -1.5432526253160792, 0.4499374139888185, -0.1280896188832356, -0.7258532844729879, 1.4521125632802054, 0.13372976430097364, 1.2456216795527555, -0.09935309307014593, 0.8884755390137506, -0.0621173307891835, -1.9340934769053426, 0.08635934586726564, -0.24858546287629266, 1.9809678959932855, -0.20297507137238205, -0.12792638607005727, 1.1275733420756833, -1.2355124510918791, -0.30395054992470877, 0.5365807509444348, 0.005594877594037525, -1.3796188645139975, 1.1522582329526954, -0.019396511381870735, 0.13588947781042376, -1.196426492888741, 0.8566255056953233, -0.6396687957619276, 0.7141781688665763, -0.3394145089910958, -0.5419965112609961, -1.4350730435245282, 0.8778850211084546, -1.7488622219224461, 1.1060091022510783, 1.1282523878706094, 0.7494912165111551, -0.23324769805437123, -0.7497773645757742, 0.03763265301941607, -1.001725967368012, -0.6069877191240597, -0.6953360015280958, -0.10707713533916462, 2.5529684608056664, -0.4358141724875586, -0.02736701258584353, -1.189876747301343, 0.030018868975663953, -0.11766393871398924, -0.4310338909401794, -0.28402609911079457, -0.3197899148307147, 0.08443481500716632, -1.0974330919843351, -0.7138521673121697, 0.2588923754777309, -0.10826949637343139, -0.7311489556718751, 1.5919765011567308, 0.7114088060002484, -0.263806457064306, 0.23422173205651114, 1.1611050955105546, -0.1264539449363969, -0.7535663636251138, -3.2253094764907133, 0.6673834080937843, -0.8674804431489462, 1.2512746919596447, -0.5387161733306479, -0.058821476190083516, -0.9051449784658054, 0.27220721743972753, 0.032258475945218044, -1.295897663824937, -1.1426411537524153, -0.7085402337824821, -0.1495454771278269, -0.580255011547033, -0.1934198672114013, 1.1454131168715291, 0.37439355077419845, 0.9273570329538562, -1.0669085979463828, 1.1036380460292532, 1.7865797602883804, 1.2860216290259339, 0.8018659009428409, 0.8950080552725854, 1.5050137860678425, -0.5921070792597539, -1.20374517413882, 0.25893600966573505, 0.3836868278416949, -0.4632124111666046, 0.10630311449744237, 0.3420859184294105, 1.0009776701947404, 0.0456919821484794, 1.3104908079466124, 2.3852013400291114, -1.1137612082914865, -0.8346957964994992, 0.2499291012686065, 1.8778447734339125, -1.260778977635147, 0.7383029418118816, -0.9099065507929409, 1.037585945628964, -1.2173581388845383, -0.5248386398751765, 0.8303565841889851, 0.060795944210973056, -0.1365285920822025, 0.18594693206746807, 0.6903969886830561, 0.13824203052074538, -0.05831981231667257, -0.8142421296073447, -0.6313083037697655, 2.0931620764186336, -1.1039663757921392, -0.17665036796764091, -0.6017045283914222, -0.3080617452705466, 0.0922460655437325, 0.3622158911584032, -0.8873033496479, 0.20748515328327105, -1.060632850325845, 0.4302710147991489, 0.25043654229544177, -0.3599603288733589, -0.4990507415492807, -1.157464102605764, -1.2626480022237359, -0.9550451007504684, -0.36376791080422927, 1.2386128480842826, -0.3605840267942793, 0.07412177974180387, -1.5917979423839437, -1.6187987646373752, 1.150355903223465, 0.24916593909893858, -0.6477977610406429, -1.152842116350256, -0.5577881450068833, 0.9208410305330049, -2.1094562863387076, 0.06334221927093985, 1.1514353251697143, -0.9221463464486754, -1.0461168420153895, -0.15802912303695166, 2.21193357313653, 0.21140735567857752, -1.2775268608194619, -1.6298108035006362, 0.15387773424834575, -0.4529281152103675, 0.6919397520328676, -0.04417303582422229, -1.7457890021560805, 2.159696065608948, 0.47790690857606277, 0.46795987918885446, -0.6978365460092875, 0.6821746870729051, 0.470210595262819, -1.2836145299356023, -0.3206628151306031, -0.35092825936926086, 0.8739628292240754, -0.26584066122933564, 2.0916492049561883, 0.8869006796469509, 0.44178933153914446, 0.42117970845462976, 1.6435867232900188, -0.45265525074651985, -1.019130326047413, 1.3058689700176827, 1.2513807905500378, 1.4661093962685896, -0.6245682375623252, -0.17884280783092385, -1.3547304393128983, 0.6218765415507209, -0.6196311403233319, 1.666631302494556, 1.6597031314625152, -0.8908485379091301, -0.5679684292740123, -1.0890202369362818, 1.0984975011817029, 0.6334947710848129, -0.07051477960143511, 0.05300931840373657, -0.3394628750722533, 1.1519025398013414, 1.5149343953895635, -0.7276541613934965, 0.8434637235455906, -0.779908414104014, -0.5781865055309994, -0.7976014828056478, 0.5389662353632493, 0.8122804807417442, 0.13295098385672519, -0.6803802700115803, -1.2797128705891445, 1.1240045597121506, -1.189178213365529, 1.074090917696151, -0.161251611774028, -0.1338053896262169, -0.18035796399328907, 0.6418352277552744, -0.6404469854175316, 0.29190600556994123, -0.6942224325733601, -0.3567745562584939, -0.727853389079005, 0.7488075774996815, -0.42814182075470286, -1.628158837360741, -0.41035920845349805, 0.8290081315604347, 1.2200302368200735, -0.14977557357843976, -1.0447057827648667, 0.663254159735271, 0.19168880542932087, -0.13341857455436618, 0.45575135658557553, 0.4976210368272032, 1.2826068853098416, 0.4232891494912407, -0.1525796987636709, 0.036808314456850275, 1.5113324674657587, 0.40067212186336504, -1.304561770706309, -0.3403536311129962, 0.866795204787401, -0.5946356497339532, -0.5771712525042636, -1.002251431272241, -0.8774938174671115, 1.111080499347171, -1.1320113092539685, -0.34892406895595784, -0.45012792755674735, 1.6643390766502208, 0.20367501514160039, -1.6103424232704686, 2.1106939075405338, -0.992832592573585, -1.8285680805393516, -0.03656467288382041, 0.10782467538491815, 0.6212721679916051, 0.5921926785571694, -1.163184259019904, -0.29156378186689713, -1.1273438736254384, 0.6491177721561336, -0.4429827856911249, -0.528807808717238, -1.0201289127570918, -1.4969443713657482, 1.4844005030170193, -0.6249396694597106, 0.4260411046793586, 0.16027802938555608, -0.856066731880635, -0.4330377890035506, 0.7801630075988341, -0.10787293004709371, 0.12558970700614794, 0.7798304343065623, -1.0405830808354326, -1.4147700169378723, 0.9531764452781513, -0.8073951739149237, 0.3503681183201097, -0.8595253569001077, -0.5600554662825933, 0.41940878514726126, 2.431564941616475, 0.652852628398784, 1.0290949388136261, -1.1516123343685962, 1.38998654370137, 1.5786431565255143, -0.8090148581457706, -0.362091529726386, 2.049651793255588, 0.36074842846241967, 0.0858703890111059, 0.04173013722108691, 0.21810756243621068, -0.36797422134076135, 1.0654054567281088, -1.5180014393778485, 1.1572402139075737, -1.0915725010661952, 1.8606628238141585, -0.21157619544244674, -0.48994693474511725, 1.0915818185015225, 0.6928063902399783, 0.2879548260088116, -0.2876928731307632, 0.09523180712371684, 0.41513884768386594, -0.32652484596650727, -0.12747591771703326, 1.5489771553826461, -1.1932757997240575, -0.15853832717602329, 0.6007102843168791, -0.36666308412547477, -1.8910429573458258, 1.0624081510533117, -0.6165241923766431, -1.894454485630162, 0.4005918757997828, 0.18740722917360297, -1.6254907372964968, -1.009682575567224, -1.580621950218231, 0.10426888827856531, 0.3016854339816842, -0.9463153114740245, 1.2902464295325402, 0.9986036512160736, -0.51390449953767, -0.925621598268439, 0.4020871773655567, -0.19774744553957335, 0.567849247291902, 0.8258241147008467, 0.4521489718584325, -0.2108114734515496, 0.38103398846028863, -0.6495477064647275, 1.7313065357411905, 0.9065003980739532, -0.8737242522219855, 1.8375980815728752, 0.4018002251054244, 1.9556800734580986, -0.02246129537946507, 0.2872450887873189, -0.017186953162091158, -1.7321608360911804, 1.784083672403234, 0.11331965621234362, 1.6194907166198957, 0.9776372494465048, 0.04247334953291345, 0.5950132638533961, 0.352400519940702, 0.7498454577218764, -0.7892967468786439, 1.2415083171896006, 0.540716318682938, -0.7145898775552941, 0.34663590922849896, -1.0002209964296245, -0.45728063875960284, 1.9124989275460198, 0.46847249736276697, 0.3509980840911917, -0.3061659828321084, 1.419539321598857, 0.2999692099737794, 1.7097164600309076, -0.2561385669829706, -2.3438045273002457, -0.7469393692758974, -2.420155544097641, -1.001029350127973, -1.8989865528684453, -3.1101334531241847, 0.5162860530403979, -0.8105277058291871, -0.2443319909488133, -1.8119520020162794, -2.4431111980450475, 0.6584231534885319, -0.2975340013483056, 0.9366233851338011, -3.538498997045462, -0.6543789793844565, 0.6828164700543492, -1.156974632833637, -0.06123893400331963, -0.3230652334038581, 0.1726103361771074, 0.7671971913578405, -0.2627733511229485, -0.22446774266478534, -1.8079384412400121, 0.8518203687765211, -0.5102510296194108, 0.3532207771188395, 0.7063612918157675, 0.30727320137863795, 1.163925647488367, 0.7075240106454321, 1.2942311918760738, 0.8330244307933333, 0.3161255150158386, 2.7555434521337427, -0.6658463042299854, 1.2362553485814312, 0.2964214144078666, 0.550641741523504, 1.1331673633754606, -1.364391343572948, -1.3052953472861177, -0.2521145422783494, 0.366304259206321, 1.4366175013990674, 0.08861737254977793, -0.5124034421706396, 0.38176669834399046, 1.0597167021306992, -1.3808595658957261, 0.09500516668467145, -0.9767527915742813, -1.4798775132168966, 0.22642368589061979, 0.9671402979259837, 0.30893186156380453, 1.2868551383762892, 0.9665130829691835, 0.6984902706530974, 0.5695519906161893, 0.35127345190162745, 0.5998559197488028, -0.15383966885911113, -1.822606970167628, -1.2922755305745077, 0.30567126636389896, 0.8587873793399057, -2.125741007682167, 0.8984664162297892, 2.0217223093940127, 0.7407057363831859, 0.20940406765814773, -0.8488472456602689, 1.316621671966851, 1.489972443934441, 0.10932797730842254, 0.17967454520829743, -0.14721552384830686, -0.9576601865758656, -0.4810738248030496, 1.2751553788166055, 1.5240299226638254, 0.8644358153824492, 0.651012232320078, -0.20552284836533502, -1.2293900086552572, 0.5032727796839468, 1.5273165366827786, -1.2719400835720356, -0.07270421114739947, 1.0179605424190334, 0.4273312511120531, -0.6217933710004505, 2.0855199791866763, -0.5968814115429157, -0.18761315190730035, 0.6710157878222479, -1.545323066598286, -0.19728935213685278, -0.351884259974368, -1.8625628829388599, -0.08949974772467942, 0.401469782881148, 1.014898279112039, -1.0920671803037243, 0.5640143722784233, -0.978115165974137, -0.6943164073360412, -0.5368165587652463, -2.492149546615418, 1.2781946316092472, -0.803275190243065, 0.12408192551803222, -2.4260444200530764, 0.7342243661716561, 0.04939531050163018, 0.2764238375246509, 0.4068706082998411, 0.012086808919841112, -2.0018758377995343, -1.490235203268785, 0.35873400178739173, 0.6709716133218975, -2.5332955785277, 1.4403124865567534, 0.6699944850697854, -0.2786566580521285, 0.06628710827476647, 0.5842083251329214, 0.3823887828409549, -0.3196629855871608, -0.024345697854172944, -0.33310002434445896, 1.311787463168716, 1.3146931061857017, -1.2082813847481504, 0.3135402914343396, 0.9985898682524473, 1.318456399317431, 1.2381853728649863, 0.37397637382495597, -0.7663079172992262, -1.5876198401338093, 0.5250897581094115, -1.1426209309604298, -0.034684267263385145, -0.6306634877078471, 0.32848261988222155, 1.104318209189291, -0.1875431441709188, -0.35132276613479996, -1.281757959729823, 0.32832594319732156, 0.7196670415210761, -0.9354512420534438, 1.4797388375341338, 1.5052870925366686, 0.14395934249725476, 0.498037783299362, 0.6531620258184523, 0.17616002081836296, -0.2964153333347115, 0.5462756258256904, -0.3576711524352401, -0.963907032732541, 0.7484075192253941, 0.789891274609021, 0.10601322102492099, 2.8826794093672117, 1.376810830247078, 2.456519489649113, 0.4299101486339345, 0.4518525440224215, -1.5325111325078995, -0.5412881448614262, -1.053343995190834, -2.374034774952574, 2.246792131116231, -1.9359089292104046, 0.42713008087110127, 1.211628723880143, 0.9613408906597858, 0.19694031415582916, 0.6363802097380348, -0.041342668882519945, -0.015014343043095084, 0.5631596700296394, 0.15707773177107703, 0.6856551296195438, -0.944728721173247, -0.042329681328435294, -0.37555451916368765, -0.5180682169202356, 1.416101453249993, 1.609308103471414, -1.211247204599534, 0.7761053364524373, -1.5571719348170316, -0.40357902966318426, 0.8797060545006501, -0.3610037485918756, -1.492317202681972, -0.6249822370235885, -0.6643398034986089, -0.18818278524267223, 1.1897030500292989, -0.6655527633622834, -1.1017650141670612, -0.2362106580069315, 0.2596102714807337, -0.1505617708954008, 1.2002649317837522, -0.8437793337350898, -0.9333123767167183, -0.40513164964569826, 0.8507955421886274, -0.6014834765860114, -0.48025599295254845, -0.01919558833194518, -1.0649785652270833, -1.3004608260693746, 0.7153689159379121, -1.7437981508861564, -0.007472689716041255, -0.6330104057801499, 0.11557017848949763, 0.4623816590550265, -1.1962404714058794, 0.16160756286483696, -0.5286272522562997, -2.289002352438595, 0.05635856695910837, -2.3101217419678908, -0.4001565040858625, 0.2292897706609863, 0.31816626902903705, 0.2630999027428314, 0.7881858580353478, 0.2233622016275006, -0.18998101782519292, -0.6090039890959785, 0.06453763652904287, 1.0688429070704502, 0.004999162763119372, 0.008491955975785895, 2.5228517867181215, -0.28139101627963287, -1.0986798516845215, 0.5606145082332158, -0.5242154729033021, -0.46257801661714015, -0.9518749274335255, -0.9082045695543305, 1.309229820223511, -0.35241714133585017, 1.0586694090564832, 0.6486450592051565, 0.49708120947552714, -0.10264803542861968, -1.4157376496634515, 3.540410559168278, 0.8620283145033071, 0.4064806403078442, -0.7146032518771911, -0.23416991959519526, -0.1963240834547058, -1.111629287733933, -0.5521513627132979, -1.4077593751934543, 0.685565442279983, 0.26392431488182017, 1.2036674055865564, 1.4784116749241836, 0.7263762349367269, 0.7618216155010079, 0.7408025162863157, 0.1382573291808729, -0.9293125131089541, -0.644025511467544, 1.269515252624065, 1.4631141552311364, 0.0697483093038971, 0.49213903178341906, -2.20921250062257, 0.18555581127109785, -0.8017181725129683, 0.717478948983697, 0.9700626557360994, -0.33679686454014574, 0.16252314680072305, 1.3477056964293814, -1.2701452906175035, -0.4379556522185963, 0.6563041748485269, 1.513500406538494, -0.07864824939263958, -0.6991140485579251, -2.301026565496794, 0.23414155219681468, 0.007420630459105424, -0.16963814230812913, -0.7921664398070387, 0.5468925355974315, -0.5126267413768582, -1.1363031824506247, -1.168181355905056, -0.41624163790989355, 1.0670241971491246, -1.0191918247731842, 1.8916697037454921, 0.19591417800709854, -0.4762442839802863, 1.1747861433741138, -0.4569850497077307, 0.15902849663509883, -0.4280144007159323, 0.3202723257633206, -1.3570727398265323, 0.5744038666623704, 1.9327739274574731, 0.6239231125126061, -0.42501743112441487, -0.2803630027380104, 0.2389243011539355, 0.960028081816648, -0.9271750432550532, -0.9635098233667125, 1.0376162617991946, -1.2021957139372863, 1.6039927606649205, -0.15049663293198376, 0.09736869004974852, 2.402352224116295, 0.5550518996915447, -0.4174290742686959, -1.039446006082368, 1.2781205897366308, -0.3197601506703131, -0.8733366871910405, 0.9193048584447011, -1.1616971894730101, 0.5833898964950951, 0.7203955312872935, 1.6512123613136076, -0.7589561721794993, -0.33857910747634107, -0.5222979253295446, 0.7627922181099561, 0.3813919758172988, -0.8286300737513294, 0.9762009266994428, -1.483323570534598, -0.6081216297297406, 0.10319186253381792, -1.333227643450024, -0.014078695702579991, -1.2617543552694768, 0.016448962345876485, -0.1286641487386783, 2.033241186100128, 0.750774543905597, -0.44113804609608037, 0.5049560603937636, -1.3464044689326877, 1.5657468275430029, 0.49023957871156887, -1.3226103441378683, 1.0868602520939343, 0.19351618923205455, -0.23150411520527125, -0.5674017104735517, 1.250975083082092, 1.0565805631032363, -0.6872426955049887, -0.008896888562891005, -0.47907340447207514, 0.9734298549257795, -0.8988869992341155, -0.6691473649814194, 0.8973480506313491, 2.177044056658782, 0.2648982244061054, 0.19874889322279424, 2.3714023529551547, -1.3104566694226383, -0.4182708259360303, 1.1050976988563133, -0.644982904695739, 0.4422710088622651, -0.7773540862514894, -0.406444879742699, -1.3865935931266775, 1.9993520087379408, 1.6446990600232188, -0.8020462813435579, 0.043148587548497465, 0.45519480293959047, 0.7257996521546968, -0.1745740646539555, -3.906505430639364, 0.35007681602033397, -1.0820389852478154, -0.634945263809601, -0.9061353428840376, -0.524708126416043, 0.8111478611366628, 1.263496620333762, 0.1979071745588019, 0.2389206459060508, 0.8926362348722932, -1.2990708120391625, -0.7095814504617928, 1.2075673632391868, 0.10098088582918258, 0.6676498526067806, -0.35018616184520096, -0.48628932183152374, 0.28947524839833966, -0.8491471905865109, 0.631049638697123, 1.746452770031412, 0.3157660126345287, 0.7909168299625895, -0.8562903653348685, 1.2160341786272029, 0.8486485285461264, 0.475120515765664, -0.3019211141300315, -0.04102003533598538, -0.3535853176588555, 1.9028188264949881, 0.550779896859409, 1.391482283731325, -0.6837718885085029, 0.9936935432514258, -0.6799697137297541, 0.07812752308077299, -0.31168857711369397, 1.1212838954800697, 0.9810614489108472, 1.3710256888366448, 0.8547688122595204, -0.934631431986922, 1.4281169412610262, 0.784894665269255, -1.061582244110334, 0.8710715585239389, -0.29384548637996116, -1.2281762662535087, 0.27019135699382246, 1.4674016072973306, -0.3460965418170392, 1.1633370410793265, 1.925010769659397, -0.4040218977933919, 1.3708167733649903, -0.276325781052853, -0.4850260508327031, -1.3248788515778405, 0.4851688832324754, -0.00643826852613469, -0.28662745086416314, -0.3962484596805899, 0.8158341288995477, 1.7364491943004199, 0.28723713582178934, -0.8622538197487977, 0.5620266506562536, -0.8066124064640761, -0.23370053202802757, 0.34713352527096464, 1.1071870830313615, 0.36303144005710136, -2.0881181073589783, -0.9761998003048944, -2.0340395809310827, -0.7268162873287797, 0.11449348516906369, -0.5629990801398613, 1.5489196546544992, 0.8611270505625143, -2.174746220901814, 0.6109565481495791, 0.2592897893924529, 0.4645048968556149, -0.5684387151022647, 0.0705621293222634, 2.036601473930763, 0.34775644119821203, -0.2111449909022241, -2.9878811215575776, 0.21764219302640894, 0.6403322461225427, -2.2332147792674863, 0.1328264327328328, 0.046507982640842924, -1.0284940888440128, -0.9623696914675665, 1.4989081525147574, 0.7256105865377346, -1.6583671888020235, 1.2958418184112548, 1.0771353516970898, 0.010338859804677879, 0.32919614331586833, 0.9571234452015936, 0.8965722676749368, 1.7487502453879844, 1.0100833616341849, 0.18537950451489052, 0.021178177103859337, 1.4156868392141766, 0.7892886416168439, -1.1226174329551193, -0.7974121157488936, 0.07385345246243023, -1.865879396593389, 0.6259779237851941, 1.3214354747751622, 0.4353426910514832, 0.7527402137289021, 1.2994828833633103, 0.9914681569090724, 1.2367787255234872, -0.9671314438109849, 2.076717392464894, -0.0033986078242645213, 0.33967222408707964, 0.0237745437700546, -1.7898820836179052, 0.4259924076038198, -1.0493603372586875, 0.8574024981633255, 0.6172907593250957, -0.4506854134067603, -0.2538859664970964, 1.1575021633380693, -0.3516239765996049, 0.6103211168872917, 0.2967734032661842, -0.16743530370143342, -0.8942486210117471, 2.0169956331880394, -0.2781696081684784, 1.1031495439306334, -1.086380035191194, 1.0041535436134696, 0.2684161349757616, -0.4384243783028686, 0.7359310446358068, 0.8401595197076499, -0.07960587309362648, -0.902135643995034, 1.0138777966422163, 0.4955962809673228, 1.5949672608138687, 1.2864414068395513, 1.8047642430469797, -0.8302696497396275, 1.0700125961348672, -1.0624416090063316, -1.415844714450638, -0.4233009041097232, 1.525543489779203, 1.9239170448786578, -0.156927918043751, -0.25465341890594845, -0.6639645558431875, 0.2350951280181499, -0.7366542558567927, -0.40113011025376055, 0.2777609591477466, 0.341911116789718, 0.11415251457410229, 0.3205809087333172, -0.32695918633677995, -0.2962453974703756, 0.7977075562665712, -0.4609928691919805, 0.8936404671367039, -1.3049171616930393, -1.657658250639086, -0.21943153271933188, 0.08368080675410615, -0.45800045032388625, -0.36244037242310173, 0.3267054349753928, 1.6432340080108336, 0.9300561790908488, 0.7792274514633876, 0.6237826581825204, 0.0063526920465943855, -0.9760031373386987, -0.003175982883032618, -0.2044490366152352, -1.7835387879873932, 0.21937372804354924, 0.4804825738463529, -3.2481246545830715, -0.3994884523973426, 0.9772250045556176, 0.24411783422913966, 0.2784117959953465, 1.8488491262755145, 0.15126101215520293, -0.03157795986342671, 1.7036707923717374, -0.1451988477287604, 2.027076372365332, -0.6131366678961334, 0.2714732043130661, 0.969314438363867, -0.3798751777062255, 0.19692363845834546, -1.8756455875319435, 0.5371234059250473, 0.3539255624363458, -1.4892431931222678, -1.8804475940171808, 1.611061994136398, 0.6508552123547909, 0.06649732153295596, 0.6781115379644804, 2.329775405630978, 1.7084364177656368, -2.205419818292033, 0.08586276345692351, -0.38482622185080906, 0.9088239922168081, -1.1106520004917408, 0.8383814826311703, 0.40492074997867805, -1.21499267393927, -0.5009862359962307, -2.0473146844216994, 0.3568638598014359, -1.5223470817578821, -0.44416117925184234, -0.3199847570372948, 1.1924257231939674, 0.11319867302430542, -0.8090147451745313, 2.107377364264326, 0.8399076215952022, -1.2030455561478963, 0.18603963176447347, -1.1294036301207198, 0.18638608455216746, 0.25954405116045814, -0.2119384268661702, 1.4579966760345282, 0.651541279683029, -0.6498835825098833, 1.194825712748953, 1.8211500080604455, -0.07761089896477225, 0.1037233587535557, 1.7622438636839903, -0.5691906867794385, 0.4274067435274638, -0.4827697054352498, 0.07066084560581742, -0.22314466955621062, 1.143750929801455, -0.35164401719223737, -0.721647026088612, -0.4818800212804952, 2.0607873225550764, -0.346881342083629, 0.2584538788853865, -2.149920604035963, 0.3602498332573449, 0.6821814299085766, 0.6052202624545149, -0.8504832242966579, -0.4217301156000407, 1.0325981696351412, 0.6074268543459733, -1.453151403280284, 2.5993816731105976, -0.24909875672261375, -0.21947642083441235, -0.9795788095425595, -0.35307490279513015, 0.47317026922538213, -1.5835586579225331, -1.0480056604624923, -1.7511617122952032, 1.816578744473792, -0.3584751171802906, 2.0029746004758726, 0.5906872669861978, -0.7747899456543899, -0.8697302007307688, 1.8089728610573421, 0.4083599260879512, 0.7732538359111566, -0.6739153361348045, -1.0983645039934418, -0.9968732817271058, -0.8532815647293335, -1.4284203456632705, -1.7624637800940257, -1.0608013748654044, -0.8379056929421003, 1.3972920695969162, -2.3847872736058164, 0.001506274657264207, -2.158553236187941, -0.04986773380237124, -0.7851479383444395, -0.5283905813943149, 1.0767730151802657, -0.9232601621051684, -0.08670378492413017, -0.9882009146287469, -1.112289460226578, 0.4234120632140359, -0.191725938735818, -0.7960154990195766, -1.1641231150832583, -0.4592894306192601, -0.4463567591314242, -0.5864319406592956, 1.5164314194900184, -0.5303169112135356, 1.398351478590033, 0.2196232438052138, -0.3877803244858984, -0.7420306126128501, -0.145808395353731, -0.30320378959082955, -1.1854463183076522, 0.11338122720651743, -0.8513035334525607, 0.9429310541510922, 0.4575611004993943, 0.003658830546185961, -0.09740349212745704, -0.45557609961026024, 1.077465852478076, -0.5597431858371553, 0.7722875614949876, 0.9695467188145468, 0.4041331372508663, 0.6574246486514852, 1.811084040492032, -0.5970345418134843, 1.3765893856394995, -1.1882893421037177, 0.9895000221344448, -1.8114546040216035, -0.22495143690895916, 0.8316499455892435, -0.152499110023449, -1.2631243346941767, -0.591146716748862, -0.20154251482073665, -1.1007920266713855, 0.8788109301121829, -0.45576086319370035, 0.06801565974093648, 0.40908705197827105, -2.021741241641985, -0.2536153101227021, 0.6733927075617695, 0.728547511102669, 0.2209346849028628, -0.14655667677091191, 0.6465781654555601, 1.4446824961440772, 0.1334123008259624, 1.0038529445084192, -0.3125791046345579, 0.7624018042928622, -1.2664971829963327, 0.33455215350286266, -0.4726142403961987, -2.3012759894099353, 0.6119167563811487, -0.33999110446835656, 1.0253017528721748, -0.877870421339742, 1.2108239141541308, 0.5816919740896875, 0.331281495732522, 0.4045664070951377, -0.958150167534543, -0.6294552865317559, -0.050133668618944804, -1.3486691023833108, -0.07894346403189145, -1.0988572041663096, 0.3096102178820028, 1.9549863882686507, 0.3851532500573567, 0.4167328509077453, -0.864000217632548, 0.4126714622561041, 0.8446039988534376, -0.23095129644741855, -0.20250428614460417, 1.9888163249433788, -0.32221134187337663, 0.5320007233643796, -0.8067759662511501, -0.3812016681702318, 0.4270242431764933, 0.6855169914207706, -0.29359476782695926, -1.8989150155114518, -0.5853310181480472, -1.7152404658012594, 0.7950801096126456, 0.7994239389906153, 0.49549850117525646, 0.5636896940795812, -0.8243336421687688, 0.3001440582534497, -0.3920100492482652, -0.990820299569382, 0.5816581656908637, 1.0611022674570147, -0.6597107542049494, -0.8695577354025711, -0.25178771867695643, 0.5752606455857782, 0.15146719967412212, -1.155134880126292, 0.803099972255372, 0.9047251836860518, -0.34653409803523905, 0.34093416068505167, -0.49443981960522737, 0.7994766585813079, 0.534967777526998, 1.26845895994133, -1.3643845932652818, 0.41377021919729107, 1.1841382409295413, -0.6564274597892119, 0.852719214331182, 2.110922648999773, 1.8048658068370274, 1.098547371276877, 0.9828964085932703, 0.9957715630710022, -0.24943468376190678, 0.7372029772520877, 1.3775636993159348, -1.6104409155859323, -0.029933623803591738, 0.05500290384412028, -0.4028031447075921, 0.6964977373109115, 0.3470010867685846, 2.662831423652726, 0.36560358429462547, -1.8917399990294328, 0.31291609716242114, -0.6348011568653554, -0.5929042125660584, 1.6728420143214602, 0.9205778874739851, 1.4782674336267154, 1.1738872861770073, 0.02045183231662864, -1.7058822727166134, -1.2321139782248984, 0.8327016299679529, 0.5645526504177957, 1.8915152695834687, -0.7769993624844049, -0.5914727316650242, -0.06731238865976658, -0.5063551142571366, 0.7884220947947763, 1.2398389233872236, 0.04080598959384753, -1.0799612146054751, -1.3657272287464945, -1.5409527291724394, 0.650888214858603, 0.5001718162994024, -1.8019643010472253, -2.2327367537386142, -0.6166088980476521, -0.05323043652245417, -1.4391843734752836, -0.07849434449294322, 0.1953565136048953, 1.2416653367327386, 1.2476251103409313, 2.3001655485533723, 2.07521009664968, -1.2735627283929651, -0.2594027337484113, 0.21941259218929424, 0.6784038782509388, -0.046167853065898365, -0.635926078805977, 0.40528545122705417, -0.029084258751599198, -2.1794148304166474, 0.5567549573280324, 0.8493934994422697, -0.524225142841948, 1.1230076240091749, 2.0886563884434226, 0.31612337513841926, 1.7561613966519565, 0.835121579445694, -0.20942357680310808, -1.443276319657755, -1.0730541037765595, 0.10958878592039126, 0.03918714646243136, 0.2267558231327925, -1.1331153599102846, -0.1429443780105142, 0.21678667363562332, -0.011464339423176725, -0.6092966934500282, 1.5825146860928505, 0.3144749456498475, -0.3704000110226423, -1.0944177626791727, -1.0920631210331, -0.34605027871260147, -0.7780029806766746, 1.721158984061344, 0.22248086737417136, -0.1243167366983666, -0.29625541040096, -0.8366537362132253, -1.3894274467035383, 0.7409704292621143, 0.36412716498411035, 0.33175368721364107, -0.1889146429399689, -0.4642815040437954, -1.4874018197409324, 0.5648257219824032, 0.7411508180117549, 1.7347127807942904, -0.2016928268414848, 1.4190476664632503, 0.045041506530652635, 0.8264143235884319, -0.5081848359583039, 1.0789942657454297, -0.15498122185005883, -1.6740655878744033, 0.7639500695636042, -1.3633760989026367, 0.15198429103418684, 0.4230452747155473, 0.3897137591638456, 0.5734767365187154, -0.06040684875367398, -1.3503915721960116, -0.8134572388577588, 0.6799030479010552, -0.4464667326889674, -0.06767824867715752, 1.054645622958668, -0.7346364347587108, 2.6590348326573996, 0.061478505970601845, 0.5740823253248066, -0.0851926652331002, 0.19338453961319538, 0.25303027459833943, 0.970938558082699, 1.111950698589308, 0.1567023188702483, -0.7730237091111479, 1.5034727761628923, -1.5302907702179438, -0.6087154054879552, 0.6882790722265851, -0.3633165999342362, -0.5798293953237671, -0.3830204674410322, -0.05709698752162306, -0.6260769118959575, 0.11687739578679963, -0.4459767286594215, -0.09017476343332577, -1.3953066058981338, -0.26847780594072596, -1.1507404613687473, -0.465149695541967, -0.5746803754935929, 0.24911779582212534, -0.10591514305676922, 0.9861744424447447, -0.7982835543950312, 0.14051962853389233, 0.9924243806658791, -0.48855704015099694, 0.21130369671603047, 1.8638319098220406, -1.02528465512447, 0.1653591197623784, 0.522001198613718, -0.12556668370431304, -1.2576660630085308, -0.9447090242275624, -0.5057965189358803, 0.29918664167417586, -0.1853668652930016, -1.3646877810870972, -0.6093733280229271, 0.7607254338223411, 0.14742394463238756, 0.3690289722728548, -0.6394050088912071, 1.1759012257292443, -1.2733774188464329, -1.6714895794707354, -0.5483455481128872, -0.7888236318912129, -0.5401744484612208, -1.0724921403994152, -0.5674474458583675, 0.29742373252006754, 0.01074372473296697, 0.9617445197045467, 1.4254654615046043, -0.680414771394632, 0.2916170391000973, -0.5975440048681068, 1.4057731894290222, 0.8112743855859825, -0.9888371252774856, -1.4470022905520146, -2.068417187239965, -1.1972895043919447, -0.46611291574349, 0.3230230897241756, -2.1142182454629737, -0.23156826022949692, 0.8444172747535026, 0.2853202670770835, -1.5135585250336672, 1.2897707054956846, -0.6929677340201353, -1.8706360094961882, -0.7807449671177603, 0.06627984041422996, 1.4983396339560915, 0.8798594409325646, -0.38513454453801593, 0.459563611514025, -0.20749939487907723, 0.03156702002121257, 1.3363496569815592, 0.5506300559246233, 0.26715665997240956, 0.17230754921781088, -0.5464515402937036, 1.262614351830014, 0.018684169698206736, -0.593926713108845, 1.940532132268641, -0.03300296548851681, 0.7240665807627499, 0.6456261799342972, 1.4658478493148561, -2.1081591400996547, -0.7247971810071228, 0.24990608499256342, -0.08219113515926244, -0.9931966550056036, 1.1535686973460297, -1.6241760424256426, -1.813434573909342, -0.27914315521472005, -0.2552274204016104, -0.11691276045618686, -1.478122774963719, -0.8197783239061573, -0.6204078132506973, 0.5217170524140212, -1.3352953115371928, -0.5945355812646872, -0.9046752272032009, 0.7546095395353611, -1.4848568542792833, -2.3231571412560474, 0.4752257573869286, -1.2085615000214596, -1.654376321615541, -0.9674771657470077, 1.5673260530928523, 1.518100883316402, -0.2789609248580124, 0.008996038808644292, -0.6583533753337737, 0.8619949526811687, -0.6885486068941226, -1.0658569707147947, 0.30139116266280486, 0.11532046065137141, 0.0782196952805412, -0.7212341949451663, -1.8413373013650467, -0.9615539495565775, -0.6053759742884377, -1.2034200784163465, -0.9415413338623816, -1.2618763351676272, -0.2548237795365818, 0.5004988099791567, -0.31927675897737234, -0.09902033480854794, 0.9352925044226091, -0.7713763211920172, 0.535587259703921, -1.4066496924877716, 0.024687109106299468, -0.33023269616830714, 0.003289172542222618, 0.5987739049460471, -0.10847712157747853, 0.5639886811218525, 0.40012865858919844, -1.377578442488751, -0.2253735015668284, 0.06873256083014945, 0.7068544994400279, 1.8846770932387782, 1.0885628423339282, -0.11048861202426671, -0.07208555015281294, -1.540888728000595, -0.24868657594743723, 1.039174139649717, -1.4576512168119984, -0.13023790976350427, -0.4677347460709291, 1.1168963312392672, -0.004150270951222475, -0.6682437364056121, -1.1852921729184713, 1.7800497148588164, -1.9474217749876597, 2.0901424046405404, -1.0485341836570348, -0.35115407731150355, 0.8441094341734733, 0.49919577643919727, 0.4965030944042819, -0.9010518851950068, 1.2925428434641422, 0.1132748981543194, -1.8187684717518833, 0.7679021363363093, 0.686146761654724, 0.5296970828863938, -1.7108407552678722, -3.0875008386241642, -0.04166902675266237, -0.3433824697651217, -1.0076886788902257, -1.1212950872948741, -0.8927354185588089, -0.37742963482915537, 0.2492380476805124, -0.25185483631514255, -1.7305986803380504, 0.6279551767294982, 0.3529075342829733, -0.49957388185054136, -0.911137746386895, 1.052188978926142, 0.17643861864550714, -0.7033813308153044, -1.450256341069543, 1.1189322269504323, 0.10899666598067113, 1.5792049478614945, -0.9864033959335566, -1.5072812742603638, 0.2505963745865536, -0.4752745121046366, -1.2511661554369415, 1.5369555497735572, 0.4746170849683895, -0.12036373749420487, -0.18786315932607883, 0.363834650700923, 0.06882115708272546, -0.31218754628459616, -0.25398367243535586, -0.3691296225176589, 0.6802330187721015, 0.23539799131767888, 1.9004428994774873, 1.0719813457685239, 0.3315253704246829, -0.43688319686405497, -0.31734677347492524, -0.2631721264747684, 1.0875253187990048, -1.9159778343762217, 1.8965377075906957, -0.4637219189356239, 2.176149951612076, 0.8836167729314041, 0.18825928531117705, 0.8412162111538156, 1.09318186623974, -1.4907236330729674, 1.0981510637866891, -0.3841130255112232, -0.21200170331357038, -0.3258224437166905, -0.9082132809231249, -1.0174767249864267, 0.2257802805641048, 0.29442706208204444, -2.0457828048489968, -0.06675223665552817, 1.467751889138038, 2.5763078789842355, 0.010645908031648138, -0.5300050104192089, 0.42521234866434654, 1.0619227012168964, 1.8919071976368682, -0.03969840437339462, -0.29868939654982507, -2.4980995454129693, -1.0195611644859301, 0.8746283742271329, 0.3550832912210416, 1.1456797798181766, 0.688822622497262, 1.1385574683493411, 0.7010292500966312, 2.307312904836826, -1.324712038966605, 0.015542292960865824, -0.049182375979238545, 0.8578389733613935, 0.9705797757505958, 0.824117563108695, 0.033001920863065776, -0.8938408183025318, 0.09997833131987531, 0.7933931520768143, -1.155873138048921, -0.16514399903962743, 0.7478631969170562, 0.4081508383300676, 1.409383419215363, -0.9581741285844857, -0.27032900742022636, 0.0548551681352716, 1.3596963052049007, 2.29379567219957, 0.6837309875587768, 0.5745619990646438, 0.19838235173189522, -1.3599958079342414, -1.3933388526893151, 0.592046653876999, 0.2098504410562417, -0.7312985313625711, 0.5680966665892072, 0.7603807486374082, 0.09817373008356307, -0.21146208651121742, 1.1824865019709085, -0.3384016553710947, 0.2999423742095144, -0.442165726637592, 0.6673894955207083, -0.39044629431152544, -1.1597724009682069, -0.6784651699596495, -1.4587371452352234, 0.46418261209168477, -1.3144765819740856, 2.0652568914430627, 0.26044530611564626, -0.49373124419173453, -0.552899573261433, 1.3544963527256775, 1.2071341218744371, 0.17649837627755846, -0.37526132767836007, -2.4267771634357027, 0.2686164427895976, -0.3201555919310239, 0.6843011403196838, 0.4574043188914555, 0.37470729152389143, -0.10747605617377302, 1.232523080449881, 0.029448332404104396, -0.2387293272437075, 0.3170518801091564, 2.173337500269112, 1.018257358411403, 0.5338668631264891, 1.2576997892828923, 0.41712759444380354, -0.2030212574214776, -1.2677431446969372, 0.7936718465991782, -2.2120864930706476, 0.49916608388940076, 0.14165017337819774, 0.4306380006412537, -0.7487593525716393, 0.8479894088751251, -0.7126832154049573, 0.4879480052882034, 0.7092894966225864, -1.0542020435497845, -1.0443678661020908, -0.174610238584717, -0.2927617103442028, 0.5981260802541664, 1.9822389241975527, 0.1386198821661958, 0.7865102768035902, -0.8122463369137826, 1.2228173183234874, 0.38382026206257086, -0.22729796124770207, 0.790215613741716, -0.9867195380507313, 0.2729064747838359, -0.992895974743616, 0.30279695279574625, 0.2281108590294028, -0.22865351204051793, 0.5057922587108613, 0.5715827134397562, -1.3481771480045779, -0.5201741208369656, 0.05798628970530002, -0.6292700934607854, 0.74367590140973, -0.049695138436534704, 0.47681225883487144, -1.2301616178969463, -0.03499880328005509, -0.06486518461957641, -0.19755218792651894, 0.48047487919149884, -0.101806209022467, -0.853807714289104, 2.4836864368101734, -1.0164795905899677, 0.19236328874424796, 0.8430130103140309, -0.7177214991973456, 1.0590155439332452, -0.976567459226701, 0.19806810183575688, -0.34023614762605636, 0.1621150352419033, -1.496390047444512, 0.17408495401459875, -0.8585658663329846, 0.6065130556859201, 0.7963860625211522, -0.23729539015288945, -0.12339848084214479, -0.44634267277868217, 1.0843783789183905, -0.013667874326238911, 0.6201131350465415, 0.6182993691824119, 1.3391083300426447, -1.3982639082711523, 1.5064691222673294, -1.9190915923667027, -0.9182024879530845, 0.9258041413924809, 0.6627339605375785, -0.010057659409208278, 0.5185750844454686, -0.915212732966877, 0.7932702286474164, -0.5783752381571424, -0.26537093300236, 0.2581904688843964, -0.9807693713609406, -0.9934920666794551, 0.37382753059092805, 0.5135254914213861, 1.0509909418646926, -0.27530404412773163, 0.5232566145098638, 0.9440435562832615, 0.22955646774975438, 1.3199435155992505, 0.7032498110279618, 0.5783221680724809, 1.5614307349562178, -0.33570106104737385, 0.1048922146919147, -0.15272019755723, -0.8746720864742347, -0.032701098733991484, 1.2334779378593437, -0.7283204357190601, -0.5833442824866115, -0.9442722127169555, -0.7032117596255548, 2.2456082664423347, 0.5792549845337883, 2.463523496800848, 1.1205555259276623, 0.22968011346383482, -1.282507297135624, -1.2233333885174331, 0.17544890493777116, 0.29608912355805234, -1.6287379675280054, -0.8466523181088652, 0.9026203213651218, -0.41841265579923415, 0.4675303146011094, 0.5707550801148268, 1.551788242096885, -0.20787563805070422, -0.716548663022304, -0.19744050068838284, -0.7689570407468844, 0.4566427287519021, -0.7060982461932725, 2.017934386102358, -0.5877487803583862, 0.9696423766468527, -0.21942009466588208, -2.0511660340711706, 1.184850231555518, 0.27502907209766847, -1.2982800360106292, -0.7476881004249397, -0.9446618957384141, 0.6605929636784117, -0.40636317571140335, -0.07648967073856934, 0.3251382431685158, -0.2167965734818411, -0.7149432198823458, -0.3103765785638064, -1.3691401072911453, -2.6770648078570884, -0.016086151016588092, -0.07462614223463393, -0.22277722805944333, 0.8968204460602294, 0.24690708791909752, -0.4537068334098581, -0.23857985642563717, -1.1872277266190694, 0.10939004860837448, 0.19557876657522003, 1.803498641546168, 1.0801118241667251, -1.0187904067978784, 1.1225951634529179, -0.4901498617787733, 0.2656839487495982, 0.36797317737575386, 1.3058492856978239, -1.4518538115089585, -1.2221356921057338, -0.4012014270361759, 0.40223173727815903, -0.0768102494054309, 0.7247833955296789, -0.46186396398803836, 0.3911573835704064, 0.7212680526067837, -1.2890732403299612, -1.5652064508168066, 0.7430383729075626, 2.191724572900854, -0.5872566473401224, 0.3124818572533411, 0.20312229648493518, -1.64762112282362, 0.8363160555638705, -0.7981844805921022, 0.4180084956613057, -0.05193008792350113, -0.2233937785011174, 0.24936023586290904, 0.6384134521624903, 0.057703296696877536, -1.4039113459846702, -0.8239740546146971, -1.1335220727793822, 0.8824628347138025, 1.453958795017985, -0.4372411059825956, 0.5587526724171189, -1.1978145214087874, 1.0447580800901253, 0.44670733931003737, 0.2719251295473918, 1.0822373522681652, -0.6316811499976446, 0.3014637069188927, 1.171446354009383, 0.02047037105236013, -0.5531099542149448, -0.05470043947999702, 0.2057692716394411, 1.6920189824449463, -1.5669663421850326, -1.5429512409349735, -1.3054020546607603, -0.06418689300638024, 1.2242385620125202, -1.0926121656942689, -0.31430369557080096, -0.49411801580067255, -0.6090232446938612, 0.21202194028542565, -1.391323126452826, 0.6569684289321416, -0.295088777184821, 0.7980451916921248, -1.4308250592779688, 0.7747759410659769, 1.1489497218523181, -1.4625615907510074, -0.1293382561842212, 0.5463356367772408, 0.6781293516118437, -1.224852620719565, -0.01362013513519801, -0.6861585717474822, 0.34897582547239514, -1.6553607051927899, 1.740940209886758, 0.05389404178536283, 1.978114601723016, 1.2114550850884338, 1.451473327958377, 0.8695348534320595, -0.25286326771112816, -0.6555670399051655, -0.4321505997640592, -1.45455695917963, 0.014974932548701874, -0.32462756689220296, -0.6181384598925079, 0.5333323074320856, -1.9334483306313408, 0.6725014783814748, -1.2302892739396192, -0.056167203520046186, -0.19561801866962497, -0.34695046201877827, 0.9193118122126851, -0.526357590668423, 0.41471575237983505, -1.12590569772721, -0.5225841018968119, 1.0798853615318815, 1.2913006833877554, 0.6799446636346735, -0.7866734511593791, -0.09321253299353778, 0.09203788424318998, -1.7225735639690158, 0.2634517431341601, 0.8894830762649526, -1.0555414036303827, 1.0632913662595045, 2.305159106107787, -0.20407226260389721, 0.22645806919190561, -0.07719448398152638, -0.8766280436628825, 1.4892756324118708, 0.25085126262053686, 0.9156238944620094, 1.7380406771363925, 0.6599275317127514, -0.7765533096158959, 0.3469683563800651, -0.5916188401763111, 0.3673222133219997, 0.8933606735179971, -0.09046159561469767, 0.5146637103109132, 0.6325986394829074, 1.0510170552572653, 0.7081253043315417, 1.4123542898820243, 0.7769299979872926, 0.1689820203471218, -0.48687114150989463, 0.584492729206818, 0.26227501449198215, 1.7120766811899493, -1.6526362894137114, -0.31483926884952346, 0.41288567748674154, -0.6848085852798755, -0.5332090637548242, 0.17209829560304968, 1.7874457999364028, 0.14468620276326494, -0.7799219168634891, -2.075273760116043, 0.4444015449525892, 0.05644863888783338, 1.1690484740056106, -0.20649835416446383, 0.4765087939385204, -0.5524254546708444, -0.8239193136906791, -0.2001072653672996, 0.9267651970980775, -0.4738041105526, 0.9034491670129045, 1.0726442225368067, 0.3930853795826002, -0.6731833192192431, -0.24453369416524653, -0.6250275429521874, 0.23406534455193398, 1.0375287551226084, 0.4854640058513191, 1.171965153913762, 0.6654140975902023, 0.8977694375050986, 0.43966301653647083, -1.9218665360328415, -1.0295945622141742, -0.03234756149742303, 0.5748196403604787, -0.04274975584359641, -0.22535016486877435, 0.30132738645046414, 0.7760423298931174, 1.0173627823724936, -0.1136206863823444, 0.6887071484836987, -0.7205871014189805, 0.26221200537240086, -1.5636372957128537, -1.172708678378187, 0.3709162755883111, 1.3321929798915433, -0.8116330994426755, -0.5615036388877813, -0.866309282838731, -0.4635183608699387, -0.25925696048941893, -0.9006456086041484, 1.565483768388466, -0.07916179002188944, 0.872272305528523, 0.2137406720312591, 0.09745013916292095, -0.843576327604018, -0.31717330896260554, 0.6679636951442652, -0.5458666276567262, -0.6456579711766501, -0.5883540138398364, -0.797215238721826, 1.7384376352260105, 0.15146693955070395, -0.7790435042265924, -1.3914783872594079, -1.019374336094401, 0.7383164679305628, 1.5350873930332734, 0.5909747420147201, 0.4374308897854137, 0.34753563648612684, 1.461698998726522, -2.2221549729697356, -0.8228547829759092, 0.1619387359588116, -0.49910208011369445, 0.3086824104102977, 0.435488303392056, -0.7037110996769518, 0.598887776098191, -0.6744979920068095, 0.39586933123551316, 0.25632283893398744, 0.6195865174501389, -1.4668228303225852, -1.5576103103778935, 0.637607818931612, -0.2948466610575463, -0.7003039275637127, 1.7923503593357342, 0.49891349470475976, -0.1416065875944549, 0.08445765134023275, -0.9238621934613696, -0.5177317231110713, 0.573036430640156, -0.08713269773534651, 0.2896224842042507, -0.6131873022900611, 1.4328542394166799, 0.6877291085006969, -1.4720066092278703, 0.99402547082911, -0.9162943715064056, 0.6684435389502068, 1.4205942244582854, -0.9988248283522587, 1.0691691286458183, 0.9847743977176273, 0.2177206687105905, -1.4343270904713485, -1.0311731070468637, 0.8756943298143487, -1.1424818795569331, 0.8709091724462594, 0.008555552262127663, 0.9717397767913506, -0.20256002024314987, 0.7964821316458559, -1.4831730289825367, -0.4313106222120559, 0.05247745613639654, 0.5391728880728225, -0.9300281071111662, -0.7345608742899957, -1.6959651856736844, -0.8258764486858589, -0.1640593252258248, 0.6592405947210603, 0.8374414542249299, -0.8607100980426714, -1.3322687228066532, 0.3963708756734389, 2.059793723892603, 0.3292281735870114, 1.2718061626941612, 1.6476153833760692, 0.6015100813307928, 1.2766096039567565, -0.7365522385201841, 0.2355896134653248, 0.01936432633817095, 1.0211523423872226, -1.7649125397242436, 0.018734237737780747, -0.5007780586638387, 0.18708029982683097, 0.16123805689046614, -1.539511792810332, -1.4228417806400129, 1.1169762153229346, 1.236530783657369, -0.028488987758468802, 1.3301136993064937, -1.1183139928021424, 1.3970856744668327, 1.0375538259801025, 2.567484984743201, 1.6264296240259433, 0.127820461428399, 1.0772158073547387, 0.5557286452818142, 2.063045416313728, -2.1643363149593133, -0.47481106297904424, -1.6593523001922166, 0.6053375715991839, -0.5042741510615787, -0.005585054885268469, 0.6068562772770011, -1.5585082202170626, 1.2917675364212853, -0.7720903465345015, -0.6647419258080387, -1.7728695589976213, 0.8070718063071405, 1.0728038434490599, 1.4613158875112127, -0.12692096186266824, -0.7412159807239584, -0.38899410267473483, -1.3069287309426005, 0.13917007836221157, -0.5948032888518519, 0.6792620988215381, 0.1297099357197507, -1.2045521938308519, 0.03783854822722507, -0.7106399733144643, 0.7201356599255327, 0.029801883334043704, -0.30356010669353634, -0.12112546566261169, -0.03781984761109799, -0.5015714740290554, 0.031669303623265, 0.18439276121978576, -0.11561393609615388, -1.479982182565977, 0.484931134713799, -0.4430402143875416, -0.9522310234208294, 1.2141109123682432, 0.7685269779956974, -0.14107890753354807, -1.0259066940607373, -0.3111922518430488, 0.4408360706410238, -1.3083042365732793, 2.0990054347786087, 0.543977632957605, -0.9012756043085131, -0.2724738186027209, 1.9984509620361623, -0.35116018285436373, 0.1590028757569147, 0.6330024517269579, -0.03418871914267126, -1.3965567418521239, -1.785529238195353, 1.4798712375176997, 0.836152279105905, -0.631102826354846, 0.8584142227640327, -0.06180496421919699, 0.03131307783801276, -0.37010825606817743, -2.6713247955169477, 2.0860568569361324, -0.30037072658031255, -0.8833479368803138, -2.0660852393079856, 0.6153314059756667, 1.3257894940780213, 1.0385106554632715, 0.64382637266126, 0.29156850248625427, 1.3349680619912268, -1.3120239142521772, 1.1059132440015391, -0.7911350814815045, 0.11620154428718238, -1.1049445109313663, 0.6560437671927004, 0.009509211058300736, -0.7648464464953013, -1.062729493367198, 0.005497430237299957, -0.17585964613796248, 0.1557456839984426, 1.3116453680336464, 0.07866731240058755, -0.854694395951886, 0.1941010796368438, -1.3593510234638473, 0.30887289007705904, -0.9411235308612648, 0.5546331727416236, 2.1367159913351883, -1.0603043585358733, 1.0692421156654695, -0.6419745828024639, -0.629341797186302, -0.7669642693383555, -0.4925108496188801, 1.3342717524493548, 0.530573676960812, -0.18749361592411992, -0.8490578832299995, -0.36386350696776143, 0.6508632506731947, 0.5348042255609052, -0.42607063213415103, -0.7725058252886479, -0.21855332264128027, -0.9804048448331808, -0.8909839369377403, 0.08518005664473166, -1.8337223818438635, -0.4984246955760955, -0.9845947045509826, 0.10743550832724012, 1.6844373825185592, 0.1546839615392217, -0.9449553556142752, 0.15937879756242213, -1.4097660916338108, -1.037693499732417, -0.13185439903245974, 0.5045059525992956, -0.22080359976015762, 0.5917222501236813, -1.530859695412313, 1.3678012737101652, 0.07289040447237598, 0.17557995442480182, -1.5582694562745787, -0.6545088657312808, -0.9193137164043531, -1.032192794090053, -1.5981260112418865, -1.0505445397839128, 0.935494492966463, 0.5476388109356902, -0.8501095965917537, -1.2432229349049562, -1.147823271774556, 0.36335707082717716, -0.6162940027270366, 0.1017431268246982, 2.472715709633194, -1.3865094605931922, -0.7989901565341088, 1.140981259792004, 1.3818279047484028, -1.3588785343557341, 0.7510657078618738, 0.4022487164099871, 0.2511853048866822, 2.0181303029414486, 0.05316626194033907, -0.11631422504386309, -1.201611553381757, -0.18766590316211415, 0.6108382875935107, -0.419621769686205, -1.3712650573934884, -0.19990081197103785, -0.8329254442838876, -2.2566459514256634, -0.30037825444037125, 2.649872747757397, -1.6878252890323535, -0.2720324949177079, -0.7267944115971734, -1.4791972513679614, 0.7641553160743668, 0.9910020485653607, 0.5435397581715592, 0.27551014454297557, -2.5116339243397254, -0.38997085801560505, 0.7637181009310149, -0.6865787935880963, -0.7923098533445075, -1.225490835029498, 0.62809725247352, 0.7550447798338822, -0.4551806949228528, -0.42525584430465513, -0.1375768234675191, -0.932417240868142, -0.6599858671484442, -1.6660791631947733, 1.218327739612982, 1.3067212850634111, -0.6569929661260218, 0.3175780181811917, -0.4017919226790401, -0.8655899515872094, 0.6170440768090314, -1.5783000497781836, 1.4872673538697072, 0.3984995138290723, -0.2648262351136011, 1.503446095085238, 0.2355541114729727, -0.9045607314979527, 0.8451651918712756, 0.09139526110710829, 0.05109343447553239, 0.5549308359012473, 1.636397458416414, 0.5681310771388025, -0.12479928187090619, -0.17175537801118496, -0.9127327985871632, 0.31554875989727227, 0.530733906929455, -0.6041116960884473, 0.8886904125478605, 0.47249004913418935, 0.06488477613692167, -1.203356755020453, -1.7392863822268716, 0.22662951412385754, -0.7818046991755284, -0.6414621925127749, -0.7316278996943235, -0.3526864018677941, 0.036294328834061855, 0.6520631289834912, -0.8367783900282881, 2.396333980772559, -0.2003968604651642, -1.2410466287937447, 0.690445025920608, -0.5446022567419084, -0.7086203650607886, 0.6985085841614522, 1.2775688325565613, 0.6399168211077941, 0.3461406479706753, 1.509530285371549, -0.3242616929410834, -0.2791175584513613, -1.710563499030243, 0.0066342042083705095, 0.48905639044717636, -0.9430513018965465, -0.3166230376583445, 0.24154078646359725, 0.42072480905162146, -0.11484867427210604, -0.6976748211051587, 1.2379637238112395, 0.8235661116082981, -1.2329619105932608, 0.03582471926915327, -1.1396884303131658, -0.07688574572544232, -1.5031402539945746, 1.175134706787263, 0.4497538568762124, 0.0627225142910891, 0.3848280861570841, 0.15382235888665585, -0.5877964171098733, 1.5308387759991027, 1.7406321499900872, -1.050981874681986, -0.023351604700294366, 0.20361587412569537, 0.9370560960924328, 0.18687882465744507, 1.5555080741381868, -0.5195796088884607, 1.3282456815060655, -0.12160774262697675, 0.04078922800907346, 0.10794333087648499, 0.8297971122022587, 0.7942093810881716, -0.39893973792052145, -0.4396885629190877, 0.33303988127352047, 0.21555939404533697, -0.8285840088889077, -0.8821714494750149, -0.1807052854036175, 0.8224104405628084, 0.6452288653143485, -1.5319343623384534, 1.718628411670053, -1.2610081845268828, 0.12489576194507017, -1.023740695100012, -0.8723651363295625, -0.9218696563254342, 0.5750956599333125, -0.6830300335347754, 0.12688421717525988, -0.04432532698464561, 0.9985218056866075, 0.9791964594906076, 0.030626014912697598, -1.066508833763637, -0.3901874456201545, 0.8909823877776084, -1.5969576551462485, 0.9581491718872963, 0.15618061629312213, 0.067063607481348, -0.2852834891266468, 2.3547812949761067, 0.5975227068009433, -0.41311888438471506, 1.1863430616975283, 0.9680900387242394, 2.3246855167760954, 0.5813199503853912, 0.504350663856309, -1.3056709769309731, 0.9763392866367459, -0.5987202172988222, -0.9652224444843754, 0.8163191556908045, -0.8243283385032462, 0.8904946261204558, 2.0137735764239877, 0.6903343014975882, -0.8329569296069862, 0.6294627579140963, 0.38130106581287115, 1.1394921800737965, 0.9898943305232405, 0.1352400714839484, -0.8950991081164346, 0.332336814661399, -1.2075505236015123, 0.2997386729256351, -0.6106065117209862, 0.8642906257951231, 1.898834879304206, 0.807885167163501, -0.11185813938484337, -0.0010436256233448983, -2.6677041070835443, 0.3997920907905377, -0.38295625104900427, -0.06165986405418523, -0.39898193750718636, 1.7304675268189054, 0.4677122773499833, 0.06503299229225976, 0.3780407515264933, 1.0611776686223275, -0.8132081521115879, 0.8543095324859231, 2.286443448010558, -0.32706036524063414, -0.32892316640667874, 2.0839795359161126, 0.04336240267953749, 0.9615439482843083, 1.4430638677915602, -0.4332156259258042, 0.7537184753661214, -0.49184455311479564, -0.3912775987090929, 0.5277446901870859, 1.1743149420861785, 0.1554784136293496, -0.04631228247057074, -0.7434168510695516, -0.01750248165666555, -1.045625886565865, -1.1833314071395644, -1.4989440407902863, -0.11171513855446284, -0.23907321178977683, 1.3510183431116307, -0.4565871591608822, -0.015535803075968782, 0.09963402089565954, -1.622200043935503, 0.15487582877148276, -0.18773901139608373, -0.07423013682551342, -0.28293203720255117, -1.0251935025743335, 0.17583797003760382, 1.0017751325236914, 1.6663090666454679, 1.2235403944303342, -1.5707855770005625, 0.42465622153537413, -0.6565990011915896, -0.5981213237257273, -2.0866978641621756, 0.6710662297347482, -1.3437094840148196, 0.02171311028149263, -0.1151960315544549, 0.19748454459507808, 0.20269583848547565, 0.4749710231221646, 0.90537123237375, 0.12194414675300566, -2.04719644065138, 0.3339517365647721, 0.30364717393061125, 0.01164805954567454, -0.7832921102180559, 0.8518071501084761, -0.5192995199751624, -0.4707372617116565, 0.05005191150558266, -0.6793861349455693, -1.2287849608631545, 1.673431559378705, -0.4863513758212506, -0.24514380583336873, -0.09343332044485919, -0.3132698763133495, -0.7923300724981703, -0.2601586342809585, -0.3869741799359447, -0.109771483936019, 0.5120434792467773, 0.30193418502633473, 0.4789006832455896, -1.9846913177350125, 0.5896576538369482, 1.3930165596973572, 2.007975316912104, -0.9170486201376291, 0.7167445021748229, -0.4022553223260781, 0.8416602725971963, -0.17066575214525512, 0.6892220229700792, 1.844114581882009, -1.330151315226114, 1.826662265626912, -0.31254623050811825, -0.481356312470111, -0.8483307130752782, 0.6839005956715569, 1.5478138858715564, -1.371387483918561, 0.5658356100069047, -0.087095159592001, 0.8180023030549252, -0.8943737236024264, 0.677266311195886, -1.0361761904687907, 0.17994622363632612, -0.8501749089492141, 0.5625435478034317, 0.4139733573840583, -0.3675962928414392, 1.2153720184297945, 0.18118761104267153, 0.06095466042953801, 1.56201582878784, -0.4911644175485879, 1.9285025162780245, -1.734809827963326, 0.8917977752720758, -0.7730969436890255, 0.19342332511973426, -0.7191544130006118, -1.4726786671959926, -0.5622757055614458, 1.3090471174396514, -0.9073795460975087, 0.38157405285170976, 0.8509360959648377, 0.5764587161148539, -0.4877455251773178, -0.8434926213705488, 0.7225574074798946, 1.1919363540561267, -0.70209461879304, -1.3224453148473923, -2.104802358515376, 0.1969599277313264, -0.42008445298620384, -1.3125210104718719, -1.3153588468097628, -0.8867476709023812, -0.04305690353115889, 0.29549606655509175, 1.047957863050439, 1.4009585766114483, 0.9430282516720642, -0.43455603186990316, 0.6522696780941695, -0.8178337305248432, -0.7117664745424382, -1.0026513444664986, 0.06825111964724973, 1.4964197336326797, -0.5502735592197604, -0.1673900364869101, -2.6447477722021198, 0.9728648194581088, -0.4132372657359804, -1.704032364696368, 1.520046576846497, -0.5086953379505466, -0.9887407794712535, -0.039843962877776355, 0.9291642554024763, 0.3251541986356067, 0.40156562161073683, 0.5929233765066552, 0.8333961642041268, 0.41366502056895077, -0.9306276243702107, 1.5147706082355836, -0.2343970732052145, -0.7016971471333404, -0.27340110524322936, 0.38329834783909705, -0.9277340599881506, 1.2208791904575171, -1.4750007466974957, -0.2556510196663685, 0.8567181045250479, 0.7676372270729922, -0.03348586369051526, -1.2591076777660708, 1.041041007453767, 1.1186737788985905, 0.22728145608650505, 0.3632597884945972, -0.3555596140375763, 0.023871595790369335, 1.321503580332842, -0.5438002651596207, 0.10589186891954076, -1.7272559617542165, -0.4990368386340819, -0.7326560399208313, 1.090043751943724, -0.8971939880244914, 0.852435788355456, -2.4400849562389033, 0.6031414349327783, -0.8326295713873925, -1.2189943305226223, 0.05325026570887327, -1.6184018507096765, 0.1403659501280458, 0.596608837004174, -1.2430331220405184, 0.0311583552208081, 0.3097457070745191, -0.9575602891875548, -0.3867844938952332, -0.2870763992197655, -0.13574866627103116, 0.3482551193756419, 0.7411621299001253, -0.5145373145755522, -1.7253377499581066, -0.10854617385134156, -1.961997871464113, -0.7198581672816142, -0.3589290785793427, 0.003082106102554853, 0.25706955940424125, -1.3521384366537883, 1.0086403264494288, -0.3737172749600663, 0.5898063543002713, -0.12479476669386873, 0.38742577110338716, 0.6180926063209964, 0.7050797720627504, -1.0543062822540168, 0.7345674857671587, 0.19342739936345046, 0.7618426929908425, 0.7893119875054592, -1.0889708316463118, -0.23721408408351166, -1.1942630356923578, 0.2418346692310636, 0.6537634642637616, -0.28183557637641193, 0.4023708315919107, 1.6438881744266607, -0.9578147732349911, 0.28503408085475845, -0.9560918442846303, 1.0404362777963123, -0.3731661284184229, -0.501613338894994, 0.04989840758272603, -0.6819386544991382, -1.8801263459128814, 0.04733828005649038, -1.203544038858995, -1.2366368523271285, 0.5399589307880149, -0.010309489922186712, 1.1608260397257208, -1.4617749285813597, -0.09116095034060955, -0.6003291424284443, 0.09225566780300451, 1.0061584759937279, -1.1989167901174198, 0.8615546755236707, -0.41895982375850666, 0.7612193913064439, -0.3066672651631925, -1.0161869166777409, -0.25320282799676785, -0.23161999974517947, -0.6541242032628004, -0.8097608207280296, -0.43085311716773594, -0.06700681957465524, 1.7120107046315343, 0.3982191035418669, 2.294860619457511, -1.0891720751036318, 0.36739833071992795, 1.0025213842362786, -0.8482036351661185, -0.06652881664376499, 0.21587361216815135, 0.6357651876171885, -0.4905463747244246, 1.3253228469849034, -0.924317598765113, 1.0275649113304408, 0.6020294878839, 0.6582456884121025, -0.2015353419782652, -0.5208747256226874, 1.164594989927189, 0.23726838756369045, -0.638338615801471, -0.37903873902834806, 0.8381009282380215, 0.3814497569803114, -2.1687275661033873, -1.1630992640692763, 0.21534022027657398, -1.0436815455430404, -0.5177232889596689, -0.4335863589106857, -0.8148248887643595, -0.6402834283719541, -1.5009455966491894, 0.4239653581158256, 1.3160900581837967, -0.7297670330238856, 1.0253090490126506, -1.1093158060406325, -0.5154793857126533, 0.6426438181238526, 1.4822612632048733, -1.0381096703833934, 0.5255294775741745, -1.3247743527218858, 1.2677922941297624, 0.29743865071747844, -1.199794277641226, -1.6750345182789947, -0.09717280090412958, 0.030678810486087837, 0.2359410185451546, 0.8209073822531237, -1.9989838830297832, 0.06039452755801847, -1.2737460787519375, 2.2726854050176613, -1.9329156808156966, -0.9735864490266354, 0.7155179197823783, 0.938857675567384, 0.7720599865369597, -0.6330457434089715, -0.5510243368771814, -1.5117519603694054, 2.6441689454079444, 0.8877301477695285, 0.545995740225358, -1.262474927314692, -0.7301060128864348, 1.09405954144551, 0.2184905023768836, 1.4375824720523869, -1.4525324811312652, -0.2667272096143978, 0.8714556318333277, 0.0625003163641827, -0.28316037551778606, 1.9535734122180943, 0.6840830861169572, 0.6919026619258624, 1.9050181673008213, -0.3626634828513004, 1.155816243658224, -1.633308365156059, -0.7194651842984109, -0.5155272657533448, 0.2685787409464431, 0.3764091568457041, -2.637136697025758, -1.7949917191673617, 1.1246488445115306, -1.1101891518900413, 0.8715694792180553, 0.2680710521565624, -0.2547983890088583, -1.3086516582501948, 1.6480082801531046, 1.3065915548627356, -0.5394463462437208, 0.7802894323113692, -1.1257689046354193, -0.8021959787800936, 1.8628844407277587, 0.8489683093012221, 0.38849186977306543, 0.3139794750962412, 0.7665358847966757, -1.0417573976170578, -0.5793649343619077, -1.368037440457174, 1.475367636563421, -0.5082732608064439, 1.2764536640592985, 0.9317584826883992, 0.5200574284268134, -1.1622152074506444, -0.04845290160247767, 1.1920203533315685, 0.6385225348433936, 0.09159260572204843, 0.22227146348614854, -0.5252254897829333, 0.3612248940688295, 1.2462238002096893, 0.7373198037453543, 0.762727998713561, 0.43909482659526505, 1.1396602697028089, 0.6275199216674895, -0.01747654435624804, 0.3442447264758144, 0.7196912407652672, -0.005669873097540104, -0.3571708945757009, -0.027009629240086003, -0.4522587126569095, 0.5166534029283003, -0.47249081738463056, 2.4493097605217318, 1.3176609793070324, -0.964040653554685, -0.043321354971018945, -1.1813275758056503, -0.4489554462342603, 1.3222864224646798, 0.3022314159132373, -0.42765096551691, -0.2690796691062445, 0.10221316633401913, 0.12449720298352684, 0.10309148217276388, 1.2449336119824361, -0.0663646214546922, -0.6837034924303035, -0.06972688514462781, -0.6880958138234425, -0.026511059865241538, 1.0116968976244327, -0.878325591390732, -1.130020870470141, 1.1787502586459302, 1.5760928544674007, 0.6495029051988009, 0.4617367904769609, 0.6129525208560519, 0.7319355219658894, -0.5281846534219543, -0.1402788072111497, -0.6284146945332305, -0.29374090727825336, 0.17663542037901703, -0.4345722054059705, -0.15939362290234432, -1.1164594737289104, 0.7825773099903708, -2.41005852945127, -0.45617116662740853, -0.022692755903511944, 1.830873716885507, -0.132850178617177, -0.3929105742165419, -0.8113728705783374, -1.803481574797923, -1.880964834201023, -2.05202855936278, 0.4728103234788098, 0.9835579506876668, 0.2949588997826226, 0.6656243212867424, -1.1226378191547306, 0.23235055052886114, 1.1620315780434418, 0.07118784553616435, 0.26089227201204424, 0.5913638153834907, -0.3012087624575813, 0.3791547167664641, 0.23265381813643077, 0.9348559395644512, 1.5495330378255725, -2.317118900393284, 2.628731383699513, 1.646937681073378, 0.453299266947831, -0.5442799262110843, -3.188506838570577, -2.2792948324706774, -1.3860532283313687, -0.9719239955743009, 1.5612378019376822, -1.773377241222728, 0.2511498596646356, -0.2841272450192137, 0.1286978824522246, -1.1485804314544545, 1.0540200507828157, -0.31490074800885975, 0.28482742824548923, -0.34401504241221303, 0.3256238601824308, -0.3041277163677396, -1.4855902259240337, 0.7558480843170221, -0.883277041691739, 1.9060225051564852, -1.6744637695856917, 0.486124331673259, 0.25391977255571674, -2.442039762692005, -0.4143740793708186, -0.22744084997583777, 0.855407356329243, 1.0451286157711321, -0.786272532526753, 0.6564990107849679, 1.1486674800089485, 1.104603565796508, 1.1143243801488711, 0.10512151310462088, 0.3872236385718754, -1.8123855198999834, 2.302857028677276, -0.5992819673287615, 0.9211223947740901, 0.297463332032338, -0.6749231133679495, 0.5744317046667248, -0.6080182522791973, -0.33413808800807965, -1.209230943394465, 0.15566171343424454, 0.24826571267362044, 0.4766606994481232, 0.15067568298057624, 0.3220887852723688, 1.5120978434504697, 1.8056136975100565, -0.8195213865390284, 1.9747064296999508, 0.22401958294675386, 0.8035384681646816, 0.27204102221005183, 1.9442430143117555, 0.5742490463554072, -0.5881531273529248, -0.49077939427772177, 0.8120966118971567, 0.1749230937476004, 0.46156869731131106, 0.7933077262933073, -0.9100876805366113, 0.08046121938568124, -0.9817398618230172, -0.3511256850294428, -1.3958162124617215, 0.810452148686842, -1.3417702965301892, -1.6476755301086927, -0.5878193622588472, 1.3811253823341245, -0.344444763521117, -0.5516113359849586, 0.014518589719462658, 0.18480100520237608, -1.3252363152048394, -0.8394436763736597, 0.8377937806467869, 0.3451792528317049, 0.36239282713482834, -0.25494578881901014, -0.2883078479695717, -1.2285614638826008, -0.226902133141804, 1.4825169836581744, -0.6651475303760647, 1.4396812311779017, 0.9542099784862246, 0.6189672936697868, -0.48823587730476375, -1.8673961891070356, -0.1070976023131312, 1.1343271148601874, -1.2543513294157342, -0.20027420007199956, -0.09932523696039369, -0.7153494045743232, 0.2127577536876395, -1.6878266535656992, -1.2526079704507194, -0.7600668683710112, -0.2153090537213048, 0.057655123595697993, 1.427298252328612, -0.7705416707868736, -0.18816092599922568, 0.16052407650502962, 0.7142092521808363, 0.6804823150604932, -0.7096600209705644, 0.32993593540727906, -2.1862794056211317, -0.517535842374246, -0.5875431564322126, 0.39461912691388285, -1.1769057431941008, 1.6599545186826261, 0.5770311741620724, 0.7480081563096457, -1.0690104171628938, 1.8651867935457354, -1.8082050260461526, -0.25409219938677247, -1.3672980469601324, -0.6227622521599337, -0.09827976352114702, -0.15995658674934132, -0.6551705160335489, -0.6174550127876736, 1.0041954946032179, -0.3019637205535007, 0.10699219745357573, 0.9546676783755395, 0.19054007678597618, 0.9541359146489509, 0.5709651360685912, -1.4601237920841958, 1.2192930679348388, -0.04468199869299641, 0.505040550697303, -0.46109970148135293, 0.40384300495751796, -1.3275086338990258, 1.7772877455238068, 0.5843465998629579, -0.07996565120675173, -1.0975871638679593, -0.6952859409242422, -0.7398091973032469, 0.273904675335852, -0.581146301541412, 1.3389513229871735, 0.9606540916438169, 0.17429476718713768, -1.7744653820158682, 0.5544868820655047, 1.9725556445049084, 0.34447819760632636, -1.4312921563837426, -0.11045265978303107, -0.49071570705146006, 1.2270960422003745, -0.004403248960105754, -0.7356357476426568, 0.02139035269111325, -0.43633178625836494, 1.2168970040234346, -0.9589323510805737, 1.1890574887404963, 0.11893438204048995, -0.7887824107760444, -0.616219149640177, -0.1105758548916553, -0.08446666939435898, 0.11321540442672214, 1.2140728827512355, 0.7369757264866256, 1.008496527099591, 0.8426912999850806, 1.0926158257732088, -0.43551961669710154, -0.32239972034206726, 0.5799967059640557, -0.3226720778897093, 0.8739377979613996, 2.06282297965412, 0.6010632988300422, 0.33781888353047557, 0.5987540103865185, 1.1985495778034305, 1.2480886467337056, -0.08478408362040628, 0.27047967101479214, -1.2068165189224551, -0.04399838441069351, 0.9572020187858884, 0.13117741417625103, -1.0833378034280554, -0.9728751884255386, -0.48761169695008316, 0.22163984523237035, 0.5130977809282816, -0.05648851772558571, -0.7725407307975601, 0.05144690009942596, -0.29691766200236813, -0.6734037560536827, 0.06502396299675409, -0.6561962659015967, 1.3161000027381515, 2.897561562124881, 1.2661769083725105, -0.8307842877171336, -1.043891324793724, 0.429790923022631, -0.06743796524595423, -1.5627380086160314, 0.13353956251669316, -0.36730317574215304, 0.8953567943981537, -1.3498032048268962, 0.45773221183839535, 0.45997771232381957, 0.41101760655985725, -0.5360247587662511, -0.16555301410800596, 0.6135065134198475, -1.0355329358664378, -1.490221898128234, 0.009450205949502402, -0.015275981753947745, 1.7091804995109598, 0.6462952889538793, 1.5190372585695204, -1.2652958353721817, -0.8182015382573905, 0.7032317405379702, 0.5885390591283602, -1.4433119813408446, 0.03003631530371396, -0.5697625313809574, 1.8702075328031693, 0.2344621709531722, 0.45710249623191834, 0.71035691955148, -1.7806177886610008, 1.1393821713341168, -0.27082671708332756, 0.08192981811640085, 1.662684468964099, -0.26077497498175245, 1.7224209029214925, 0.6215960822607965, 1.2511593790580693, 0.6371858706068181, 0.7586151506118984, 0.37269406859856696, 0.45952607180643595, -1.3743576414142948, -0.18503239137883346, 0.7387467471654507, 0.08522124415842773, -0.10716299353214682, 0.035458476994443246, -1.3415163794837293, -1.1225069835795318, -0.3733143134209421, 1.3246478393561307, -0.6097930540263603, 0.10726628815767578, 2.1015665253045044, -0.3603625295353087, 0.5219468029830344, -0.344469773763228, 0.044784847733897466, -0.1404716608192276, 1.0927025162744726, 0.3585438020985862, -1.0179211539315218, -1.0806729372035104, -0.42010509541949925, 0.009842530611920811, 0.07511175720520522, -1.0181965427489221, 2.7875437501089935, 0.9909639843459729, 2.411771144071421, 0.40149492846792867, 0.045568449657749824, 0.009380261640934936, -0.0163831988280757, 1.3584452874760429, -1.7188083625784107, -0.8915030377000406, 0.0381987870325614, -0.27589808928146753, -0.11921980586159514, 0.6405636423121538, -0.7043125525302979, 1.8470693952120592, 0.012108512903427715, -0.6123628939609503, -1.0208410967953165, -1.6014966036910185, 0.9249192408579138, 1.6998003232361387, 0.7165423127471905, 1.8720025765178692, -0.4506494933952218, 0.792328818532449, 0.4437778500815398, 0.17450046583048034, -1.6224323269500076, -0.5610683985840424, 0.5237168415605727, 0.24421308630070282, -1.281787310081356, 0.09334557321697963, -0.4610325391814432, -0.3055907638952281, -0.08520050538119057, -0.1340782108301485, 0.6401106664204136, 1.0476211076647473, -0.045004204382965686, 1.1060655968431536, 0.5604915987618685, -0.0859399832465599, 0.24029511729467531, 1.7063560205852186, 1.6436457490817489, 1.3203353586145692, -1.1316080754866147, 0.9221141759765097, 0.43472292111716954, 0.14210173156688685, -1.5825526021093885, 1.7645044237718448, 0.1762180287345975, 0.022738111609904372, -0.002412180063919952, 1.0463755985904166, 0.32994660614078714, 0.9351595586741426, 0.841474152560634, 0.30201722447297796, 0.07995461913859858, -0.246572051058264, -0.6403411786555389, -0.5840427804350806, -0.4231596898219164, -0.3261019450619923, 0.17088167305289007, -0.3304262132039849, -0.18013405539161179, -3.351334474009695, -1.4361984489410813, 0.37031792538706515, -0.4707434363555407, 0.0629218164577305, 2.369777819046618, 0.49866958999941785, -1.7947503654098205, -0.010835602133330131, -0.1653461289161182, -0.42702901669445675, 1.0354010240605869, 0.35827322402654366, 1.5663719003176317, 1.932532734964487, 0.393528291092378, -0.10096947389029574, -1.0147391540384738, 0.22920025130139685, -0.9253174147170826, 0.046905728508789206, 0.24382155617223578, 2.7827946198294162, 0.09152147132399603, -0.2404856953329225, 0.8409182333352302, 0.8884992076652605, -0.24823012804657943, 0.09192380544072762, -0.7343125812573446, -0.30683351960981736, -0.7164350947849283, 0.902161810142638, -2.68562296596416, -0.7293736938170676, -0.8973513198263684, -0.20018645486931283, -3.2337704064048483, -0.6194774244690715, 0.27489268770131636, -0.9921908530453484, 0.48743486189617413, 1.2138542173939857, 0.3783436415662318, 0.10755363563652497, 1.6288345659349315, 0.9630767427878165, 0.49045495763226515, -0.2797850699335471, -0.07835880787364805, 0.0977385751398506, -0.8712369271424693, 0.06998776423117228, 1.4823324144280905, 0.019135003792538522, 0.08701066422931945, 0.7768239930727732, 0.46879746311483245, -1.8823170137442167, -0.11381062409567014, 0.8415788428400774, -0.9280181436970294, 0.9081632461011825, -0.32688724035849964, 0.4755506130213932, 0.6118814017713378, -0.09188665365302519, 2.1168225665683376, -1.7432202720632142, -0.28116200914387895, 0.12647770248485138, 0.9268206211866648, -0.9040642855740537, 1.1529223074204287, -2.758697903432917, -0.4910930958950616, 0.9207879146456345, -1.0405287920439783, 0.30072903896091174, -0.7135006663488784, -0.030845053628165767, -0.23228583572170058, -0.6965031967197621, 0.34471813720860806, 1.5643195658892222, 1.1857707735091827, -1.1581337480651734, 0.826172531553073, -2.2965045885783546, 0.1257486974666374, -0.5640764640641208, 0.046677470929910814, 0.15584127549386204, 0.6193517189241893, 1.364500580479829, 0.11314298290723712, 2.6653047327237247, 0.5429422133724374, -1.899497095120615, -1.0949948903518687, -1.6502721482327138, -0.864453117435334, 0.28321496316743056, -1.2819718640477256, 1.0946785589526336, -1.096614648940894, -0.6281455627177155, -0.493300180517223, -0.3566905438060232, 0.026125088379831164, 0.6160368050297297, -0.16839367714146183, -0.013928427039547877, -0.6427467639248403, 0.15019543840666585, 1.1547778939906275, -1.506217664124841, -0.38045585485535943, -1.6618245060377432, 1.626131588467145, -2.1495370811420047, -0.036239183453842874, 1.4629423210083494, 1.2107342251282067, 1.3487577571641967, -0.6913413685620138, 0.15919518266191288, 0.4687540528084342, 0.4731620308038917, -2.080518443166752, -1.4841951285841417, -0.5673362658928673, 0.7625557223540701, -3.2812782687089888, 0.6378766693638672, 1.026548222163283, -0.5211463400858818, -0.610012830684482, 0.8075247109343954, -0.8344304093187994, -0.3787874161277316, 0.20667178299354638, -0.3400654440283426, -0.21435786927546235, 0.021339080966979375, -0.08061166574086087, 1.373640429744066, -0.09212626118884855, 1.1235727161045728, 0.22998496837720253, -0.1963715577834014, 0.785459293267941, -1.5118198176115816, -0.34392506322021743, 0.008004241864665564, -1.2256583365868488, 0.11505329237797049, -1.096554579923196, 0.35118625506335344, 0.9951255394295254, -0.40599876138113206, -0.662707350120361, -2.3759541518046294, -1.7953669792927467, 0.7565761004838769, -0.2210741803056412, 0.5075734772659523, -1.2327400165558526, 1.2631741883174294, -2.1578251721302215, 0.5844979640949649, -0.722555138435619, -2.042394105265425, 0.29153092350304727, -0.6525809735291669, 0.6475251404887197, -0.7147324993036722, -0.5330486645881947, -0.4306403591010666, -1.0269811455298614, -1.751713365295585, 0.09681651232403597, 0.998202020421889, -0.47806672662744437, -0.2965660288493956, -0.2641603358453885, -0.3470187826621575, 1.2183849563532447, -0.20168520021988146, 1.5146530000152645, 0.03414486269827585, -1.6244979217296966, 0.8944516826219683, -1.6991292378110319, 1.0972573818956441, -0.042718781268790834, 0.17418225809317792, 0.8149254473139064, 1.6478453530448463, 0.09387123749787792, -0.43081394494115227, -0.42652284535331336, -0.9131117736143646, 0.6347413596008972, 0.3899833153010867, -0.10999060060894565, -0.7168081583120949, 1.181120745636985, -1.7325555270493844, -0.16860705922489563, 1.0120048961981707, 1.3895888578949964, 1.1680156236582109, -1.1670791914135685, 1.191466117392609, 1.2753404720064345, 1.079925401879006, 0.8039613593540652, 8.787878257627452e-05, 1.3956743918336232, 0.23341148445351687, 0.44540729383473915, 1.5979361959551792, -0.5080073693189985, 1.0564363196549296, 0.0522500005853103, 2.1632969649491263, 1.1136480541663947, 1.588028875348358, -0.005579257057127591, -1.369822954783542, -0.5429427402409264, -0.6592594292458588, -0.07254706752301632, -1.3420427076593517, 0.49191275789433986, -2.2932176084451315, -0.18864822996363279, -0.21928463945416762, -1.343460376846292, 0.25971631303777765, -0.7533384597091447, -0.8064466800038353, 0.6573184176424104, 0.6130096689816568, 0.7115038702470303, 0.6407353184223942, 1.932321015561981, 0.6560375050669686, -0.947006943135616, -0.6429790129247539, -1.873281338956976, -0.6183687690701261, -1.6692747140522282, -1.3021595887521307, 0.010042205831757032, 1.5992854999227013, -0.6347692098464586, 0.5140611568925793, 0.3524213176107016, -1.4122978005902607, 0.7154967498519885, -0.9582043623317966, 0.08163464190770095, 0.24183466588960895, -1.0965634206545993, 1.6424975191017106, -0.9273181448296505, 0.5990452802908116, 0.07467796221920225, 1.0922909941704604, -0.10357095867759794, 1.2255669961725248, -1.9489863494468842, -0.767120551537743, -1.079028384581565, 0.9795456898995176, 0.5430504757153151, -0.38381558363033946, -1.6780534565611123, 1.1100012635997778, 0.476642310610739, -0.27046340264506735, -1.5784054015443494, -0.46334572197302454, -0.3909448718146126, 1.0701757935858307, 0.9263590823945406, -1.9026724759660623, 0.31614556958164514, 0.2476932260435579, 1.2751345766288025, 0.35634901432749055, -1.056889029013233, -0.06370393066494281, -1.6408154846885115, -1.5677775382904044, -0.295205678819981, 0.5204444158734977, 1.1346472126392697, -0.7278552932301324, -1.0843867534852052, -1.5626101022408183, 1.802903539692061, 1.6398372697913346, 0.504406783194504, -0.755839742294431, 1.0378586660669407, -0.1625762181353104, -0.17870718342201122, -0.8966921237601242, 0.3158428107423615, -0.7349799898860447, 0.35739298402509145, -0.06307156713465098, 0.08774468497257662, 0.7960714759989268, -1.6236377387953, -0.6543062071588949, 1.0929556068644437, -0.33845714297264967, 0.7773182150870033, 1.6577372063468208, -2.0856722579244122, 1.0876427921276812, 0.43675027574428, 0.038190826741038165, 1.9676719522356696, 2.7049537212370725, 0.08396585883476404, -0.2256845887050077, -0.9258230220638318, 0.7065796333565686, 1.084166031709288, -0.08914457006352987, -0.25712528009188257, 0.554766092657024, 0.5211537673007627, 0.4260425951664091, -0.2678100019893881, 0.06589415193553787, -1.2585240838269303, 0.2606025371626775, -1.4161787962344736, -1.1262712419432286, -0.9136041690056167, 0.8730161166767973, 1.2817585954277266, -0.10044750578068104, -0.1014504801686545, 0.16031135372071884, -0.2181557430946499, 0.0052264373677801835, 0.3735853728657025, 1.4611609761080102, -1.1061588509388514, -0.20227201983524307, -0.11353423347984277, 1.704632506308701, 0.6485667600276587, 1.504206411957323, -0.5282350125638668, 0.23878007187849187, 0.06846460785894547, 0.13784758202573474, 0.5671896097981096, -0.524579882790505, 1.516384268307682, 0.42068587138040614, 0.31985978967613504, 0.15724009030677874, 0.9017280043795745, 0.5352554318872924, 0.556803890176783, -1.8181216925089174, 0.10378924692063092, 0.7785805401966763, 0.672388849867806, 0.8239373400542427, 1.727333080437618, -1.236816330593337, 0.9742656587679979, -1.0214500033988556, -0.24829764133818524, 0.2964877483358764, 0.29240076882275934, -1.2947893055620192, 0.09930888948065034, 1.7182793100765457, -0.95895549154086, -0.7472938161868911, -1.581991956958045, 0.5946348036181727, -0.7294585056578036, -0.4567058313470492, 0.5316507019509422, 1.134657567390688, 0.8760667487719371, -0.41913258174128776, 0.9103205913685437, 0.07851697899733368, -0.018022865849401815, 0.22715277319877458, 0.6638738057897383, 1.3463916214646405, 0.8293978044181401, -0.2774466546668942, 1.631735213608932, 0.16900280234704915, -0.9519030944938017, -0.5193308689716629, 2.071345684589061, -1.043957872815279, -0.6030509107401666, 1.4873369534510024, 1.4103354803830948, -0.3918743878145372, -1.2427301994020163, -1.4803478504475756, 1.3789467168858507, -1.2883143759113143, 0.7285694482443654, -1.9345193151326034, 0.45252475227814937, -1.7380458325756485, 0.05748759102830466, 0.440086592882989, -0.37110196510064847, -0.7056678463888708, 0.07374357796161657, -2.0428161537249943, 0.7296431697808846, 0.3097025955565179, 0.720321167285935, 1.0178731941567534, 0.051921989109538415, -1.4225545208481867, 0.38737574011217213, 1.5375607598457561, 0.14581665858480353, -1.1476033699979524, 0.31257031580666833, -0.15801081970662137, -0.6653704455118082, -1.921726146282075, -0.9818090700782461, -0.5438007889359715, -0.3439532900586726, -1.5782857823186691, -0.2814032493114647, -2.056721617333466, -1.7378991697891735, -0.9281350067780781, 1.0153928832446257, 1.2332790764939223, 3.242497748602716, -1.1177964089788175, -0.567193493899458, -0.07574389039428515, 0.18901213211536924, 0.1722128114126573, 0.028864575355124784, -2.2400727822997664, -1.0418686611995998, 1.3431110652155593, -0.3462344442836912, 0.4005422876634569, -0.9928809038806728, 1.229539585390418, -0.15546395988974335, 1.967593695532646, 1.182348445666581, -0.5872770424991042, -0.3583996838808713, -0.2830584894543534, 0.9510862368545139, -1.8313469178470347, 0.26796922346287605, -2.145504576795146, -0.3583383971597519, -0.44400306202098516, -0.50404210620563, 0.2880025499205287, -0.3734965283403879, -0.32774403836286464, -0.8393348326625036, -0.31069095227432864, -1.0138990428038228, -1.113553549246578, -0.7034239253998589, 0.8271820949275663, -0.519786811592196, 0.8914021555281716, -0.20584274540227168, 0.4313513059678525, -0.9864902564857086, -0.20436446479808296, 1.0271101308985293, 0.3977623145977169, -2.0851691755619504, -0.38608085362753763, 1.0976547674094879, 0.02569737201520067, 1.329738348605468, 0.6923977685997789, -1.3698974468488612, 0.7273159622638423, -1.3851087630417689, 0.2126256600614712, 0.7868437431634705, 0.9946939922369861, 1.0419376274770307, 1.9197093653479402, 0.4579709149186474, -0.43739414581508373, -1.8200220083801453, 0.5214268465786515, 1.5127057302046207, 1.05854789346614, -0.7621704368187164, 1.1821148329004747, 0.9019647119620794, 0.6643240857553092, -0.27027782082696555, -0.2343337645178617, 1.9601467029372364, -0.1576974285765678, 3.1039706179545994, 1.9152121693519246, -0.40617860097904795, -0.4525593159083426, 1.1132272559054766, -0.1272987927246083, 0.10591784554155527, 0.5537660807130956, 1.747839436914774, 1.198421439497166, -0.3543102009931146, -0.7147949903577807, 1.5638937433623743, -1.538388551991037, -1.708136639586915, -0.4101622352903246, -0.15370788361330306, 0.5845321180087396, -0.49631956393662163, 0.5807077678300907, -0.6636132776420585, 0.9770494149285359, -0.5588039472969476, 1.8279311615106053, 2.8854946539643938, -0.5641279122913166, 0.22531406916132396, -1.1832509560811535, -0.8370547315857129, -0.16763525953112524, 0.822353082190749, -2.099969077035493, -0.2081469018881768, 0.1969609201370242, -0.7153505564461851, -0.28638115770560135, -0.31379090476137106, 0.5060850358394656, -1.6421122476537644, -0.5370339600195865, 1.5030828652764465, -0.9862104926777098, 1.219262358186885, -0.7576534120437336, 0.5211790969926914, 0.133297428692786, -0.0636962080273959, -0.6667452798814593, -1.6243343997867676, -1.1651592456450248, -1.0527430524225876, -0.10234725920133327, 1.3643870601321053, 1.4030515808414696, -2.012269938377903, 1.0174065190824706, -0.08045491454807774, -1.188352854684102, 0.038538463243009656, -1.2255621706444397, 1.0222041849531494, 0.3445221245703573, 1.4197903891193673, -2.3828242544535523, 0.8682291810686805, -0.849205425570052, -0.5220759918790872, 0.7076832806464833, -0.45829500707533516, 0.3610481961492052, 0.3880111005901055, -1.229703806742926, 0.5250606235218603, -0.8090094232939424, 0.3336579159943128, 1.0838268444477568, 0.42110601662112296, -0.1651435968950375, 1.4353309458010963, -2.23352939163213, -1.106190969587922, 0.05467911566928978, -0.21412168970917037, -0.02011170156358478, 0.1360198485279495, 0.4527390515597948, -1.1166605440859105, 0.46683783810244384, -0.7768699694325977, -1.2104288727637649, -2.2305323799444707, 0.7525397529392622, 0.2420123514260039, 1.3177294154755967, -0.21928482604354388, -0.42078736229678537, 0.2292612690636748, -1.1337011864234836, 0.7784040483366749, -0.16435726544382584, 2.3367421112413456, 0.653958488562369, -0.02442616800029478, 1.4206362742007097, -0.5205990250977472, 0.8520012029089022, 0.48496789006538205, 1.3724588771912236, 0.46996323706323156, -0.9450586406167689, 0.20560439409680772, 0.7155967862238738, -1.539022279964465, 0.40125483720164, -0.7874493820511634, -0.48668591347312057, -1.6800237257859143, 0.34050161298980697, 1.3238110893197421, 0.9402350208925312, 0.27858414310873886, 0.6936433019647541, -0.5578789382312359, 0.047510576787506066, -0.7092778343005581, 1.7128168888847486, 1.8951112050525236, 2.020097897400031, 0.826816096665099, -0.08765083113059012, 1.46469356722427, -0.6128476530709506, -2.1599397541812544, 0.29189882412521817, -0.8553612207090683, -0.8322646190293933, -0.42488145280383066, 1.2402612654447744, -0.34540048749453345, -0.524806667201488, -0.24657029493252883, 0.5310652702543163, -1.4211251316766773, -1.044799506595626, 0.6337740475367281, -0.4937459923933346, 0.27565238653284496, 0.574188717175847, 0.11231740085371042, 1.221018058511455, -1.0447519072639433, 1.240420886177343, 1.5785322894006037, -1.214054728447454, -0.47087189852681227, 0.7703018141087984, 0.3791134637533914, 1.2369453023512105, 0.8899427910348557, 1.0048659746718789, -0.3039276274978109, -0.45422880058650317, -1.889513245341983, -0.33321557479948966, 1.142051138707917, 1.241271202278612, -1.5348089858941854, -0.037388738858412644, 0.06317566035077637, 1.3415461607017682, 1.1178184384623726, 1.2062833975127722, 1.3815814411088798, 0.6312823597017325, -0.34201427822945335, 1.8158593025079113, -1.2002935330455127, 0.4037393654149868, -0.16775984864795104, -2.1651375412957, -1.6159775937868395, 0.8143250739228141, 0.9390551283940319, -2.2065984761391797, -0.1648358468672627, 0.4033147222002018, -1.3631638321732158, 0.055173759563652905, 0.7817349943700596, 0.4443925863366734, -0.03661886528170924, -0.3094723084949163, -0.5383260453370129, 1.5489441495046747, -1.2200957405847914, 1.0618588215433329, 0.8755439906811638, 0.14692925609321347, 1.072374058417564, -1.248113820606457, 0.5992706499172814, -1.0861379889270446, -0.3606507469656769, 0.4511111108535282, -1.394072583007193, 0.6335252724962995, -0.5308477673930801, -0.021553345327918524, -0.8619286737138865, 0.5985477219955989, 1.0322965939201707, 1.3443140390687063, 0.30423255123063997, -1.80744923781731, -0.6612002080472035, 0.09731239010891028, -0.2805901219767075, -0.5021957219283361, -0.3750111787662422, -0.5229949935680359, 1.0447345785377307, -0.5167755551280839, 0.5898296826536933, -0.353955918815089, -1.4074361794642227, -0.5773323532266047, -0.062391608648523604, -0.170542199411217, 0.3961760153734276, 0.42453934108360913, -0.6175367114672617, 0.24839393360687081, 0.07751504419963026, 1.3538034088981257, 0.14944022531397233, -0.3695899400029481, 1.171472089154433, -1.3169402912918173, 1.7164412468899761, -1.8738904302402795, 1.3267622955740073, 0.2984318253538398, -1.493509924375671, 1.3725055228961873, 0.46973888367566685, 0.022077825861280133, -0.8532211228496431, -0.4800798957014426, 0.7496027278620248, 0.7036205959377789, -0.8630460509504624, 2.0829004124947783, -0.9763496118813023, -1.39893239839033, 0.3890389949076658, 1.078286422677091, -0.16616092446861983, 0.9845238501256676, 1.399046868382752, -1.5293758152178734, -0.7344878022044229, 0.08643856296415443, 0.24159063425826455, -0.8312799642065746, -2.3483220392305704, 0.4073319010908038, 0.8891721227801825, 1.5002165464825878, -0.9402920769124197, 2.0978798241670225, -0.46835125303617775, 0.4586041807453435, -0.531420643930941, -0.7947781605000813, -0.13045267355085904, -0.4381399307923468, -0.036063275342828424, -0.8219260738765012, -0.6739111165206909, 1.5125278930569659, 0.2102827060623888, -1.7062128266877956, -0.8444391283187732, -0.1015202098228743, 0.6916113169633029, -0.03740192495146975, 0.6358631685148142, -0.755219146685518, 0.264639284698444, -1.556265145087867, -0.8746731330394788, -1.399278696482665, 0.3438833463404446, -0.26037310003786185, 0.2944955586658205, -0.4921575241717659, 1.2251437441387532, -0.13115865742748176, -0.18929004430506643, 0.41291561183780434, -1.0156684767077973, 0.07768368105557591, -0.3788046946385316, 1.0687852807273177, -0.5195182660341522, 1.6080068723643979, 0.3781915725584388, 0.8643711047662158, 0.2274568960054651, -0.03361410436885158, 1.1437022754644532, 0.006893300124106482, 0.37518174128776965, 1.6332232674025475, -1.0284160985602595, -1.5263866026659798, -0.4635043063482514, -0.7836061221932865, -0.0832168002671905, 1.0499102450813644, 0.2990220995657277, -0.8753213233446415, -1.2319503767949154, 0.9270729472244448, 0.3065362938580013, 1.2813829212535175, 0.734077491029042, 0.3547941514883431, -1.5131669941051393, -0.2069309710436486, 0.27852093049762744, -0.4936745815013806, 0.07858905532974123, 1.1299274273817244, -0.434464291679554, 0.9160176449142818, 1.5373230905306199, -1.5983950249909238, 0.2969776102726216, 0.5841760157864632, 0.3330307971633398, -1.0223414547078336, -1.159652302469975, -0.292747615230482, 1.663137377687227, 0.13589096697160918, -0.7165952161712258, 1.843564739761616, 0.5133667959715563, -0.6275389549194548, -0.1259996681221118, -0.6755598591374286, 0.9306161198636861, 1.4023465755272329, 0.6373602894067211, 0.4265231589619212, -1.0810813036797189, 0.46161964456927373, -1.1881374132278253, -0.8847478792496933, -0.5359788535126385, 0.8229482178600257, -0.10313745878550648, 1.329574949452031, -0.27800543986030013, 0.1737640349347533, 0.6175615447665722, -0.5725114152847793, 0.72282678608191, 0.4154823138046525, 0.012257892906862144, 1.3546077799617757, -2.2922217357268457, 0.11686361242156146, -0.46128523677725825]\n"
          ]
        },
        {
          "output_type": "display_data",
          "data": {
            "text/plain": [
              "<Figure size 432x288 with 1 Axes>"
            ],
            "image/png": "[encoded data removed]"
          },
          "metadata": {
            "needs_background": "light"
          }
        },
        {
          "output_type": "display_data",
          "data": {
            "text/plain": [
              "<Figure size 3000x1800 with 0 Axes>"
            ]
          },
          "metadata": {}
        }
      ]
    },
    {
      "cell_type": "code",
      "source": [
        ""
      ],
      "metadata": {
        "id": "NK31BZZAhbHG"
      },
      "execution_count": null,
      "outputs": []
    }
  ]
}